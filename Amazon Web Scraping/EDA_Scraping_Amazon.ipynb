{
 "cells": [
  {
   "cell_type": "markdown",
   "metadata": {},
   "source": [
    "<center><h1>Amazon Web Scrapping</h1></center>"
   ]
  },
  {
   "cell_type": "markdown",
   "metadata": {},
   "source": [
    "<h4>1) Importing the libraries</h4>\n",
    "\n"
   ]
  },
  {
   "cell_type": "code",
   "execution_count": 1,
   "metadata": {},
   "outputs": [],
   "source": [
    "import csv\n",
    "from bs4 import BeautifulSoup\n",
    "from selenium import webdriver\n",
    "from webdriver_manager.chrome import ChromeDriverManager\n",
    "import pandas as pd\n",
    "import numpy as np\n",
    "import seaborn as srn\n",
    "import matplotlib.pyplot as plt"
   ]
  },
  {
   "cell_type": "markdown",
   "metadata": {},
   "source": [
    "<h4>2) Setting the path of Chrome's driver</h4>"
   ]
  },
  {
   "cell_type": "code",
   "execution_count": 2,
   "metadata": {},
   "outputs": [
    {
     "name": "stderr",
     "output_type": "stream",
     "text": [
      "\n",
      "\n",
      "====== WebDriver manager ======\n",
      "Could not get version for google-chrome with the command:  powershell \"$ErrorActionPreference='silentlycontinue' ; (Get-Item -Path \"$env:PROGRAMFILES\\Google\\Chrome\\Application\\chrome.exe\").VersionInfo.FileVersion ; if (-not $? -or $? -match $error) { (Get-Item -Path \"$env:PROGRAMFILES(x86)\\Google\\Chrome\\Application\\chrome.exe\").VersionInfo.FileVersion } if (-not $? -or $? -match $error) { (Get-Item -Path \"$env:LOCALAPPDATA\\Google\\Chrome\\Application\\chrome.exe\").VersionInfo.FileVersion } if (-not $? -or $? -match $error) { reg query \"HKCU\\SOFTWARE\\Google\\Chrome\\BLBeacon\" /v version } if (-not $? -or $? -match $error) { reg query \"HKLM\\SOFTWARE\\Wow6432Node\\Microsoft\\Windows\\CurrentVersion\\Uninstall\\Google Chrome\" /v version }\"\n",
      "Current google-chrome version is UNKNOWN\n",
      "Get LATEST chromedriver version for UNKNOWN google-chrome\n",
      "Trying to download new driver from https://chromedriver.storage.googleapis.com/102.0.5005.61/chromedriver_win32.zip\n",
      "Driver has been saved in cache [C:\\Users\\Alfred\\.wdm\\drivers\\chromedriver\\win32\\102.0.5005.61]\n",
      "C:\\Users\\Alfred\\AppData\\Local\\Temp\\ipykernel_48604\\1503906442.py:1: DeprecationWarning: executable_path has been deprecated, please pass in a Service object\n",
      "  driver = webdriver.Chrome(ChromeDriverManager().install())\n"
     ]
    }
   ],
   "source": [
    "driver = webdriver.Chrome(ChromeDriverManager().install())"
   ]
  },
  {
   "cell_type": "markdown",
   "metadata": {},
   "source": [
    "<h4>3) Getting our search parameters</h4>"
   ]
  },
  {
   "cell_type": "code",
   "execution_count": 3,
   "metadata": {},
   "outputs": [],
   "source": [
    "search_term = input('Write the product name')\n",
    "search_term = search_term.replace(' ','+')  "
   ]
  },
  {
   "cell_type": "markdown",
   "metadata": {},
   "source": [
    "The user will decide which product the program will scrap data"
   ]
  },
  {
   "cell_type": "markdown",
   "metadata": {},
   "source": [
    "<h4>4) Iterating between products and pages</h4>"
   ]
  },
  {
   "cell_type": "markdown",
   "metadata": {},
   "source": [
    "A empty list is created to storage our product data throughout the iterations"
   ]
  },
  {
   "cell_type": "code",
   "execution_count": 4,
   "metadata": {},
   "outputs": [],
   "source": [
    "list_products = []"
   ]
  },
  {
   "cell_type": "markdown",
   "metadata": {},
   "source": [
    "The next block of code will navigate between the first page to the last one, and the URL will get the three variables that we defined for our search.\n",
    "\n",
    "The program will get the source code of the URL for each page (first for loop). The products are inside a tag div with a specific name, the program will iterate through the products (second for loop) and scrap five informations:\n",
    "1) Product Name\n",
    "2) Price\n",
    "3) Rating\n",
    "4) Review Count\n",
    "5) Link\n",
    "\n",
    "(I'm not considering sponsored products)<br>\n",
    "If it returns AtributeError, the variable will receive a NULL value. The result will be a tuple with our 5 variables and after each product, this tuple will be storaged in the variable 'list_products' which is the empty list created right above."
   ]
  },
  {
   "cell_type": "code",
   "execution_count": 5,
   "metadata": {},
   "outputs": [],
   "source": [
    "page = 0\n",
    "for page in range(1,8):\n",
    "    url = f'https://www.amazon.com.br/s?k={search_term}&page={page}&__mk_pt_BR=%C3%85M%C3%85%C5%BD%C3%95%C3%91&crid=32CUIJ6TTV5WT&qid=1646248377&sprefix={search_term}%2Caps%2C275&ref=sr_pg_{page}'    \n",
    "\n",
    "    driver.get(url)\n",
    "\n",
    "    soup = BeautifulSoup(driver.page_source, 'html.parser')\n",
    "    results = soup.find_all('div', {'data-component-type': 's-search-result'})\n",
    "    for product in results:\n",
    "        sponsored_product = product.find('span','a-color-base').text.strip()\n",
    "        if sponsored_product == \"Patrocinados\":\n",
    "            continue\n",
    "        \n",
    "        a_tag = product.h2.a\n",
    "        product_name = a_tag.text.strip()\n",
    "        link = 'https://www.amazon.com.br' + a_tag.get('href')\n",
    "        try:\n",
    "            price_span_tag = product.find('span', 'a-price')\n",
    "            price = price_span_tag.find('span', 'a-offscreen').text.strip()\n",
    "        except AttributeError:\n",
    "            price = ''\n",
    "                \n",
    "        try:\n",
    "            rating_icon = product.find('span','a-icon-alt') .text.strip()\n",
    "            review_count = product.find('span', {'class': 'a-size-base s-underline-text'}).text\n",
    "            review_count = str(review_count)\n",
    "            review_count = review_count.replace('.','')\n",
    "        except AttributeError:\n",
    "            rating = ''\n",
    "            review_count = ''\n",
    "\n",
    "        result = (product_name, price, rating_icon, review_count, link)\n",
    "        list_products.append(result)\n",
    "driver.close()"
   ]
  },
  {
   "cell_type": "markdown",
   "metadata": {},
   "source": [
    "I previously created a csv file, whose will get the products (list_products) and right after will be transformed in a pandas dataframe"
   ]
  },
  {
   "cell_type": "code",
   "execution_count": 6,
   "metadata": {},
   "outputs": [],
   "source": [
    "with open('products.csv','w', encoding = 'utf-8') as p:\n",
    "    writer = csv.writer(p)\n",
    "    writer.writerow(['PRODUCT DESCRIPTION','PRICE','RATING','REVIEW COUNT','LINK'])\n",
    "    writer.writerows(list_products)"
   ]
  },
  {
   "cell_type": "code",
   "execution_count": 7,
   "metadata": {},
   "outputs": [
    {
     "data": {
      "text/html": [
       "<div>\n",
       "<style scoped>\n",
       "    .dataframe tbody tr th:only-of-type {\n",
       "        vertical-align: middle;\n",
       "    }\n",
       "\n",
       "    .dataframe tbody tr th {\n",
       "        vertical-align: top;\n",
       "    }\n",
       "\n",
       "    .dataframe thead th {\n",
       "        text-align: right;\n",
       "    }\n",
       "</style>\n",
       "<table border=\"1\" class=\"dataframe\">\n",
       "  <thead>\n",
       "    <tr style=\"text-align: right;\">\n",
       "      <th></th>\n",
       "      <th>PRODUCT DESCRIPTION</th>\n",
       "      <th>PRICE</th>\n",
       "      <th>RATING</th>\n",
       "      <th>REVIEW COUNT</th>\n",
       "      <th>LINK</th>\n",
       "    </tr>\n",
       "  </thead>\n",
       "  <tbody>\n",
       "    <tr>\n",
       "      <th>0</th>\n",
       "      <td>Headphone Philips Wireless TAUH202BK/00 - Pret...</td>\n",
       "      <td>R$ 99,00</td>\n",
       "      <td>4,6 de 5 estrelas</td>\n",
       "      <td>5839.0</td>\n",
       "      <td>https://www.amazon.com.br/Ouvido-Philips-Wirel...</td>\n",
       "    </tr>\n",
       "    <tr>\n",
       "      <th>1</th>\n",
       "      <td>Headphone Bluetooth Joy P2 Preto Multilaser – ...</td>\n",
       "      <td>R$ 89,10</td>\n",
       "      <td>4,3 de 5 estrelas</td>\n",
       "      <td>2022.0</td>\n",
       "      <td>https://www.amazon.com.br/Headphone-Bluetooth-...</td>\n",
       "    </tr>\n",
       "    <tr>\n",
       "      <th>2</th>\n",
       "      <td>Mpow 059 Lite Fone Ouvido Bluetooth 5.0 Preto ...</td>\n",
       "      <td>R$ 132,18</td>\n",
       "      <td>4,9 de 5 estrelas</td>\n",
       "      <td>18.0</td>\n",
       "      <td>https://www.amazon.com.br/Bluetooth-Bateria-Mi...</td>\n",
       "    </tr>\n",
       "    <tr>\n",
       "      <th>3</th>\n",
       "      <td>Headphone Bluetooth Comfort Go i2GO Com Microf...</td>\n",
       "      <td>R$ 159,00</td>\n",
       "      <td>4,3 de 5 estrelas</td>\n",
       "      <td>1640.0</td>\n",
       "      <td>https://www.amazon.com.br/Headphone-Bluetooth-...</td>\n",
       "    </tr>\n",
       "    <tr>\n",
       "      <th>4</th>\n",
       "      <td>Headphone Philips bluetooth over-ear com micro...</td>\n",
       "      <td>R$ 209,78</td>\n",
       "      <td>3,9 de 5 estrelas</td>\n",
       "      <td>321.0</td>\n",
       "      <td>https://www.amazon.com.br/Headphone-bluetooth-...</td>\n",
       "    </tr>\n",
       "  </tbody>\n",
       "</table>\n",
       "</div>"
      ],
      "text/plain": [
       "                                 PRODUCT DESCRIPTION      PRICE  \\\n",
       "0  Headphone Philips Wireless TAUH202BK/00 - Pret...   R$ 99,00   \n",
       "1  Headphone Bluetooth Joy P2 Preto Multilaser – ...   R$ 89,10   \n",
       "2  Mpow 059 Lite Fone Ouvido Bluetooth 5.0 Preto ...  R$ 132,18   \n",
       "3  Headphone Bluetooth Comfort Go i2GO Com Microf...  R$ 159,00   \n",
       "4  Headphone Philips bluetooth over-ear com micro...  R$ 209,78   \n",
       "\n",
       "              RATING  REVIEW COUNT  \\\n",
       "0  4,6 de 5 estrelas        5839.0   \n",
       "1  4,3 de 5 estrelas        2022.0   \n",
       "2  4,9 de 5 estrelas          18.0   \n",
       "3  4,3 de 5 estrelas        1640.0   \n",
       "4  3,9 de 5 estrelas         321.0   \n",
       "\n",
       "                                                LINK  \n",
       "0  https://www.amazon.com.br/Ouvido-Philips-Wirel...  \n",
       "1  https://www.amazon.com.br/Headphone-Bluetooth-...  \n",
       "2  https://www.amazon.com.br/Bluetooth-Bateria-Mi...  \n",
       "3  https://www.amazon.com.br/Headphone-Bluetooth-...  \n",
       "4  https://www.amazon.com.br/Headphone-bluetooth-...  "
      ]
     },
     "execution_count": 7,
     "metadata": {},
     "output_type": "execute_result"
    }
   ],
   "source": [
    "df = pd.read_csv('products.csv')\n",
    "df.head()"
   ]
  },
  {
   "cell_type": "markdown",
   "metadata": {},
   "source": [
    "<h4>5) Doing some EDA (Exploratory Data Analysis)</h4>"
   ]
  },
  {
   "cell_type": "markdown",
   "metadata": {},
   "source": [
    "Checking the type of each column"
   ]
  },
  {
   "cell_type": "code",
   "execution_count": 8,
   "metadata": {},
   "outputs": [
    {
     "name": "stdout",
     "output_type": "stream",
     "text": [
      "PRODUCT DESCRIPTION     object\n",
      "PRICE                   object\n",
      "RATING                  object\n",
      "REVIEW COUNT           float64\n",
      "LINK                    object\n",
      "dtype: object\n"
     ]
    }
   ],
   "source": [
    "print(df.dtypes)"
   ]
  },
  {
   "cell_type": "markdown",
   "metadata": {},
   "source": [
    "Checking the number of null values in each column"
   ]
  },
  {
   "cell_type": "code",
   "execution_count": 9,
   "metadata": {},
   "outputs": [
    {
     "data": {
      "text/plain": [
       "PRODUCT DESCRIPTION     0\n",
       "PRICE                  20\n",
       "RATING                  0\n",
       "REVIEW COUNT           27\n",
       "LINK                    0\n",
       "dtype: int64"
      ]
     },
     "execution_count": 9,
     "metadata": {},
     "output_type": "execute_result"
    }
   ],
   "source": [
    "df.isnull().sum()"
   ]
  },
  {
   "cell_type": "markdown",
   "metadata": {},
   "source": [
    "Removing the NAn"
   ]
  },
  {
   "cell_type": "code",
   "execution_count": 10,
   "metadata": {},
   "outputs": [
    {
     "data": {
      "text/plain": [
       "PRODUCT DESCRIPTION    0\n",
       "PRICE                  0\n",
       "RATING                 0\n",
       "REVIEW COUNT           0\n",
       "LINK                   0\n",
       "dtype: int64"
      ]
     },
     "execution_count": 10,
     "metadata": {},
     "output_type": "execute_result"
    }
   ],
   "source": [
    "df = df.dropna()\n",
    "df = df.reset_index(drop=True)\n",
    "df.isnull().sum()"
   ]
  },
  {
   "cell_type": "markdown",
   "metadata": {},
   "source": [
    "Treating the 'RATING' column to get only the number"
   ]
  },
  {
   "cell_type": "code",
   "execution_count": 11,
   "metadata": {},
   "outputs": [
    {
     "data": {
      "text/html": [
       "<div>\n",
       "<style scoped>\n",
       "    .dataframe tbody tr th:only-of-type {\n",
       "        vertical-align: middle;\n",
       "    }\n",
       "\n",
       "    .dataframe tbody tr th {\n",
       "        vertical-align: top;\n",
       "    }\n",
       "\n",
       "    .dataframe thead th {\n",
       "        text-align: right;\n",
       "    }\n",
       "</style>\n",
       "<table border=\"1\" class=\"dataframe\">\n",
       "  <thead>\n",
       "    <tr style=\"text-align: right;\">\n",
       "      <th></th>\n",
       "      <th>PRODUCT DESCRIPTION</th>\n",
       "      <th>PRICE</th>\n",
       "      <th>RATING</th>\n",
       "      <th>REVIEW COUNT</th>\n",
       "      <th>LINK</th>\n",
       "    </tr>\n",
       "  </thead>\n",
       "  <tbody>\n",
       "    <tr>\n",
       "      <th>0</th>\n",
       "      <td>Headphone Philips Wireless TAUH202BK/00 - Pret...</td>\n",
       "      <td>R$ 99,00</td>\n",
       "      <td>4.6</td>\n",
       "      <td>5839.0</td>\n",
       "      <td>https://www.amazon.com.br/Ouvido-Philips-Wirel...</td>\n",
       "    </tr>\n",
       "    <tr>\n",
       "      <th>1</th>\n",
       "      <td>Headphone Bluetooth Joy P2 Preto Multilaser – ...</td>\n",
       "      <td>R$ 89,10</td>\n",
       "      <td>4.3</td>\n",
       "      <td>2022.0</td>\n",
       "      <td>https://www.amazon.com.br/Headphone-Bluetooth-...</td>\n",
       "    </tr>\n",
       "    <tr>\n",
       "      <th>2</th>\n",
       "      <td>Mpow 059 Lite Fone Ouvido Bluetooth 5.0 Preto ...</td>\n",
       "      <td>R$ 132,18</td>\n",
       "      <td>4.9</td>\n",
       "      <td>18.0</td>\n",
       "      <td>https://www.amazon.com.br/Bluetooth-Bateria-Mi...</td>\n",
       "    </tr>\n",
       "    <tr>\n",
       "      <th>3</th>\n",
       "      <td>Headphone Bluetooth Comfort Go i2GO Com Microf...</td>\n",
       "      <td>R$ 159,00</td>\n",
       "      <td>4.3</td>\n",
       "      <td>1640.0</td>\n",
       "      <td>https://www.amazon.com.br/Headphone-Bluetooth-...</td>\n",
       "    </tr>\n",
       "    <tr>\n",
       "      <th>4</th>\n",
       "      <td>Headphone Philips bluetooth over-ear com micro...</td>\n",
       "      <td>R$ 209,78</td>\n",
       "      <td>3.9</td>\n",
       "      <td>321.0</td>\n",
       "      <td>https://www.amazon.com.br/Headphone-bluetooth-...</td>\n",
       "    </tr>\n",
       "  </tbody>\n",
       "</table>\n",
       "</div>"
      ],
      "text/plain": [
       "                                 PRODUCT DESCRIPTION      PRICE  RATING  \\\n",
       "0  Headphone Philips Wireless TAUH202BK/00 - Pret...   R$ 99,00     4.6   \n",
       "1  Headphone Bluetooth Joy P2 Preto Multilaser – ...   R$ 89,10     4.3   \n",
       "2  Mpow 059 Lite Fone Ouvido Bluetooth 5.0 Preto ...  R$ 132,18     4.9   \n",
       "3  Headphone Bluetooth Comfort Go i2GO Com Microf...  R$ 159,00     4.3   \n",
       "4  Headphone Philips bluetooth over-ear com micro...  R$ 209,78     3.9   \n",
       "\n",
       "   REVIEW COUNT                                               LINK  \n",
       "0        5839.0  https://www.amazon.com.br/Ouvido-Philips-Wirel...  \n",
       "1        2022.0  https://www.amazon.com.br/Headphone-Bluetooth-...  \n",
       "2          18.0  https://www.amazon.com.br/Bluetooth-Bateria-Mi...  \n",
       "3        1640.0  https://www.amazon.com.br/Headphone-Bluetooth-...  \n",
       "4         321.0  https://www.amazon.com.br/Headphone-bluetooth-...  "
      ]
     },
     "execution_count": 11,
     "metadata": {},
     "output_type": "execute_result"
    }
   ],
   "source": [
    "df['RATING'] = df['RATING'].str[:3].replace({',':'.'}, regex=True).astype(float)\n",
    "df.head()"
   ]
  },
  {
   "cell_type": "markdown",
   "metadata": {},
   "source": [
    "The column 'REVIEW COUNT' will get only integer values"
   ]
  },
  {
   "cell_type": "code",
   "execution_count": 12,
   "metadata": {},
   "outputs": [
    {
     "data": {
      "text/html": [
       "<div>\n",
       "<style scoped>\n",
       "    .dataframe tbody tr th:only-of-type {\n",
       "        vertical-align: middle;\n",
       "    }\n",
       "\n",
       "    .dataframe tbody tr th {\n",
       "        vertical-align: top;\n",
       "    }\n",
       "\n",
       "    .dataframe thead th {\n",
       "        text-align: right;\n",
       "    }\n",
       "</style>\n",
       "<table border=\"1\" class=\"dataframe\">\n",
       "  <thead>\n",
       "    <tr style=\"text-align: right;\">\n",
       "      <th></th>\n",
       "      <th>PRODUCT DESCRIPTION</th>\n",
       "      <th>PRICE</th>\n",
       "      <th>RATING</th>\n",
       "      <th>REVIEW COUNT</th>\n",
       "      <th>LINK</th>\n",
       "    </tr>\n",
       "  </thead>\n",
       "  <tbody>\n",
       "    <tr>\n",
       "      <th>0</th>\n",
       "      <td>Headphone Philips Wireless TAUH202BK/00 - Pret...</td>\n",
       "      <td>R$ 99,00</td>\n",
       "      <td>4.6</td>\n",
       "      <td>5839</td>\n",
       "      <td>https://www.amazon.com.br/Ouvido-Philips-Wirel...</td>\n",
       "    </tr>\n",
       "    <tr>\n",
       "      <th>1</th>\n",
       "      <td>Headphone Bluetooth Joy P2 Preto Multilaser – ...</td>\n",
       "      <td>R$ 89,10</td>\n",
       "      <td>4.3</td>\n",
       "      <td>2022</td>\n",
       "      <td>https://www.amazon.com.br/Headphone-Bluetooth-...</td>\n",
       "    </tr>\n",
       "    <tr>\n",
       "      <th>2</th>\n",
       "      <td>Mpow 059 Lite Fone Ouvido Bluetooth 5.0 Preto ...</td>\n",
       "      <td>R$ 132,18</td>\n",
       "      <td>4.9</td>\n",
       "      <td>18</td>\n",
       "      <td>https://www.amazon.com.br/Bluetooth-Bateria-Mi...</td>\n",
       "    </tr>\n",
       "    <tr>\n",
       "      <th>3</th>\n",
       "      <td>Headphone Bluetooth Comfort Go i2GO Com Microf...</td>\n",
       "      <td>R$ 159,00</td>\n",
       "      <td>4.3</td>\n",
       "      <td>1640</td>\n",
       "      <td>https://www.amazon.com.br/Headphone-Bluetooth-...</td>\n",
       "    </tr>\n",
       "    <tr>\n",
       "      <th>4</th>\n",
       "      <td>Headphone Philips bluetooth over-ear com micro...</td>\n",
       "      <td>R$ 209,78</td>\n",
       "      <td>3.9</td>\n",
       "      <td>321</td>\n",
       "      <td>https://www.amazon.com.br/Headphone-bluetooth-...</td>\n",
       "    </tr>\n",
       "  </tbody>\n",
       "</table>\n",
       "</div>"
      ],
      "text/plain": [
       "                                 PRODUCT DESCRIPTION      PRICE  RATING  \\\n",
       "0  Headphone Philips Wireless TAUH202BK/00 - Pret...   R$ 99,00     4.6   \n",
       "1  Headphone Bluetooth Joy P2 Preto Multilaser – ...   R$ 89,10     4.3   \n",
       "2  Mpow 059 Lite Fone Ouvido Bluetooth 5.0 Preto ...  R$ 132,18     4.9   \n",
       "3  Headphone Bluetooth Comfort Go i2GO Com Microf...  R$ 159,00     4.3   \n",
       "4  Headphone Philips bluetooth over-ear com micro...  R$ 209,78     3.9   \n",
       "\n",
       "   REVIEW COUNT                                               LINK  \n",
       "0          5839  https://www.amazon.com.br/Ouvido-Philips-Wirel...  \n",
       "1          2022  https://www.amazon.com.br/Headphone-Bluetooth-...  \n",
       "2            18  https://www.amazon.com.br/Bluetooth-Bateria-Mi...  \n",
       "3          1640  https://www.amazon.com.br/Headphone-Bluetooth-...  \n",
       "4           321  https://www.amazon.com.br/Headphone-bluetooth-...  "
      ]
     },
     "execution_count": 12,
     "metadata": {},
     "output_type": "execute_result"
    }
   ],
   "source": [
    "#df['REVIEW COUNT'] = df['REVIEW COUNT'].replace({'.':''}, regex=True).astype(int)\n",
    "df['REVIEW COUNT'] = df['REVIEW COUNT'].astype('int')\n",
    "#df['REVIEW COUNT'] = df['REVIEW COUNT'].str.replace({'.':','},regex=True)\n",
    "df.head()"
   ]
  },
  {
   "cell_type": "code",
   "execution_count": 13,
   "metadata": {},
   "outputs": [
    {
     "data": {
      "text/plain": [
       "PRODUCT DESCRIPTION     object\n",
       "PRICE                   object\n",
       "RATING                 float64\n",
       "REVIEW COUNT             int32\n",
       "LINK                    object\n",
       "dtype: object"
      ]
     },
     "execution_count": 13,
     "metadata": {},
     "output_type": "execute_result"
    }
   ],
   "source": [
    "df.dtypes"
   ]
  },
  {
   "cell_type": "markdown",
   "metadata": {},
   "source": [
    "Removing the 'R$' part from the price"
   ]
  },
  {
   "cell_type": "code",
   "execution_count": 14,
   "metadata": {},
   "outputs": [],
   "source": [
    "remove_coin = df['PRICE'].str.split('$').str[1]\n",
    "df['PRICE'] = remove_coin.str.strip()\n",
    "#price_integer = \n"
   ]
  },
  {
   "cell_type": "markdown",
   "metadata": {},
   "source": [
    "To correct the column 'Price' i had to split the numbers in two parts (integer part and decimal part) and replace ',' to a empty value. Then I had to put these two parts together again with '.' to separate them. It's a not so pretty solution but it worked, and I intend to optimize this part."
   ]
  },
  {
   "cell_type": "markdown",
   "metadata": {},
   "source": [
    "<h5>Splitting and Replacing</h5>"
   ]
  },
  {
   "cell_type": "code",
   "execution_count": 15,
   "metadata": {},
   "outputs": [
    {
     "name": "stderr",
     "output_type": "stream",
     "text": [
      "C:\\Users\\Alfred\\AppData\\Local\\Temp\\ipykernel_48604\\1546184746.py:2: FutureWarning: The default value of regex will change from True to False in a future version. In addition, single character regular expressions will *not* be treated as literal strings when regex=True.\n",
      "  df['integer_part'] = df['integer_part'].str.replace('.','')\n"
     ]
    },
    {
     "data": {
      "text/plain": [
       "0       99\n",
       "1       89\n",
       "2      132\n",
       "3      159\n",
       "4      209\n",
       "      ... \n",
       "254    149\n",
       "255    135\n",
       "256    740\n",
       "257    234\n",
       "258    149\n",
       "Name: integer_part, Length: 259, dtype: object"
      ]
     },
     "execution_count": 15,
     "metadata": {},
     "output_type": "execute_result"
    }
   ],
   "source": [
    "\n",
    "df['integer_part'] = df['PRICE'].str.split(',').str[0]\n",
    "df['integer_part'] = df['integer_part'].str.replace('.','')\n",
    "df['integer_part']"
   ]
  },
  {
   "cell_type": "code",
   "execution_count": 16,
   "metadata": {},
   "outputs": [
    {
     "data": {
      "text/plain": [
       "0      00\n",
       "1      10\n",
       "2      18\n",
       "3      00\n",
       "4      78\n",
       "       ..\n",
       "254    90\n",
       "255    42\n",
       "256    95\n",
       "257    90\n",
       "258    98\n",
       "Name: decimal_part, Length: 259, dtype: object"
      ]
     },
     "execution_count": 16,
     "metadata": {},
     "output_type": "execute_result"
    }
   ],
   "source": [
    "df['decimal_part'] = df['PRICE'].str.split(',').str[1]\n",
    "df['decimal_part']"
   ]
  },
  {
   "cell_type": "markdown",
   "metadata": {},
   "source": [
    "<h5>Joining the parts</h5>"
   ]
  },
  {
   "cell_type": "code",
   "execution_count": 17,
   "metadata": {},
   "outputs": [],
   "source": [
    "df['PRICE_CORRECT'] = df['integer_part'] + \".\" + df['decimal_part']\n",
    "df['PRICE_CORRECT'] = df['PRICE_CORRECT'].astype('string')\n",
    "df['PRICE_CORRECT'] = df['PRICE_CORRECT'].astype('float')"
   ]
  },
  {
   "cell_type": "code",
   "execution_count": 18,
   "metadata": {},
   "outputs": [],
   "source": [
    "df['PRICE'] = df['PRICE_CORRECT']\n",
    "df.drop(['integer_part','decimal_part','PRICE_CORRECT'], axis=1, inplace=True)\n"
   ]
  },
  {
   "cell_type": "markdown",
   "metadata": {},
   "source": [
    "Now that the dataframe is polished, let's check how the variables 'Rating' and 'Price' are distributed. It's possible to see that the most part of Power Banks in Amazon have a sort of good quality, due to de high rating. And the Average price is R$100,00 with some outliers. "
   ]
  },
  {
   "cell_type": "code",
   "execution_count": 33,
   "metadata": {},
   "outputs": [],
   "source": [
    "import plotly.express as px\n",
    "import plotly.io as pio\n",
    "pio.renderers.default = \"notebook_connected\"\n"
   ]
  },
  {
   "cell_type": "code",
   "execution_count": 36,
   "metadata": {},
   "outputs": [
    {
     "data": {
      "text/html": [
       "<div>                            <div id=\"e94ea077-9d35-42ea-bc46-2a96224db7f5\" class=\"plotly-graph-div\" style=\"height:350px; width:800px;\"></div>            <script type=\"text/javascript\">                require([\"plotly\"], function(Plotly) {                    window.PLOTLYENV=window.PLOTLYENV || {};                                    if (document.getElementById(\"e94ea077-9d35-42ea-bc46-2a96224db7f5\")) {                    Plotly.newPlot(                        \"e94ea077-9d35-42ea-bc46-2a96224db7f5\",                        [{\"alignmentgroup\":\"True\",\"bingroup\":\"x\",\"hovertemplate\":\"variable=RATING<br>value=%{x}<br>count=%{y}<extra></extra>\",\"legendgroup\":\"RATING\",\"marker\":{\"color\":\"#520AA9\",\"pattern\":{\"shape\":\"\"}},\"name\":\"RATING\",\"offsetgroup\":\"RATING\",\"orientation\":\"v\",\"showlegend\":true,\"x\":[4.6,4.3,4.9,4.3,3.9,4.8,4.1,4.8,4.8,4.7,4.8,4.6,4.4,4.8,4.4,4.6,4.0,5.0,4.5,4.7,4.6,4.6,4.0,4.2,4.8,4.0,4.1,4.4,4.7,4.6,4.7,4.8,4.3,4.3,4.3,4.5,4.7,4.2,4.1,4.5,4.1,4.3,4.3,4.3,5.0,4.1,4.3,4.3,4.0,3.9,4.5,4.4,3.9,3.0,4.7,4.3,3.7,4.3,4.2,4.4,4.3,4.6,4.5,4.0,4.6,4.7,4.5,4.7,4.2,4.6,4.4,4.4,4.3,3.9,4.6,4.1,4.3,4.7,5.0,4.4,4.4,4.4,4.6,4.2,3.1,4.3,4.6,4.5,4.5,4.4,3.9,4.2,3.4,4.5,4.1,4.2,4.5,4.7,5.0,4.4,4.8,3.9,4.2,4.2,4.3,4.6,3.9,4.6,4.4,4.0,5.0,4.5,4.2,4.3,4.1,4.4,4.5,3.6,4.5,4.7,4.1,3.5,4.2,3.9,4.7,4.4,4.0,3.0,4.3,3.9,4.1,4.3,4.3,4.1,3.9,4.3,3.5,4.4,2.7,4.0,3.7,3.7,4.4,4.4,4.4,4.2,4.7,4.6,5.0,4.0,4.4,4.4,4.3,3.9,4.1,4.3,3.9,4.3,4.5,4.1,4.2,4.2,5.0,5.0,4.3,4.5,4.3,4.0,3.9,4.6,4.8,4.2,5.0,5.0,4.3,4.2,4.5,4.3,4.0,4.8,3.9,4.8,2.2,4.3,4.4,4.4,4.0,3.8,4.3,4.2,4.4,4.1,5.0,1.0,5.0,3.9,4.2,4.6,4.5,3.3,4.3,4.6,4.0,4.2,2.8,4.3,4.5,4.1,4.3,4.3,4.6,4.0,4.2,4.3,2.8,4.3,4.5,4.1,4.3,4.3,4.6,4.4,4.5,4.4,3.6,3.7,2.4,4.6,4.5,4.3,4.3,4.0,4.1,4.1,4.4,3.9,4.3,3.9,4.5,4.3,3.8,4.6,3.8,5.0,4.5,4.0,4.8,4.0,4.8,4.4,2.8,2.5,4.4,4.2,4.5,4.1,4.4,4.7,3.5],\"xaxis\":\"x\",\"yaxis\":\"y\",\"type\":\"histogram\"}],                        {\"template\":{\"data\":{\"histogram2dcontour\":[{\"type\":\"histogram2dcontour\",\"colorbar\":{\"outlinewidth\":0,\"ticks\":\"\"},\"colorscale\":[[0.0,\"#0d0887\"],[0.1111111111111111,\"#46039f\"],[0.2222222222222222,\"#7201a8\"],[0.3333333333333333,\"#9c179e\"],[0.4444444444444444,\"#bd3786\"],[0.5555555555555556,\"#d8576b\"],[0.6666666666666666,\"#ed7953\"],[0.7777777777777778,\"#fb9f3a\"],[0.8888888888888888,\"#fdca26\"],[1.0,\"#f0f921\"]]}],\"choropleth\":[{\"type\":\"choropleth\",\"colorbar\":{\"outlinewidth\":0,\"ticks\":\"\"}}],\"histogram2d\":[{\"type\":\"histogram2d\",\"colorbar\":{\"outlinewidth\":0,\"ticks\":\"\"},\"colorscale\":[[0.0,\"#0d0887\"],[0.1111111111111111,\"#46039f\"],[0.2222222222222222,\"#7201a8\"],[0.3333333333333333,\"#9c179e\"],[0.4444444444444444,\"#bd3786\"],[0.5555555555555556,\"#d8576b\"],[0.6666666666666666,\"#ed7953\"],[0.7777777777777778,\"#fb9f3a\"],[0.8888888888888888,\"#fdca26\"],[1.0,\"#f0f921\"]]}],\"heatmap\":[{\"type\":\"heatmap\",\"colorbar\":{\"outlinewidth\":0,\"ticks\":\"\"},\"colorscale\":[[0.0,\"#0d0887\"],[0.1111111111111111,\"#46039f\"],[0.2222222222222222,\"#7201a8\"],[0.3333333333333333,\"#9c179e\"],[0.4444444444444444,\"#bd3786\"],[0.5555555555555556,\"#d8576b\"],[0.6666666666666666,\"#ed7953\"],[0.7777777777777778,\"#fb9f3a\"],[0.8888888888888888,\"#fdca26\"],[1.0,\"#f0f921\"]]}],\"heatmapgl\":[{\"type\":\"heatmapgl\",\"colorbar\":{\"outlinewidth\":0,\"ticks\":\"\"},\"colorscale\":[[0.0,\"#0d0887\"],[0.1111111111111111,\"#46039f\"],[0.2222222222222222,\"#7201a8\"],[0.3333333333333333,\"#9c179e\"],[0.4444444444444444,\"#bd3786\"],[0.5555555555555556,\"#d8576b\"],[0.6666666666666666,\"#ed7953\"],[0.7777777777777778,\"#fb9f3a\"],[0.8888888888888888,\"#fdca26\"],[1.0,\"#f0f921\"]]}],\"contourcarpet\":[{\"type\":\"contourcarpet\",\"colorbar\":{\"outlinewidth\":0,\"ticks\":\"\"}}],\"contour\":[{\"type\":\"contour\",\"colorbar\":{\"outlinewidth\":0,\"ticks\":\"\"},\"colorscale\":[[0.0,\"#0d0887\"],[0.1111111111111111,\"#46039f\"],[0.2222222222222222,\"#7201a8\"],[0.3333333333333333,\"#9c179e\"],[0.4444444444444444,\"#bd3786\"],[0.5555555555555556,\"#d8576b\"],[0.6666666666666666,\"#ed7953\"],[0.7777777777777778,\"#fb9f3a\"],[0.8888888888888888,\"#fdca26\"],[1.0,\"#f0f921\"]]}],\"surface\":[{\"type\":\"surface\",\"colorbar\":{\"outlinewidth\":0,\"ticks\":\"\"},\"colorscale\":[[0.0,\"#0d0887\"],[0.1111111111111111,\"#46039f\"],[0.2222222222222222,\"#7201a8\"],[0.3333333333333333,\"#9c179e\"],[0.4444444444444444,\"#bd3786\"],[0.5555555555555556,\"#d8576b\"],[0.6666666666666666,\"#ed7953\"],[0.7777777777777778,\"#fb9f3a\"],[0.8888888888888888,\"#fdca26\"],[1.0,\"#f0f921\"]]}],\"mesh3d\":[{\"type\":\"mesh3d\",\"colorbar\":{\"outlinewidth\":0,\"ticks\":\"\"}}],\"scatter\":[{\"fillpattern\":{\"fillmode\":\"overlay\",\"size\":10,\"solidity\":0.2},\"type\":\"scatter\"}],\"parcoords\":[{\"type\":\"parcoords\",\"line\":{\"colorbar\":{\"outlinewidth\":0,\"ticks\":\"\"}}}],\"scatterpolargl\":[{\"type\":\"scatterpolargl\",\"marker\":{\"colorbar\":{\"outlinewidth\":0,\"ticks\":\"\"}}}],\"bar\":[{\"error_x\":{\"color\":\"#2a3f5f\"},\"error_y\":{\"color\":\"#2a3f5f\"},\"marker\":{\"line\":{\"color\":\"#E5ECF6\",\"width\":0.5},\"pattern\":{\"fillmode\":\"overlay\",\"size\":10,\"solidity\":0.2}},\"type\":\"bar\"}],\"scattergeo\":[{\"type\":\"scattergeo\",\"marker\":{\"colorbar\":{\"outlinewidth\":0,\"ticks\":\"\"}}}],\"scatterpolar\":[{\"type\":\"scatterpolar\",\"marker\":{\"colorbar\":{\"outlinewidth\":0,\"ticks\":\"\"}}}],\"histogram\":[{\"marker\":{\"pattern\":{\"fillmode\":\"overlay\",\"size\":10,\"solidity\":0.2}},\"type\":\"histogram\"}],\"scattergl\":[{\"type\":\"scattergl\",\"marker\":{\"colorbar\":{\"outlinewidth\":0,\"ticks\":\"\"}}}],\"scatter3d\":[{\"type\":\"scatter3d\",\"line\":{\"colorbar\":{\"outlinewidth\":0,\"ticks\":\"\"}},\"marker\":{\"colorbar\":{\"outlinewidth\":0,\"ticks\":\"\"}}}],\"scattermapbox\":[{\"type\":\"scattermapbox\",\"marker\":{\"colorbar\":{\"outlinewidth\":0,\"ticks\":\"\"}}}],\"scatterternary\":[{\"type\":\"scatterternary\",\"marker\":{\"colorbar\":{\"outlinewidth\":0,\"ticks\":\"\"}}}],\"scattercarpet\":[{\"type\":\"scattercarpet\",\"marker\":{\"colorbar\":{\"outlinewidth\":0,\"ticks\":\"\"}}}],\"carpet\":[{\"aaxis\":{\"endlinecolor\":\"#2a3f5f\",\"gridcolor\":\"white\",\"linecolor\":\"white\",\"minorgridcolor\":\"white\",\"startlinecolor\":\"#2a3f5f\"},\"baxis\":{\"endlinecolor\":\"#2a3f5f\",\"gridcolor\":\"white\",\"linecolor\":\"white\",\"minorgridcolor\":\"white\",\"startlinecolor\":\"#2a3f5f\"},\"type\":\"carpet\"}],\"table\":[{\"cells\":{\"fill\":{\"color\":\"#EBF0F8\"},\"line\":{\"color\":\"white\"}},\"header\":{\"fill\":{\"color\":\"#C8D4E3\"},\"line\":{\"color\":\"white\"}},\"type\":\"table\"}],\"barpolar\":[{\"marker\":{\"line\":{\"color\":\"#E5ECF6\",\"width\":0.5},\"pattern\":{\"fillmode\":\"overlay\",\"size\":10,\"solidity\":0.2}},\"type\":\"barpolar\"}],\"pie\":[{\"automargin\":true,\"type\":\"pie\"}]},\"layout\":{\"autotypenumbers\":\"strict\",\"colorway\":[\"#636efa\",\"#EF553B\",\"#00cc96\",\"#ab63fa\",\"#FFA15A\",\"#19d3f3\",\"#FF6692\",\"#B6E880\",\"#FF97FF\",\"#FECB52\"],\"font\":{\"color\":\"#2a3f5f\"},\"hovermode\":\"closest\",\"hoverlabel\":{\"align\":\"left\"},\"paper_bgcolor\":\"white\",\"plot_bgcolor\":\"#E5ECF6\",\"polar\":{\"bgcolor\":\"#E5ECF6\",\"angularaxis\":{\"gridcolor\":\"white\",\"linecolor\":\"white\",\"ticks\":\"\"},\"radialaxis\":{\"gridcolor\":\"white\",\"linecolor\":\"white\",\"ticks\":\"\"}},\"ternary\":{\"bgcolor\":\"#E5ECF6\",\"aaxis\":{\"gridcolor\":\"white\",\"linecolor\":\"white\",\"ticks\":\"\"},\"baxis\":{\"gridcolor\":\"white\",\"linecolor\":\"white\",\"ticks\":\"\"},\"caxis\":{\"gridcolor\":\"white\",\"linecolor\":\"white\",\"ticks\":\"\"}},\"coloraxis\":{\"colorbar\":{\"outlinewidth\":0,\"ticks\":\"\"}},\"colorscale\":{\"sequential\":[[0.0,\"#0d0887\"],[0.1111111111111111,\"#46039f\"],[0.2222222222222222,\"#7201a8\"],[0.3333333333333333,\"#9c179e\"],[0.4444444444444444,\"#bd3786\"],[0.5555555555555556,\"#d8576b\"],[0.6666666666666666,\"#ed7953\"],[0.7777777777777778,\"#fb9f3a\"],[0.8888888888888888,\"#fdca26\"],[1.0,\"#f0f921\"]],\"sequentialminus\":[[0.0,\"#0d0887\"],[0.1111111111111111,\"#46039f\"],[0.2222222222222222,\"#7201a8\"],[0.3333333333333333,\"#9c179e\"],[0.4444444444444444,\"#bd3786\"],[0.5555555555555556,\"#d8576b\"],[0.6666666666666666,\"#ed7953\"],[0.7777777777777778,\"#fb9f3a\"],[0.8888888888888888,\"#fdca26\"],[1.0,\"#f0f921\"]],\"diverging\":[[0,\"#8e0152\"],[0.1,\"#c51b7d\"],[0.2,\"#de77ae\"],[0.3,\"#f1b6da\"],[0.4,\"#fde0ef\"],[0.5,\"#f7f7f7\"],[0.6,\"#e6f5d0\"],[0.7,\"#b8e186\"],[0.8,\"#7fbc41\"],[0.9,\"#4d9221\"],[1,\"#276419\"]]},\"xaxis\":{\"gridcolor\":\"white\",\"linecolor\":\"white\",\"ticks\":\"\",\"title\":{\"standoff\":15},\"zerolinecolor\":\"white\",\"automargin\":true,\"zerolinewidth\":2},\"yaxis\":{\"gridcolor\":\"white\",\"linecolor\":\"white\",\"ticks\":\"\",\"title\":{\"standoff\":15},\"zerolinecolor\":\"white\",\"automargin\":true,\"zerolinewidth\":2},\"scene\":{\"xaxis\":{\"backgroundcolor\":\"#E5ECF6\",\"gridcolor\":\"white\",\"linecolor\":\"white\",\"showbackground\":true,\"ticks\":\"\",\"zerolinecolor\":\"white\",\"gridwidth\":2},\"yaxis\":{\"backgroundcolor\":\"#E5ECF6\",\"gridcolor\":\"white\",\"linecolor\":\"white\",\"showbackground\":true,\"ticks\":\"\",\"zerolinecolor\":\"white\",\"gridwidth\":2},\"zaxis\":{\"backgroundcolor\":\"#E5ECF6\",\"gridcolor\":\"white\",\"linecolor\":\"white\",\"showbackground\":true,\"ticks\":\"\",\"zerolinecolor\":\"white\",\"gridwidth\":2}},\"shapedefaults\":{\"line\":{\"color\":\"#2a3f5f\"}},\"annotationdefaults\":{\"arrowcolor\":\"#2a3f5f\",\"arrowhead\":0,\"arrowwidth\":1},\"geo\":{\"bgcolor\":\"white\",\"landcolor\":\"#E5ECF6\",\"subunitcolor\":\"white\",\"showland\":true,\"showlakes\":true,\"lakecolor\":\"white\"},\"title\":{\"x\":0.05},\"mapbox\":{\"style\":\"light\"}}},\"xaxis\":{\"anchor\":\"y\",\"domain\":[0.0,1.0],\"title\":{\"text\":\"value\"}},\"yaxis\":{\"anchor\":\"x\",\"domain\":[0.0,1.0],\"title\":{\"text\":\"count\"}},\"legend\":{\"title\":{\"text\":\"variable\"},\"tracegroupgap\":0},\"title\":{\"text\":\"RATING DISTRIBUTION\"},\"barmode\":\"relative\",\"height\":350,\"width\":800},                        {\"responsive\": true}                    ).then(function(){\n",
       "                            \n",
       "var gd = document.getElementById('e94ea077-9d35-42ea-bc46-2a96224db7f5');\n",
       "var x = new MutationObserver(function (mutations, observer) {{\n",
       "        var display = window.getComputedStyle(gd).display;\n",
       "        if (!display || display === 'none') {{\n",
       "            console.log([gd, 'removed!']);\n",
       "            Plotly.purge(gd);\n",
       "            observer.disconnect();\n",
       "        }}\n",
       "}});\n",
       "\n",
       "// Listen for the removal of the full notebook cells\n",
       "var notebookContainer = gd.closest('#notebook-container');\n",
       "if (notebookContainer) {{\n",
       "    x.observe(notebookContainer, {childList: true});\n",
       "}}\n",
       "\n",
       "// Listen for the clearing of the current output cell\n",
       "var outputEl = gd.closest('.output');\n",
       "if (outputEl) {{\n",
       "    x.observe(outputEl, {childList: true});\n",
       "}}\n",
       "\n",
       "                        })                };                });            </script>        </div>"
      ]
     },
     "metadata": {},
     "output_type": "display_data"
    }
   ],
   "source": [
    "fig1 = px.histogram(df['RATING'], color_discrete_sequence=['#520AA9'], title='RATING DISTRIBUTION', width=800, height=350)\n",
    "fig1.show()"
   ]
  },
  {
   "cell_type": "code",
   "execution_count": 37,
   "metadata": {},
   "outputs": [
    {
     "data": {
      "text/html": [
       "<div>                            <div id=\"bd231cad-4c76-4906-a967-6c6bf234ead1\" class=\"plotly-graph-div\" style=\"height:350px; width:800px;\"></div>            <script type=\"text/javascript\">                require([\"plotly\"], function(Plotly) {                    window.PLOTLYENV=window.PLOTLYENV || {};                                    if (document.getElementById(\"bd231cad-4c76-4906-a967-6c6bf234ead1\")) {                    Plotly.newPlot(                        \"bd231cad-4c76-4906-a967-6c6bf234ead1\",                        [{\"alignmentgroup\":\"True\",\"bingroup\":\"x\",\"hovertemplate\":\"variable=PRICE<br>value=%{x}<br>count=%{y}<extra></extra>\",\"legendgroup\":\"PRICE\",\"marker\":{\"color\":\"#520AA9\",\"pattern\":{\"shape\":\"\"}},\"name\":\"PRICE\",\"offsetgroup\":\"PRICE\",\"orientation\":\"v\",\"showlegend\":true,\"x\":[99.0,89.1,132.18,159.0,209.78,189.0,58.9,237.21,189.0,379.0,209.99,104.9,339.9,203.0,287.8,326.69,94.9,117.42,189.0,974.14,101.92,246.65,229.99,223.24,199.0,94.9,157.34,151.9,203.0,374.99,215.0,489.99,84.9,79.99,876.81,340.0,435.16,299.0,99.0,373.59,114.9,178.9,89.0,268.0,351.04,959.0,226.7,67.6,248.0,79.0,509.0,180.99,142.9,189.0,1690.67,78.5,75.0,179.0,129.99,49.9,299.0,249.0,380.89,93.82,178.9,159.99,549.9,285.21,458.99,1212.26,275.85,56.23,66.0,94.9,206.67,249.0,324.35,169.89,89.98,164.0,356.71,629.1,147.7,54.99,78.12,204.9,129.0,202.0,189.99,159.0,239.0,193.9,110.99,404.91,119.9,65.0,174.99,456.6,430.9,1163.98,1890.42,89.0,78.36,312.9,399.0,147.7,49.85,1499.9,192.84,99.0,169.0,129.0,394.95,229.9,1981.61,459.57,159.0,1489.0,419.0,1960.0,655.51,106.8,230.0,485.19,270.0,281.9,1363.04,373.66,299.0,123.05,49.0,98.6,299.0,49.0,123.05,98.6,238.82,189.9,79.99,239.9,90.26,116.2,744.9,420.0,155.0,189.9,177.99,499.99,286.47,245.52,858.7,452.89,64.9,394.0,29.9,229.9,295.0,310.0,89.0,85.28,71.51,85.9,355.17,1100.0,186.06,1176.64,680.08,49.99,115.0,84.46,449.1,85.9,355.17,1100.0,186.06,129.9,1176.64,680.08,49.99,449.99,115.0,449.1,49.98,329.0,449.1,199.0,120.0,97.8,379.0,128.83,249.0,499.5,354.6,164.99,547.78,289.0,539.9,279.9,309.0,167.72,279.0,108.0,700.0,399.9,71.91,144.68,69.9,499.0,346.0,749.99,234.9,700.0,399.9,2429.0,71.91,144.68,69.9,499.0,346.0,749.99,234.9,1095.2,397.69,557.99,159.0,116.98,123.16,1300.0,159.99,135.42,75.0,799.0,111.94,221.1,89.0,145.25,530.28,98.6,799.0,245.5,337.8,119.9,124.9,171.84,215.5,5072.01,524.78,5072.01,524.78,299.0,127.76,71.99,294.0,70.0,149.9,135.42,740.95,234.9,149.98],\"xaxis\":\"x\",\"yaxis\":\"y\",\"type\":\"histogram\"}],                        {\"template\":{\"data\":{\"histogram2dcontour\":[{\"type\":\"histogram2dcontour\",\"colorbar\":{\"outlinewidth\":0,\"ticks\":\"\"},\"colorscale\":[[0.0,\"#0d0887\"],[0.1111111111111111,\"#46039f\"],[0.2222222222222222,\"#7201a8\"],[0.3333333333333333,\"#9c179e\"],[0.4444444444444444,\"#bd3786\"],[0.5555555555555556,\"#d8576b\"],[0.6666666666666666,\"#ed7953\"],[0.7777777777777778,\"#fb9f3a\"],[0.8888888888888888,\"#fdca26\"],[1.0,\"#f0f921\"]]}],\"choropleth\":[{\"type\":\"choropleth\",\"colorbar\":{\"outlinewidth\":0,\"ticks\":\"\"}}],\"histogram2d\":[{\"type\":\"histogram2d\",\"colorbar\":{\"outlinewidth\":0,\"ticks\":\"\"},\"colorscale\":[[0.0,\"#0d0887\"],[0.1111111111111111,\"#46039f\"],[0.2222222222222222,\"#7201a8\"],[0.3333333333333333,\"#9c179e\"],[0.4444444444444444,\"#bd3786\"],[0.5555555555555556,\"#d8576b\"],[0.6666666666666666,\"#ed7953\"],[0.7777777777777778,\"#fb9f3a\"],[0.8888888888888888,\"#fdca26\"],[1.0,\"#f0f921\"]]}],\"heatmap\":[{\"type\":\"heatmap\",\"colorbar\":{\"outlinewidth\":0,\"ticks\":\"\"},\"colorscale\":[[0.0,\"#0d0887\"],[0.1111111111111111,\"#46039f\"],[0.2222222222222222,\"#7201a8\"],[0.3333333333333333,\"#9c179e\"],[0.4444444444444444,\"#bd3786\"],[0.5555555555555556,\"#d8576b\"],[0.6666666666666666,\"#ed7953\"],[0.7777777777777778,\"#fb9f3a\"],[0.8888888888888888,\"#fdca26\"],[1.0,\"#f0f921\"]]}],\"heatmapgl\":[{\"type\":\"heatmapgl\",\"colorbar\":{\"outlinewidth\":0,\"ticks\":\"\"},\"colorscale\":[[0.0,\"#0d0887\"],[0.1111111111111111,\"#46039f\"],[0.2222222222222222,\"#7201a8\"],[0.3333333333333333,\"#9c179e\"],[0.4444444444444444,\"#bd3786\"],[0.5555555555555556,\"#d8576b\"],[0.6666666666666666,\"#ed7953\"],[0.7777777777777778,\"#fb9f3a\"],[0.8888888888888888,\"#fdca26\"],[1.0,\"#f0f921\"]]}],\"contourcarpet\":[{\"type\":\"contourcarpet\",\"colorbar\":{\"outlinewidth\":0,\"ticks\":\"\"}}],\"contour\":[{\"type\":\"contour\",\"colorbar\":{\"outlinewidth\":0,\"ticks\":\"\"},\"colorscale\":[[0.0,\"#0d0887\"],[0.1111111111111111,\"#46039f\"],[0.2222222222222222,\"#7201a8\"],[0.3333333333333333,\"#9c179e\"],[0.4444444444444444,\"#bd3786\"],[0.5555555555555556,\"#d8576b\"],[0.6666666666666666,\"#ed7953\"],[0.7777777777777778,\"#fb9f3a\"],[0.8888888888888888,\"#fdca26\"],[1.0,\"#f0f921\"]]}],\"surface\":[{\"type\":\"surface\",\"colorbar\":{\"outlinewidth\":0,\"ticks\":\"\"},\"colorscale\":[[0.0,\"#0d0887\"],[0.1111111111111111,\"#46039f\"],[0.2222222222222222,\"#7201a8\"],[0.3333333333333333,\"#9c179e\"],[0.4444444444444444,\"#bd3786\"],[0.5555555555555556,\"#d8576b\"],[0.6666666666666666,\"#ed7953\"],[0.7777777777777778,\"#fb9f3a\"],[0.8888888888888888,\"#fdca26\"],[1.0,\"#f0f921\"]]}],\"mesh3d\":[{\"type\":\"mesh3d\",\"colorbar\":{\"outlinewidth\":0,\"ticks\":\"\"}}],\"scatter\":[{\"fillpattern\":{\"fillmode\":\"overlay\",\"size\":10,\"solidity\":0.2},\"type\":\"scatter\"}],\"parcoords\":[{\"type\":\"parcoords\",\"line\":{\"colorbar\":{\"outlinewidth\":0,\"ticks\":\"\"}}}],\"scatterpolargl\":[{\"type\":\"scatterpolargl\",\"marker\":{\"colorbar\":{\"outlinewidth\":0,\"ticks\":\"\"}}}],\"bar\":[{\"error_x\":{\"color\":\"#2a3f5f\"},\"error_y\":{\"color\":\"#2a3f5f\"},\"marker\":{\"line\":{\"color\":\"#E5ECF6\",\"width\":0.5},\"pattern\":{\"fillmode\":\"overlay\",\"size\":10,\"solidity\":0.2}},\"type\":\"bar\"}],\"scattergeo\":[{\"type\":\"scattergeo\",\"marker\":{\"colorbar\":{\"outlinewidth\":0,\"ticks\":\"\"}}}],\"scatterpolar\":[{\"type\":\"scatterpolar\",\"marker\":{\"colorbar\":{\"outlinewidth\":0,\"ticks\":\"\"}}}],\"histogram\":[{\"marker\":{\"pattern\":{\"fillmode\":\"overlay\",\"size\":10,\"solidity\":0.2}},\"type\":\"histogram\"}],\"scattergl\":[{\"type\":\"scattergl\",\"marker\":{\"colorbar\":{\"outlinewidth\":0,\"ticks\":\"\"}}}],\"scatter3d\":[{\"type\":\"scatter3d\",\"line\":{\"colorbar\":{\"outlinewidth\":0,\"ticks\":\"\"}},\"marker\":{\"colorbar\":{\"outlinewidth\":0,\"ticks\":\"\"}}}],\"scattermapbox\":[{\"type\":\"scattermapbox\",\"marker\":{\"colorbar\":{\"outlinewidth\":0,\"ticks\":\"\"}}}],\"scatterternary\":[{\"type\":\"scatterternary\",\"marker\":{\"colorbar\":{\"outlinewidth\":0,\"ticks\":\"\"}}}],\"scattercarpet\":[{\"type\":\"scattercarpet\",\"marker\":{\"colorbar\":{\"outlinewidth\":0,\"ticks\":\"\"}}}],\"carpet\":[{\"aaxis\":{\"endlinecolor\":\"#2a3f5f\",\"gridcolor\":\"white\",\"linecolor\":\"white\",\"minorgridcolor\":\"white\",\"startlinecolor\":\"#2a3f5f\"},\"baxis\":{\"endlinecolor\":\"#2a3f5f\",\"gridcolor\":\"white\",\"linecolor\":\"white\",\"minorgridcolor\":\"white\",\"startlinecolor\":\"#2a3f5f\"},\"type\":\"carpet\"}],\"table\":[{\"cells\":{\"fill\":{\"color\":\"#EBF0F8\"},\"line\":{\"color\":\"white\"}},\"header\":{\"fill\":{\"color\":\"#C8D4E3\"},\"line\":{\"color\":\"white\"}},\"type\":\"table\"}],\"barpolar\":[{\"marker\":{\"line\":{\"color\":\"#E5ECF6\",\"width\":0.5},\"pattern\":{\"fillmode\":\"overlay\",\"size\":10,\"solidity\":0.2}},\"type\":\"barpolar\"}],\"pie\":[{\"automargin\":true,\"type\":\"pie\"}]},\"layout\":{\"autotypenumbers\":\"strict\",\"colorway\":[\"#636efa\",\"#EF553B\",\"#00cc96\",\"#ab63fa\",\"#FFA15A\",\"#19d3f3\",\"#FF6692\",\"#B6E880\",\"#FF97FF\",\"#FECB52\"],\"font\":{\"color\":\"#2a3f5f\"},\"hovermode\":\"closest\",\"hoverlabel\":{\"align\":\"left\"},\"paper_bgcolor\":\"white\",\"plot_bgcolor\":\"#E5ECF6\",\"polar\":{\"bgcolor\":\"#E5ECF6\",\"angularaxis\":{\"gridcolor\":\"white\",\"linecolor\":\"white\",\"ticks\":\"\"},\"radialaxis\":{\"gridcolor\":\"white\",\"linecolor\":\"white\",\"ticks\":\"\"}},\"ternary\":{\"bgcolor\":\"#E5ECF6\",\"aaxis\":{\"gridcolor\":\"white\",\"linecolor\":\"white\",\"ticks\":\"\"},\"baxis\":{\"gridcolor\":\"white\",\"linecolor\":\"white\",\"ticks\":\"\"},\"caxis\":{\"gridcolor\":\"white\",\"linecolor\":\"white\",\"ticks\":\"\"}},\"coloraxis\":{\"colorbar\":{\"outlinewidth\":0,\"ticks\":\"\"}},\"colorscale\":{\"sequential\":[[0.0,\"#0d0887\"],[0.1111111111111111,\"#46039f\"],[0.2222222222222222,\"#7201a8\"],[0.3333333333333333,\"#9c179e\"],[0.4444444444444444,\"#bd3786\"],[0.5555555555555556,\"#d8576b\"],[0.6666666666666666,\"#ed7953\"],[0.7777777777777778,\"#fb9f3a\"],[0.8888888888888888,\"#fdca26\"],[1.0,\"#f0f921\"]],\"sequentialminus\":[[0.0,\"#0d0887\"],[0.1111111111111111,\"#46039f\"],[0.2222222222222222,\"#7201a8\"],[0.3333333333333333,\"#9c179e\"],[0.4444444444444444,\"#bd3786\"],[0.5555555555555556,\"#d8576b\"],[0.6666666666666666,\"#ed7953\"],[0.7777777777777778,\"#fb9f3a\"],[0.8888888888888888,\"#fdca26\"],[1.0,\"#f0f921\"]],\"diverging\":[[0,\"#8e0152\"],[0.1,\"#c51b7d\"],[0.2,\"#de77ae\"],[0.3,\"#f1b6da\"],[0.4,\"#fde0ef\"],[0.5,\"#f7f7f7\"],[0.6,\"#e6f5d0\"],[0.7,\"#b8e186\"],[0.8,\"#7fbc41\"],[0.9,\"#4d9221\"],[1,\"#276419\"]]},\"xaxis\":{\"gridcolor\":\"white\",\"linecolor\":\"white\",\"ticks\":\"\",\"title\":{\"standoff\":15},\"zerolinecolor\":\"white\",\"automargin\":true,\"zerolinewidth\":2},\"yaxis\":{\"gridcolor\":\"white\",\"linecolor\":\"white\",\"ticks\":\"\",\"title\":{\"standoff\":15},\"zerolinecolor\":\"white\",\"automargin\":true,\"zerolinewidth\":2},\"scene\":{\"xaxis\":{\"backgroundcolor\":\"#E5ECF6\",\"gridcolor\":\"white\",\"linecolor\":\"white\",\"showbackground\":true,\"ticks\":\"\",\"zerolinecolor\":\"white\",\"gridwidth\":2},\"yaxis\":{\"backgroundcolor\":\"#E5ECF6\",\"gridcolor\":\"white\",\"linecolor\":\"white\",\"showbackground\":true,\"ticks\":\"\",\"zerolinecolor\":\"white\",\"gridwidth\":2},\"zaxis\":{\"backgroundcolor\":\"#E5ECF6\",\"gridcolor\":\"white\",\"linecolor\":\"white\",\"showbackground\":true,\"ticks\":\"\",\"zerolinecolor\":\"white\",\"gridwidth\":2}},\"shapedefaults\":{\"line\":{\"color\":\"#2a3f5f\"}},\"annotationdefaults\":{\"arrowcolor\":\"#2a3f5f\",\"arrowhead\":0,\"arrowwidth\":1},\"geo\":{\"bgcolor\":\"white\",\"landcolor\":\"#E5ECF6\",\"subunitcolor\":\"white\",\"showland\":true,\"showlakes\":true,\"lakecolor\":\"white\"},\"title\":{\"x\":0.05},\"mapbox\":{\"style\":\"light\"}}},\"xaxis\":{\"anchor\":\"y\",\"domain\":[0.0,1.0],\"title\":{\"text\":\"value\"}},\"yaxis\":{\"anchor\":\"x\",\"domain\":[0.0,1.0],\"title\":{\"text\":\"count\"}},\"legend\":{\"title\":{\"text\":\"variable\"},\"tracegroupgap\":0},\"title\":{\"text\":\"PRICE DISTRIBUTION\"},\"barmode\":\"relative\",\"height\":350,\"width\":800},                        {\"responsive\": true}                    ).then(function(){\n",
       "                            \n",
       "var gd = document.getElementById('bd231cad-4c76-4906-a967-6c6bf234ead1');\n",
       "var x = new MutationObserver(function (mutations, observer) {{\n",
       "        var display = window.getComputedStyle(gd).display;\n",
       "        if (!display || display === 'none') {{\n",
       "            console.log([gd, 'removed!']);\n",
       "            Plotly.purge(gd);\n",
       "            observer.disconnect();\n",
       "        }}\n",
       "}});\n",
       "\n",
       "// Listen for the removal of the full notebook cells\n",
       "var notebookContainer = gd.closest('#notebook-container');\n",
       "if (notebookContainer) {{\n",
       "    x.observe(notebookContainer, {childList: true});\n",
       "}}\n",
       "\n",
       "// Listen for the clearing of the current output cell\n",
       "var outputEl = gd.closest('.output');\n",
       "if (outputEl) {{\n",
       "    x.observe(outputEl, {childList: true});\n",
       "}}\n",
       "\n",
       "                        })                };                });            </script>        </div>"
      ]
     },
     "metadata": {},
     "output_type": "display_data"
    }
   ],
   "source": [
    "fig2 = px.histogram(df['PRICE'], color_discrete_sequence=['#520AA9'], title='PRICE DISTRIBUTION', width=800, height=350)\n",
    "fig2.show()"
   ]
  },
  {
   "cell_type": "code",
   "execution_count": 38,
   "metadata": {},
   "outputs": [
    {
     "data": {
      "text/html": [
       "<div>                            <div id=\"5092176c-12c6-4bf3-85cf-8e9a8c25168c\" class=\"plotly-graph-div\" style=\"height:350px; width:800px;\"></div>            <script type=\"text/javascript\">                require([\"plotly\"], function(Plotly) {                    window.PLOTLYENV=window.PLOTLYENV || {};                                    if (document.getElementById(\"5092176c-12c6-4bf3-85cf-8e9a8c25168c\")) {                    Plotly.newPlot(                        \"5092176c-12c6-4bf3-85cf-8e9a8c25168c\",                        [{\"alignmentgroup\":\"True\",\"bingroup\":\"x\",\"hovertemplate\":\"variable=REVIEW COUNT<br>value=%{x}<br>count=%{y}<extra></extra>\",\"legendgroup\":\"REVIEW COUNT\",\"marker\":{\"color\":\"#520AA9\",\"pattern\":{\"shape\":\"\"}},\"name\":\"REVIEW COUNT\",\"offsetgroup\":\"REVIEW COUNT\",\"orientation\":\"v\",\"showlegend\":true,\"x\":[5839,2022,18,1640,321,3845,115,145,1716,333,947,2134,107,3446,63,270,74,1,422,41028,34,452,53,616,274,54,2,17,295,261,35100,117,23,644,10233,258,18815,35975,710,3929,3,20,282,2449,1,351,1044,28,109,156,1067,48373,174,1,4898,16071,31,759,38,98,857,6766,740,48,15,1273,272,454,17,1144,92,163,2241,9,277,3408,111,4,1,834,173,1250,4008,17,2,1667,1038,1660,304,48,11,564,35,14,2915,1515,8383,736,1,1408,5,27,111,205,3875,3810,1766,113,8,74,1,366,21351,207,6,8529,476,756,4328,22468,749,4,815,331,765,169079,185,1,8605,47,128,29,8605,128,47,29,5,905,3,2934,178,15,188,64854,22,144,760,24,1,1,1798,109,119,5746,2572,175326,472,6420,2262,10,18,5,2,3,877,2356,1693,136,21,4431,17,5,2,3,877,38,2356,1693,136,609,21,17,9,31651,480,4,10217,333,181,892,3204,49,1,1,1,229,102,933,2104,405,15335,5,308,144,34,71,2,479,3368,155,9085,308,144,1545,34,71,2,479,3368,155,9085,7397,43,1370,42,19,6,254,1070,5825,1300,157,288,2,4419,8,464,10,12454,985,1485,184,4,1,456,31,7,31,7,1855,21,7,584,298,3889,1722,9262,253,31],\"xaxis\":\"x\",\"yaxis\":\"y\",\"type\":\"histogram\"}],                        {\"template\":{\"data\":{\"histogram2dcontour\":[{\"type\":\"histogram2dcontour\",\"colorbar\":{\"outlinewidth\":0,\"ticks\":\"\"},\"colorscale\":[[0.0,\"#0d0887\"],[0.1111111111111111,\"#46039f\"],[0.2222222222222222,\"#7201a8\"],[0.3333333333333333,\"#9c179e\"],[0.4444444444444444,\"#bd3786\"],[0.5555555555555556,\"#d8576b\"],[0.6666666666666666,\"#ed7953\"],[0.7777777777777778,\"#fb9f3a\"],[0.8888888888888888,\"#fdca26\"],[1.0,\"#f0f921\"]]}],\"choropleth\":[{\"type\":\"choropleth\",\"colorbar\":{\"outlinewidth\":0,\"ticks\":\"\"}}],\"histogram2d\":[{\"type\":\"histogram2d\",\"colorbar\":{\"outlinewidth\":0,\"ticks\":\"\"},\"colorscale\":[[0.0,\"#0d0887\"],[0.1111111111111111,\"#46039f\"],[0.2222222222222222,\"#7201a8\"],[0.3333333333333333,\"#9c179e\"],[0.4444444444444444,\"#bd3786\"],[0.5555555555555556,\"#d8576b\"],[0.6666666666666666,\"#ed7953\"],[0.7777777777777778,\"#fb9f3a\"],[0.8888888888888888,\"#fdca26\"],[1.0,\"#f0f921\"]]}],\"heatmap\":[{\"type\":\"heatmap\",\"colorbar\":{\"outlinewidth\":0,\"ticks\":\"\"},\"colorscale\":[[0.0,\"#0d0887\"],[0.1111111111111111,\"#46039f\"],[0.2222222222222222,\"#7201a8\"],[0.3333333333333333,\"#9c179e\"],[0.4444444444444444,\"#bd3786\"],[0.5555555555555556,\"#d8576b\"],[0.6666666666666666,\"#ed7953\"],[0.7777777777777778,\"#fb9f3a\"],[0.8888888888888888,\"#fdca26\"],[1.0,\"#f0f921\"]]}],\"heatmapgl\":[{\"type\":\"heatmapgl\",\"colorbar\":{\"outlinewidth\":0,\"ticks\":\"\"},\"colorscale\":[[0.0,\"#0d0887\"],[0.1111111111111111,\"#46039f\"],[0.2222222222222222,\"#7201a8\"],[0.3333333333333333,\"#9c179e\"],[0.4444444444444444,\"#bd3786\"],[0.5555555555555556,\"#d8576b\"],[0.6666666666666666,\"#ed7953\"],[0.7777777777777778,\"#fb9f3a\"],[0.8888888888888888,\"#fdca26\"],[1.0,\"#f0f921\"]]}],\"contourcarpet\":[{\"type\":\"contourcarpet\",\"colorbar\":{\"outlinewidth\":0,\"ticks\":\"\"}}],\"contour\":[{\"type\":\"contour\",\"colorbar\":{\"outlinewidth\":0,\"ticks\":\"\"},\"colorscale\":[[0.0,\"#0d0887\"],[0.1111111111111111,\"#46039f\"],[0.2222222222222222,\"#7201a8\"],[0.3333333333333333,\"#9c179e\"],[0.4444444444444444,\"#bd3786\"],[0.5555555555555556,\"#d8576b\"],[0.6666666666666666,\"#ed7953\"],[0.7777777777777778,\"#fb9f3a\"],[0.8888888888888888,\"#fdca26\"],[1.0,\"#f0f921\"]]}],\"surface\":[{\"type\":\"surface\",\"colorbar\":{\"outlinewidth\":0,\"ticks\":\"\"},\"colorscale\":[[0.0,\"#0d0887\"],[0.1111111111111111,\"#46039f\"],[0.2222222222222222,\"#7201a8\"],[0.3333333333333333,\"#9c179e\"],[0.4444444444444444,\"#bd3786\"],[0.5555555555555556,\"#d8576b\"],[0.6666666666666666,\"#ed7953\"],[0.7777777777777778,\"#fb9f3a\"],[0.8888888888888888,\"#fdca26\"],[1.0,\"#f0f921\"]]}],\"mesh3d\":[{\"type\":\"mesh3d\",\"colorbar\":{\"outlinewidth\":0,\"ticks\":\"\"}}],\"scatter\":[{\"fillpattern\":{\"fillmode\":\"overlay\",\"size\":10,\"solidity\":0.2},\"type\":\"scatter\"}],\"parcoords\":[{\"type\":\"parcoords\",\"line\":{\"colorbar\":{\"outlinewidth\":0,\"ticks\":\"\"}}}],\"scatterpolargl\":[{\"type\":\"scatterpolargl\",\"marker\":{\"colorbar\":{\"outlinewidth\":0,\"ticks\":\"\"}}}],\"bar\":[{\"error_x\":{\"color\":\"#2a3f5f\"},\"error_y\":{\"color\":\"#2a3f5f\"},\"marker\":{\"line\":{\"color\":\"#E5ECF6\",\"width\":0.5},\"pattern\":{\"fillmode\":\"overlay\",\"size\":10,\"solidity\":0.2}},\"type\":\"bar\"}],\"scattergeo\":[{\"type\":\"scattergeo\",\"marker\":{\"colorbar\":{\"outlinewidth\":0,\"ticks\":\"\"}}}],\"scatterpolar\":[{\"type\":\"scatterpolar\",\"marker\":{\"colorbar\":{\"outlinewidth\":0,\"ticks\":\"\"}}}],\"histogram\":[{\"marker\":{\"pattern\":{\"fillmode\":\"overlay\",\"size\":10,\"solidity\":0.2}},\"type\":\"histogram\"}],\"scattergl\":[{\"type\":\"scattergl\",\"marker\":{\"colorbar\":{\"outlinewidth\":0,\"ticks\":\"\"}}}],\"scatter3d\":[{\"type\":\"scatter3d\",\"line\":{\"colorbar\":{\"outlinewidth\":0,\"ticks\":\"\"}},\"marker\":{\"colorbar\":{\"outlinewidth\":0,\"ticks\":\"\"}}}],\"scattermapbox\":[{\"type\":\"scattermapbox\",\"marker\":{\"colorbar\":{\"outlinewidth\":0,\"ticks\":\"\"}}}],\"scatterternary\":[{\"type\":\"scatterternary\",\"marker\":{\"colorbar\":{\"outlinewidth\":0,\"ticks\":\"\"}}}],\"scattercarpet\":[{\"type\":\"scattercarpet\",\"marker\":{\"colorbar\":{\"outlinewidth\":0,\"ticks\":\"\"}}}],\"carpet\":[{\"aaxis\":{\"endlinecolor\":\"#2a3f5f\",\"gridcolor\":\"white\",\"linecolor\":\"white\",\"minorgridcolor\":\"white\",\"startlinecolor\":\"#2a3f5f\"},\"baxis\":{\"endlinecolor\":\"#2a3f5f\",\"gridcolor\":\"white\",\"linecolor\":\"white\",\"minorgridcolor\":\"white\",\"startlinecolor\":\"#2a3f5f\"},\"type\":\"carpet\"}],\"table\":[{\"cells\":{\"fill\":{\"color\":\"#EBF0F8\"},\"line\":{\"color\":\"white\"}},\"header\":{\"fill\":{\"color\":\"#C8D4E3\"},\"line\":{\"color\":\"white\"}},\"type\":\"table\"}],\"barpolar\":[{\"marker\":{\"line\":{\"color\":\"#E5ECF6\",\"width\":0.5},\"pattern\":{\"fillmode\":\"overlay\",\"size\":10,\"solidity\":0.2}},\"type\":\"barpolar\"}],\"pie\":[{\"automargin\":true,\"type\":\"pie\"}]},\"layout\":{\"autotypenumbers\":\"strict\",\"colorway\":[\"#636efa\",\"#EF553B\",\"#00cc96\",\"#ab63fa\",\"#FFA15A\",\"#19d3f3\",\"#FF6692\",\"#B6E880\",\"#FF97FF\",\"#FECB52\"],\"font\":{\"color\":\"#2a3f5f\"},\"hovermode\":\"closest\",\"hoverlabel\":{\"align\":\"left\"},\"paper_bgcolor\":\"white\",\"plot_bgcolor\":\"#E5ECF6\",\"polar\":{\"bgcolor\":\"#E5ECF6\",\"angularaxis\":{\"gridcolor\":\"white\",\"linecolor\":\"white\",\"ticks\":\"\"},\"radialaxis\":{\"gridcolor\":\"white\",\"linecolor\":\"white\",\"ticks\":\"\"}},\"ternary\":{\"bgcolor\":\"#E5ECF6\",\"aaxis\":{\"gridcolor\":\"white\",\"linecolor\":\"white\",\"ticks\":\"\"},\"baxis\":{\"gridcolor\":\"white\",\"linecolor\":\"white\",\"ticks\":\"\"},\"caxis\":{\"gridcolor\":\"white\",\"linecolor\":\"white\",\"ticks\":\"\"}},\"coloraxis\":{\"colorbar\":{\"outlinewidth\":0,\"ticks\":\"\"}},\"colorscale\":{\"sequential\":[[0.0,\"#0d0887\"],[0.1111111111111111,\"#46039f\"],[0.2222222222222222,\"#7201a8\"],[0.3333333333333333,\"#9c179e\"],[0.4444444444444444,\"#bd3786\"],[0.5555555555555556,\"#d8576b\"],[0.6666666666666666,\"#ed7953\"],[0.7777777777777778,\"#fb9f3a\"],[0.8888888888888888,\"#fdca26\"],[1.0,\"#f0f921\"]],\"sequentialminus\":[[0.0,\"#0d0887\"],[0.1111111111111111,\"#46039f\"],[0.2222222222222222,\"#7201a8\"],[0.3333333333333333,\"#9c179e\"],[0.4444444444444444,\"#bd3786\"],[0.5555555555555556,\"#d8576b\"],[0.6666666666666666,\"#ed7953\"],[0.7777777777777778,\"#fb9f3a\"],[0.8888888888888888,\"#fdca26\"],[1.0,\"#f0f921\"]],\"diverging\":[[0,\"#8e0152\"],[0.1,\"#c51b7d\"],[0.2,\"#de77ae\"],[0.3,\"#f1b6da\"],[0.4,\"#fde0ef\"],[0.5,\"#f7f7f7\"],[0.6,\"#e6f5d0\"],[0.7,\"#b8e186\"],[0.8,\"#7fbc41\"],[0.9,\"#4d9221\"],[1,\"#276419\"]]},\"xaxis\":{\"gridcolor\":\"white\",\"linecolor\":\"white\",\"ticks\":\"\",\"title\":{\"standoff\":15},\"zerolinecolor\":\"white\",\"automargin\":true,\"zerolinewidth\":2},\"yaxis\":{\"gridcolor\":\"white\",\"linecolor\":\"white\",\"ticks\":\"\",\"title\":{\"standoff\":15},\"zerolinecolor\":\"white\",\"automargin\":true,\"zerolinewidth\":2},\"scene\":{\"xaxis\":{\"backgroundcolor\":\"#E5ECF6\",\"gridcolor\":\"white\",\"linecolor\":\"white\",\"showbackground\":true,\"ticks\":\"\",\"zerolinecolor\":\"white\",\"gridwidth\":2},\"yaxis\":{\"backgroundcolor\":\"#E5ECF6\",\"gridcolor\":\"white\",\"linecolor\":\"white\",\"showbackground\":true,\"ticks\":\"\",\"zerolinecolor\":\"white\",\"gridwidth\":2},\"zaxis\":{\"backgroundcolor\":\"#E5ECF6\",\"gridcolor\":\"white\",\"linecolor\":\"white\",\"showbackground\":true,\"ticks\":\"\",\"zerolinecolor\":\"white\",\"gridwidth\":2}},\"shapedefaults\":{\"line\":{\"color\":\"#2a3f5f\"}},\"annotationdefaults\":{\"arrowcolor\":\"#2a3f5f\",\"arrowhead\":0,\"arrowwidth\":1},\"geo\":{\"bgcolor\":\"white\",\"landcolor\":\"#E5ECF6\",\"subunitcolor\":\"white\",\"showland\":true,\"showlakes\":true,\"lakecolor\":\"white\"},\"title\":{\"x\":0.05},\"mapbox\":{\"style\":\"light\"}}},\"xaxis\":{\"anchor\":\"y\",\"domain\":[0.0,1.0],\"title\":{\"text\":\"value\"}},\"yaxis\":{\"anchor\":\"x\",\"domain\":[0.0,1.0],\"title\":{\"text\":\"count\"}},\"legend\":{\"title\":{\"text\":\"variable\"},\"tracegroupgap\":0},\"title\":{\"text\":\"REVIEWS DISTRIBUTION\"},\"barmode\":\"relative\",\"height\":350,\"width\":800},                        {\"responsive\": true}                    ).then(function(){\n",
       "                            \n",
       "var gd = document.getElementById('5092176c-12c6-4bf3-85cf-8e9a8c25168c');\n",
       "var x = new MutationObserver(function (mutations, observer) {{\n",
       "        var display = window.getComputedStyle(gd).display;\n",
       "        if (!display || display === 'none') {{\n",
       "            console.log([gd, 'removed!']);\n",
       "            Plotly.purge(gd);\n",
       "            observer.disconnect();\n",
       "        }}\n",
       "}});\n",
       "\n",
       "// Listen for the removal of the full notebook cells\n",
       "var notebookContainer = gd.closest('#notebook-container');\n",
       "if (notebookContainer) {{\n",
       "    x.observe(notebookContainer, {childList: true});\n",
       "}}\n",
       "\n",
       "// Listen for the clearing of the current output cell\n",
       "var outputEl = gd.closest('.output');\n",
       "if (outputEl) {{\n",
       "    x.observe(outputEl, {childList: true});\n",
       "}}\n",
       "\n",
       "                        })                };                });            </script>        </div>"
      ]
     },
     "metadata": {},
     "output_type": "display_data"
    }
   ],
   "source": [
    "fig3 = px.histogram(df['REVIEW COUNT'], color_discrete_sequence=['#520AA9'], title='REVIEWS DISTRIBUTION', width=800, height=350)\n",
    "fig3.show()"
   ]
  },
  {
   "cell_type": "code",
   "execution_count": 39,
   "metadata": {},
   "outputs": [
    {
     "data": {
      "text/html": [
       "<div>\n",
       "<style scoped>\n",
       "    .dataframe tbody tr th:only-of-type {\n",
       "        vertical-align: middle;\n",
       "    }\n",
       "\n",
       "    .dataframe tbody tr th {\n",
       "        vertical-align: top;\n",
       "    }\n",
       "\n",
       "    .dataframe thead th {\n",
       "        text-align: right;\n",
       "    }\n",
       "</style>\n",
       "<table border=\"1\" class=\"dataframe\">\n",
       "  <thead>\n",
       "    <tr style=\"text-align: right;\">\n",
       "      <th></th>\n",
       "      <th>PRODUCT DESCRIPTION</th>\n",
       "      <th>PRICE</th>\n",
       "      <th>RATING</th>\n",
       "      <th>REVIEW COUNT</th>\n",
       "      <th>LINK</th>\n",
       "    </tr>\n",
       "  </thead>\n",
       "  <tbody>\n",
       "    <tr>\n",
       "      <th>0</th>\n",
       "      <td>Headphone Philips Wireless TAUH202BK/00 - Pret...</td>\n",
       "      <td>99.00</td>\n",
       "      <td>4.6</td>\n",
       "      <td>5839</td>\n",
       "      <td>https://www.amazon.com.br/Ouvido-Philips-Wirel...</td>\n",
       "    </tr>\n",
       "    <tr>\n",
       "      <th>1</th>\n",
       "      <td>Headphone Bluetooth Joy P2 Preto Multilaser – ...</td>\n",
       "      <td>89.10</td>\n",
       "      <td>4.3</td>\n",
       "      <td>2022</td>\n",
       "      <td>https://www.amazon.com.br/Headphone-Bluetooth-...</td>\n",
       "    </tr>\n",
       "    <tr>\n",
       "      <th>2</th>\n",
       "      <td>Mpow 059 Lite Fone Ouvido Bluetooth 5.0 Preto ...</td>\n",
       "      <td>132.18</td>\n",
       "      <td>4.9</td>\n",
       "      <td>18</td>\n",
       "      <td>https://www.amazon.com.br/Bluetooth-Bateria-Mi...</td>\n",
       "    </tr>\n",
       "    <tr>\n",
       "      <th>3</th>\n",
       "      <td>Headphone Bluetooth Comfort Go i2GO Com Microf...</td>\n",
       "      <td>159.00</td>\n",
       "      <td>4.3</td>\n",
       "      <td>1640</td>\n",
       "      <td>https://www.amazon.com.br/Headphone-Bluetooth-...</td>\n",
       "    </tr>\n",
       "    <tr>\n",
       "      <th>4</th>\n",
       "      <td>Headphone Philips bluetooth over-ear com micro...</td>\n",
       "      <td>209.78</td>\n",
       "      <td>3.9</td>\n",
       "      <td>321</td>\n",
       "      <td>https://www.amazon.com.br/Headphone-bluetooth-...</td>\n",
       "    </tr>\n",
       "  </tbody>\n",
       "</table>\n",
       "</div>"
      ],
      "text/plain": [
       "                                 PRODUCT DESCRIPTION   PRICE  RATING  \\\n",
       "0  Headphone Philips Wireless TAUH202BK/00 - Pret...   99.00     4.6   \n",
       "1  Headphone Bluetooth Joy P2 Preto Multilaser – ...   89.10     4.3   \n",
       "2  Mpow 059 Lite Fone Ouvido Bluetooth 5.0 Preto ...  132.18     4.9   \n",
       "3  Headphone Bluetooth Comfort Go i2GO Com Microf...  159.00     4.3   \n",
       "4  Headphone Philips bluetooth over-ear com micro...  209.78     3.9   \n",
       "\n",
       "   REVIEW COUNT                                               LINK  \n",
       "0          5839  https://www.amazon.com.br/Ouvido-Philips-Wirel...  \n",
       "1          2022  https://www.amazon.com.br/Headphone-Bluetooth-...  \n",
       "2            18  https://www.amazon.com.br/Bluetooth-Bateria-Mi...  \n",
       "3          1640  https://www.amazon.com.br/Headphone-Bluetooth-...  \n",
       "4           321  https://www.amazon.com.br/Headphone-bluetooth-...  "
      ]
     },
     "execution_count": 39,
     "metadata": {},
     "output_type": "execute_result"
    }
   ],
   "source": [
    "df.head()"
   ]
  },
  {
   "cell_type": "markdown",
   "metadata": {},
   "source": [
    "Organizing the data to show the most reviwed and most rated products first"
   ]
  },
  {
   "cell_type": "code",
   "execution_count": 40,
   "metadata": {},
   "outputs": [
    {
     "data": {
      "text/html": [
       "<div>\n",
       "<style scoped>\n",
       "    .dataframe tbody tr th:only-of-type {\n",
       "        vertical-align: middle;\n",
       "    }\n",
       "\n",
       "    .dataframe tbody tr th {\n",
       "        vertical-align: top;\n",
       "    }\n",
       "\n",
       "    .dataframe thead th {\n",
       "        text-align: right;\n",
       "    }\n",
       "</style>\n",
       "<table border=\"1\" class=\"dataframe\">\n",
       "  <thead>\n",
       "    <tr style=\"text-align: right;\">\n",
       "      <th></th>\n",
       "      <th>PRODUCT DESCRIPTION</th>\n",
       "      <th>PRICE</th>\n",
       "      <th>RATING</th>\n",
       "      <th>REVIEW COUNT</th>\n",
       "      <th>LINK</th>\n",
       "    </tr>\n",
       "  </thead>\n",
       "  <tbody>\n",
       "    <tr>\n",
       "      <th>155</th>\n",
       "      <td>TOZO T10 Bluetooth 5.0 Wireless Earbuds with W...</td>\n",
       "      <td>229.90</td>\n",
       "      <td>4.3</td>\n",
       "      <td>175326</td>\n",
       "      <td>https://www.amazon.com.br/TOZO-Bluetooth-carre...</td>\n",
       "    </tr>\n",
       "    <tr>\n",
       "      <th>125</th>\n",
       "      <td>TOZO T6 True Wireless Earbuds Bluetooth Headph...</td>\n",
       "      <td>281.90</td>\n",
       "      <td>4.4</td>\n",
       "      <td>169079</td>\n",
       "      <td>https://www.amazon.com.br/TOZO-T6-True-carrega...</td>\n",
       "    </tr>\n",
       "    <tr>\n",
       "      <th>143</th>\n",
       "      <td>Fones de ouvido iJoy Fosco recarregável sem fi...</td>\n",
       "      <td>420.00</td>\n",
       "      <td>4.4</td>\n",
       "      <td>64854</td>\n",
       "      <td>https://www.amazon.com.br/ouvido-recarreg%C3%A...</td>\n",
       "    </tr>\n",
       "    <tr>\n",
       "      <th>51</th>\n",
       "      <td>Fones de ouvido Bluetooth, fones de ouvido Zih...</td>\n",
       "      <td>180.99</td>\n",
       "      <td>4.4</td>\n",
       "      <td>48373</td>\n",
       "      <td>https://www.amazon.com.br/Bluetooth-Over-Ear-e...</td>\n",
       "    </tr>\n",
       "    <tr>\n",
       "      <th>19</th>\n",
       "      <td>Fone de ouvido Beats Solo3 Wireless - The Beat...</td>\n",
       "      <td>974.14</td>\n",
       "      <td>4.7</td>\n",
       "      <td>41028</td>\n",
       "      <td>https://www.amazon.com.br/Beats-Solo3-fones-ou...</td>\n",
       "    </tr>\n",
       "    <tr>\n",
       "      <th>37</th>\n",
       "      <td>Sony WI-XB400 Fone de ouvido intra-auricular s...</td>\n",
       "      <td>299.00</td>\n",
       "      <td>4.2</td>\n",
       "      <td>35975</td>\n",
       "      <td>https://www.amazon.com.br/ouvido-Sony-Wi-Xb400...</td>\n",
       "    </tr>\n",
       "    <tr>\n",
       "      <th>30</th>\n",
       "      <td>Fone de Ouvido Bluetooth JBL Tune 500 On Ear P...</td>\n",
       "      <td>215.00</td>\n",
       "      <td>4.7</td>\n",
       "      <td>35100</td>\n",
       "      <td>https://www.amazon.com.br/Fone-Ouvido-JBL-Tune...</td>\n",
       "    </tr>\n",
       "    <tr>\n",
       "      <th>183</th>\n",
       "      <td>TOZO T12 Wireless Earbuds Bluetooth Headphones...</td>\n",
       "      <td>329.00</td>\n",
       "      <td>4.3</td>\n",
       "      <td>31651</td>\n",
       "      <td>https://www.amazon.com.br/TOZO-T12-Headphones-...</td>\n",
       "    </tr>\n",
       "    <tr>\n",
       "      <th>119</th>\n",
       "      <td>Headphone Sony WH-1000XM4 Preto sem fio Blueto...</td>\n",
       "      <td>1960.00</td>\n",
       "      <td>4.7</td>\n",
       "      <td>22468</td>\n",
       "      <td>https://www.amazon.com.br/Sony-WH-1000XM4-Canc...</td>\n",
       "    </tr>\n",
       "    <tr>\n",
       "      <th>112</th>\n",
       "      <td>TOZO NC9 Hybrid Active Noise Cancelling Wirele...</td>\n",
       "      <td>394.95</td>\n",
       "      <td>4.2</td>\n",
       "      <td>21351</td>\n",
       "      <td>https://www.amazon.com.br/TOZO-Cancelling-Head...</td>\n",
       "    </tr>\n",
       "  </tbody>\n",
       "</table>\n",
       "</div>"
      ],
      "text/plain": [
       "                                   PRODUCT DESCRIPTION    PRICE  RATING  \\\n",
       "155  TOZO T10 Bluetooth 5.0 Wireless Earbuds with W...   229.90     4.3   \n",
       "125  TOZO T6 True Wireless Earbuds Bluetooth Headph...   281.90     4.4   \n",
       "143  Fones de ouvido iJoy Fosco recarregável sem fi...   420.00     4.4   \n",
       "51   Fones de ouvido Bluetooth, fones de ouvido Zih...   180.99     4.4   \n",
       "19   Fone de ouvido Beats Solo3 Wireless - The Beat...   974.14     4.7   \n",
       "37   Sony WI-XB400 Fone de ouvido intra-auricular s...   299.00     4.2   \n",
       "30   Fone de Ouvido Bluetooth JBL Tune 500 On Ear P...   215.00     4.7   \n",
       "183  TOZO T12 Wireless Earbuds Bluetooth Headphones...   329.00     4.3   \n",
       "119  Headphone Sony WH-1000XM4 Preto sem fio Blueto...  1960.00     4.7   \n",
       "112  TOZO NC9 Hybrid Active Noise Cancelling Wirele...   394.95     4.2   \n",
       "\n",
       "     REVIEW COUNT                                               LINK  \n",
       "155        175326  https://www.amazon.com.br/TOZO-Bluetooth-carre...  \n",
       "125        169079  https://www.amazon.com.br/TOZO-T6-True-carrega...  \n",
       "143         64854  https://www.amazon.com.br/ouvido-recarreg%C3%A...  \n",
       "51          48373  https://www.amazon.com.br/Bluetooth-Over-Ear-e...  \n",
       "19          41028  https://www.amazon.com.br/Beats-Solo3-fones-ou...  \n",
       "37          35975  https://www.amazon.com.br/ouvido-Sony-Wi-Xb400...  \n",
       "30          35100  https://www.amazon.com.br/Fone-Ouvido-JBL-Tune...  \n",
       "183         31651  https://www.amazon.com.br/TOZO-T12-Headphones-...  \n",
       "119         22468  https://www.amazon.com.br/Sony-WH-1000XM4-Canc...  \n",
       "112         21351  https://www.amazon.com.br/TOZO-Cancelling-Head...  "
      ]
     },
     "execution_count": 40,
     "metadata": {},
     "output_type": "execute_result"
    }
   ],
   "source": [
    "df.sort_values(by=['REVIEW COUNT','RATING'], inplace=True, ascending=False)\n",
    "df.head(10)"
   ]
  }
 ],
 "metadata": {
  "interpreter": {
   "hash": "166d5f126c88ccbf3d555564b4abc5f23444d85b72380c90241acc5246aa4945"
  },
  "kernelspec": {
   "display_name": "Python 3.10.2 64-bit",
   "language": "python",
   "name": "python3"
  },
  "language_info": {
   "codemirror_mode": {
    "name": "ipython",
    "version": 3
   },
   "file_extension": ".py",
   "mimetype": "text/x-python",
   "name": "python",
   "nbconvert_exporter": "python",
   "pygments_lexer": "ipython3",
   "version": "3.10.2"
  },
  "orig_nbformat": 4
 },
 "nbformat": 4,
 "nbformat_minor": 2
}
