{
 "cells": [
  {
   "cell_type": "markdown",
   "metadata": {},
   "source": [
    "<center><h1>Amazon Web Scrapping</h1></center>"
   ]
  },
  {
   "cell_type": "markdown",
   "metadata": {},
   "source": [
    "<h4>1) Importing the libraries</h4>\n",
    "\n"
   ]
  },
  {
   "cell_type": "code",
   "execution_count": 1,
   "metadata": {},
   "outputs": [],
   "source": [
    "import csv\n",
    "from bs4 import BeautifulSoup\n",
    "from selenium import webdriver\n",
    "from webdriver_manager.chrome import ChromeDriverManager\n",
    "import pandas as pd\n",
    "import numpy as np\n",
    "import seaborn as srn\n",
    "import matplotlib.pyplot as plt"
   ]
  },
  {
   "cell_type": "markdown",
   "metadata": {},
   "source": [
    "<h4>2) Setting the path of Chrome's driver</h4>"
   ]
  },
  {
   "cell_type": "code",
   "execution_count": null,
   "metadata": {},
   "outputs": [],
   "source": [
    "driver = webdriver.Chrome(ChromeDriverManager().install())"
   ]
  },
  {
   "cell_type": "markdown",
   "metadata": {},
   "source": [
    "<h4>3) Getting our search parameters</h4>"
   ]
  },
  {
   "cell_type": "code",
   "execution_count": 3,
   "metadata": {},
   "outputs": [],
   "source": [
    "search_term = input('Write the product name')\n",
    "search_term = search_term.replace(' ','+')  "
   ]
  },
  {
   "cell_type": "markdown",
   "metadata": {},
   "source": [
    "The user will decide which product the program will scrap data"
   ]
  },
  {
   "cell_type": "markdown",
   "metadata": {},
   "source": [
    "<h4>4) Iterating between products and pages</h4>"
   ]
  },
  {
   "cell_type": "markdown",
   "metadata": {},
   "source": [
    "A empty list is created to storage our product data throughout the iterations"
   ]
  },
  {
   "cell_type": "code",
   "execution_count": 4,
   "metadata": {},
   "outputs": [],
   "source": [
    "list_products = []"
   ]
  },
  {
   "cell_type": "markdown",
   "metadata": {},
   "source": [
    "The next block of code will navigate between the first page to the last one, and the URL will get the three variables that we defined for our search.\n",
    "\n",
    "The program will get the source code of the URL for each page (first for loop). The products are inside a tag div with a specific name, the program will iterate through the products (second for loop) and scrap five informations:\n",
    "1) Product Name\n",
    "2) Price\n",
    "3) Rating\n",
    "4) Review Count\n",
    "5) Link\n",
    "\n",
    "(I'm not considering sponsored products)<br>\n",
    "If it returns AtributeError, the variable will receive a NULL value. The result will be a tuple with our 5 variables and after each product, this tuple will be storaged in the variable 'list_products' which is the empty list created right above."
   ]
  },
  {
   "cell_type": "code",
   "execution_count": 5,
   "metadata": {},
   "outputs": [],
   "source": [
    "page = 0\n",
    "for page in range(1,8):\n",
    "    url = f'https://www.amazon.com.br/s?k={search_term}&page={page}&__mk_pt_BR=%C3%85M%C3%85%C5%BD%C3%95%C3%91&crid=32CUIJ6TTV5WT&qid=1646248377&sprefix={search_term}%2Caps%2C275&ref=sr_pg_{page}'    \n",
    "\n",
    "    driver.get(url)\n",
    "\n",
    "    soup = BeautifulSoup(driver.page_source, 'html.parser')\n",
    "    results = soup.find_all('div', {'data-component-type': 's-search-result'})\n",
    "    for product in results:\n",
    "        sponsored_product = product.find('span','a-color-base').text.strip()\n",
    "        if sponsored_product == \"Patrocinados\":\n",
    "            continue\n",
    "        \n",
    "        a_tag = product.h2.a\n",
    "        product_name = a_tag.text.strip()\n",
    "        link = 'https://www.amazon.com.br' + a_tag.get('href')\n",
    "        try:\n",
    "            price_span_tag = product.find('span', 'a-price')\n",
    "            price = price_span_tag.find('span', 'a-offscreen').text.strip()\n",
    "        except AttributeError:\n",
    "            price = ''\n",
    "                \n",
    "        try:\n",
    "            rating_icon = product.find('span','a-icon-alt') .text.strip()\n",
    "            review_count = product.find('span', {'class': 'a-size-base s-underline-text'}).text\n",
    "            review_count = str(review_count)\n",
    "            review_count = review_count.replace('.','')\n",
    "        except AttributeError:\n",
    "            rating = ''\n",
    "            review_count = ''\n",
    "\n",
    "        result = (product_name, price, rating_icon, review_count, link)\n",
    "        list_products.append(result)\n",
    "driver.close()"
   ]
  },
  {
   "cell_type": "markdown",
   "metadata": {},
   "source": [
    "I previously created a csv file, whose will get the products (list_products) and right after will be transformed in a pandas dataframe"
   ]
  },
  {
   "cell_type": "code",
   "execution_count": 6,
   "metadata": {},
   "outputs": [],
   "source": [
    "with open('products.csv','w', encoding = 'utf-8') as p:\n",
    "    writer = csv.writer(p)\n",
    "    writer.writerow(['PRODUCT DESCRIPTION','PRICE','RATING','REVIEW COUNT','LINK'])\n",
    "    writer.writerows(list_products)"
   ]
  },
  {
   "cell_type": "code",
   "execution_count": 7,
   "metadata": {},
   "outputs": [
    {
     "data": {
      "text/html": [
       "<div>\n",
       "<style scoped>\n",
       "    .dataframe tbody tr th:only-of-type {\n",
       "        vertical-align: middle;\n",
       "    }\n",
       "\n",
       "    .dataframe tbody tr th {\n",
       "        vertical-align: top;\n",
       "    }\n",
       "\n",
       "    .dataframe thead th {\n",
       "        text-align: right;\n",
       "    }\n",
       "</style>\n",
       "<table border=\"1\" class=\"dataframe\">\n",
       "  <thead>\n",
       "    <tr style=\"text-align: right;\">\n",
       "      <th></th>\n",
       "      <th>PRODUCT DESCRIPTION</th>\n",
       "      <th>PRICE</th>\n",
       "      <th>RATING</th>\n",
       "      <th>REVIEW COUNT</th>\n",
       "      <th>LINK</th>\n",
       "    </tr>\n",
       "  </thead>\n",
       "  <tbody>\n",
       "    <tr>\n",
       "      <th>0</th>\n",
       "      <td>Multilaser - PD588 Pen Drive Twist 16GB USB Le...</td>\n",
       "      <td>R$ 17,94</td>\n",
       "      <td>4,6 de 5 estrelas</td>\n",
       "      <td>10613.0</td>\n",
       "      <td>https://www.amazon.com.br/Multilaser-Twist1-Me...</td>\n",
       "    </tr>\n",
       "    <tr>\n",
       "      <th>1</th>\n",
       "      <td>Pendrive Datatraveler 100G3 32Gb, Kingston, Pe...</td>\n",
       "      <td>R$ 63,00</td>\n",
       "      <td>4,8 de 5 estrelas</td>\n",
       "      <td>60187.0</td>\n",
       "      <td>https://www.amazon.com.br/Pendrive-DataTravele...</td>\n",
       "    </tr>\n",
       "    <tr>\n",
       "      <th>2</th>\n",
       "      <td>PenDrive SanDisk Cruzer Ultra Flair 32GB, Prata</td>\n",
       "      <td>R$ 80,50</td>\n",
       "      <td>4,6 de 5 estrelas</td>\n",
       "      <td>111966.0</td>\n",
       "      <td>https://www.amazon.com.br/Drive-Cruzer-Ultra-S...</td>\n",
       "    </tr>\n",
       "    <tr>\n",
       "      <th>3</th>\n",
       "      <td>MULTILASER Diamond Pd 851 Pen Drive Usb Metáli...</td>\n",
       "      <td>R$ 54,90</td>\n",
       "      <td>4,5 de 5 estrelas</td>\n",
       "      <td>577.0</td>\n",
       "      <td>https://www.amazon.com.br/MULTILASER-Diamond-D...</td>\n",
       "    </tr>\n",
       "    <tr>\n",
       "      <th>4</th>\n",
       "      <td>Pen Drive Cruzer Blade, SanDisk, 32GB, SDCZ60-...</td>\n",
       "      <td>R$ 39,90</td>\n",
       "      <td>4,8 de 5 estrelas</td>\n",
       "      <td>134756.0</td>\n",
       "      <td>https://www.amazon.com.br/Pen-Drive-32GB-Sandi...</td>\n",
       "    </tr>\n",
       "  </tbody>\n",
       "</table>\n",
       "</div>"
      ],
      "text/plain": [
       "                                 PRODUCT DESCRIPTION     PRICE  \\\n",
       "0  Multilaser - PD588 Pen Drive Twist 16GB USB Le...  R$ 17,94   \n",
       "1  Pendrive Datatraveler 100G3 32Gb, Kingston, Pe...  R$ 63,00   \n",
       "2    PenDrive SanDisk Cruzer Ultra Flair 32GB, Prata  R$ 80,50   \n",
       "3  MULTILASER Diamond Pd 851 Pen Drive Usb Metáli...  R$ 54,90   \n",
       "4  Pen Drive Cruzer Blade, SanDisk, 32GB, SDCZ60-...  R$ 39,90   \n",
       "\n",
       "              RATING  REVIEW COUNT  \\\n",
       "0  4,6 de 5 estrelas       10613.0   \n",
       "1  4,8 de 5 estrelas       60187.0   \n",
       "2  4,6 de 5 estrelas      111966.0   \n",
       "3  4,5 de 5 estrelas         577.0   \n",
       "4  4,8 de 5 estrelas      134756.0   \n",
       "\n",
       "                                                LINK  \n",
       "0  https://www.amazon.com.br/Multilaser-Twist1-Me...  \n",
       "1  https://www.amazon.com.br/Pendrive-DataTravele...  \n",
       "2  https://www.amazon.com.br/Drive-Cruzer-Ultra-S...  \n",
       "3  https://www.amazon.com.br/MULTILASER-Diamond-D...  \n",
       "4  https://www.amazon.com.br/Pen-Drive-32GB-Sandi...  "
      ]
     },
     "execution_count": 7,
     "metadata": {},
     "output_type": "execute_result"
    }
   ],
   "source": [
    "df = pd.read_csv('products.csv')\n",
    "df.head()"
   ]
  },
  {
   "cell_type": "markdown",
   "metadata": {},
   "source": [
    "<h4>5) Doing some EDA (Exploratory Data Analysis)</h4>"
   ]
  },
  {
   "cell_type": "markdown",
   "metadata": {},
   "source": [
    "Checking the type of each column"
   ]
  },
  {
   "cell_type": "code",
   "execution_count": 8,
   "metadata": {},
   "outputs": [
    {
     "name": "stdout",
     "output_type": "stream",
     "text": [
      "PRODUCT DESCRIPTION     object\n",
      "PRICE                   object\n",
      "RATING                  object\n",
      "REVIEW COUNT           float64\n",
      "LINK                    object\n",
      "dtype: object\n"
     ]
    }
   ],
   "source": [
    "print(df.dtypes)"
   ]
  },
  {
   "cell_type": "markdown",
   "metadata": {},
   "source": [
    "Checking the number of null values in each column"
   ]
  },
  {
   "cell_type": "code",
   "execution_count": 9,
   "metadata": {},
   "outputs": [
    {
     "data": {
      "text/plain": [
       "PRODUCT DESCRIPTION     0\n",
       "PRICE                  50\n",
       "RATING                  0\n",
       "REVIEW COUNT           79\n",
       "LINK                    0\n",
       "dtype: int64"
      ]
     },
     "execution_count": 9,
     "metadata": {},
     "output_type": "execute_result"
    }
   ],
   "source": [
    "df.isnull().sum()"
   ]
  },
  {
   "cell_type": "markdown",
   "metadata": {},
   "source": [
    "Removing the NAn"
   ]
  },
  {
   "cell_type": "code",
   "execution_count": 10,
   "metadata": {},
   "outputs": [
    {
     "data": {
      "text/plain": [
       "PRODUCT DESCRIPTION    0\n",
       "PRICE                  0\n",
       "RATING                 0\n",
       "REVIEW COUNT           0\n",
       "LINK                   0\n",
       "dtype: int64"
      ]
     },
     "execution_count": 10,
     "metadata": {},
     "output_type": "execute_result"
    }
   ],
   "source": [
    "df = df.dropna()\n",
    "df = df.reset_index(drop=True)\n",
    "df.isnull().sum()"
   ]
  },
  {
   "cell_type": "markdown",
   "metadata": {},
   "source": [
    "Treating the 'RATING' column to get only the number"
   ]
  },
  {
   "cell_type": "code",
   "execution_count": 11,
   "metadata": {},
   "outputs": [
    {
     "data": {
      "text/html": [
       "<div>\n",
       "<style scoped>\n",
       "    .dataframe tbody tr th:only-of-type {\n",
       "        vertical-align: middle;\n",
       "    }\n",
       "\n",
       "    .dataframe tbody tr th {\n",
       "        vertical-align: top;\n",
       "    }\n",
       "\n",
       "    .dataframe thead th {\n",
       "        text-align: right;\n",
       "    }\n",
       "</style>\n",
       "<table border=\"1\" class=\"dataframe\">\n",
       "  <thead>\n",
       "    <tr style=\"text-align: right;\">\n",
       "      <th></th>\n",
       "      <th>PRODUCT DESCRIPTION</th>\n",
       "      <th>PRICE</th>\n",
       "      <th>RATING</th>\n",
       "      <th>REVIEW COUNT</th>\n",
       "      <th>LINK</th>\n",
       "    </tr>\n",
       "  </thead>\n",
       "  <tbody>\n",
       "    <tr>\n",
       "      <th>0</th>\n",
       "      <td>Multilaser - PD588 Pen Drive Twist 16GB USB Le...</td>\n",
       "      <td>R$ 17,94</td>\n",
       "      <td>4.6</td>\n",
       "      <td>10613.0</td>\n",
       "      <td>https://www.amazon.com.br/Multilaser-Twist1-Me...</td>\n",
       "    </tr>\n",
       "    <tr>\n",
       "      <th>1</th>\n",
       "      <td>Pendrive Datatraveler 100G3 32Gb, Kingston, Pe...</td>\n",
       "      <td>R$ 63,00</td>\n",
       "      <td>4.8</td>\n",
       "      <td>60187.0</td>\n",
       "      <td>https://www.amazon.com.br/Pendrive-DataTravele...</td>\n",
       "    </tr>\n",
       "    <tr>\n",
       "      <th>2</th>\n",
       "      <td>PenDrive SanDisk Cruzer Ultra Flair 32GB, Prata</td>\n",
       "      <td>R$ 80,50</td>\n",
       "      <td>4.6</td>\n",
       "      <td>111966.0</td>\n",
       "      <td>https://www.amazon.com.br/Drive-Cruzer-Ultra-S...</td>\n",
       "    </tr>\n",
       "    <tr>\n",
       "      <th>3</th>\n",
       "      <td>MULTILASER Diamond Pd 851 Pen Drive Usb Metáli...</td>\n",
       "      <td>R$ 54,90</td>\n",
       "      <td>4.5</td>\n",
       "      <td>577.0</td>\n",
       "      <td>https://www.amazon.com.br/MULTILASER-Diamond-D...</td>\n",
       "    </tr>\n",
       "    <tr>\n",
       "      <th>4</th>\n",
       "      <td>Pen Drive Cruzer Blade, SanDisk, 32GB, SDCZ60-...</td>\n",
       "      <td>R$ 39,90</td>\n",
       "      <td>4.8</td>\n",
       "      <td>134756.0</td>\n",
       "      <td>https://www.amazon.com.br/Pen-Drive-32GB-Sandi...</td>\n",
       "    </tr>\n",
       "  </tbody>\n",
       "</table>\n",
       "</div>"
      ],
      "text/plain": [
       "                                 PRODUCT DESCRIPTION     PRICE  RATING  \\\n",
       "0  Multilaser - PD588 Pen Drive Twist 16GB USB Le...  R$ 17,94     4.6   \n",
       "1  Pendrive Datatraveler 100G3 32Gb, Kingston, Pe...  R$ 63,00     4.8   \n",
       "2    PenDrive SanDisk Cruzer Ultra Flair 32GB, Prata  R$ 80,50     4.6   \n",
       "3  MULTILASER Diamond Pd 851 Pen Drive Usb Metáli...  R$ 54,90     4.5   \n",
       "4  Pen Drive Cruzer Blade, SanDisk, 32GB, SDCZ60-...  R$ 39,90     4.8   \n",
       "\n",
       "   REVIEW COUNT                                               LINK  \n",
       "0       10613.0  https://www.amazon.com.br/Multilaser-Twist1-Me...  \n",
       "1       60187.0  https://www.amazon.com.br/Pendrive-DataTravele...  \n",
       "2      111966.0  https://www.amazon.com.br/Drive-Cruzer-Ultra-S...  \n",
       "3         577.0  https://www.amazon.com.br/MULTILASER-Diamond-D...  \n",
       "4      134756.0  https://www.amazon.com.br/Pen-Drive-32GB-Sandi...  "
      ]
     },
     "execution_count": 11,
     "metadata": {},
     "output_type": "execute_result"
    }
   ],
   "source": [
    "df['RATING'] = df['RATING'].str[:3].replace({',':'.'}, regex=True).astype(float)\n",
    "df.head()"
   ]
  },
  {
   "cell_type": "markdown",
   "metadata": {},
   "source": [
    "The column 'REVIEW COUNT' will get only integer values"
   ]
  },
  {
   "cell_type": "code",
   "execution_count": 12,
   "metadata": {},
   "outputs": [
    {
     "data": {
      "text/html": [
       "<div>\n",
       "<style scoped>\n",
       "    .dataframe tbody tr th:only-of-type {\n",
       "        vertical-align: middle;\n",
       "    }\n",
       "\n",
       "    .dataframe tbody tr th {\n",
       "        vertical-align: top;\n",
       "    }\n",
       "\n",
       "    .dataframe thead th {\n",
       "        text-align: right;\n",
       "    }\n",
       "</style>\n",
       "<table border=\"1\" class=\"dataframe\">\n",
       "  <thead>\n",
       "    <tr style=\"text-align: right;\">\n",
       "      <th></th>\n",
       "      <th>PRODUCT DESCRIPTION</th>\n",
       "      <th>PRICE</th>\n",
       "      <th>RATING</th>\n",
       "      <th>REVIEW COUNT</th>\n",
       "      <th>LINK</th>\n",
       "    </tr>\n",
       "  </thead>\n",
       "  <tbody>\n",
       "    <tr>\n",
       "      <th>0</th>\n",
       "      <td>Multilaser - PD588 Pen Drive Twist 16GB USB Le...</td>\n",
       "      <td>R$ 17,94</td>\n",
       "      <td>4.6</td>\n",
       "      <td>10613</td>\n",
       "      <td>https://www.amazon.com.br/Multilaser-Twist1-Me...</td>\n",
       "    </tr>\n",
       "    <tr>\n",
       "      <th>1</th>\n",
       "      <td>Pendrive Datatraveler 100G3 32Gb, Kingston, Pe...</td>\n",
       "      <td>R$ 63,00</td>\n",
       "      <td>4.8</td>\n",
       "      <td>60187</td>\n",
       "      <td>https://www.amazon.com.br/Pendrive-DataTravele...</td>\n",
       "    </tr>\n",
       "    <tr>\n",
       "      <th>2</th>\n",
       "      <td>PenDrive SanDisk Cruzer Ultra Flair 32GB, Prata</td>\n",
       "      <td>R$ 80,50</td>\n",
       "      <td>4.6</td>\n",
       "      <td>111966</td>\n",
       "      <td>https://www.amazon.com.br/Drive-Cruzer-Ultra-S...</td>\n",
       "    </tr>\n",
       "    <tr>\n",
       "      <th>3</th>\n",
       "      <td>MULTILASER Diamond Pd 851 Pen Drive Usb Metáli...</td>\n",
       "      <td>R$ 54,90</td>\n",
       "      <td>4.5</td>\n",
       "      <td>577</td>\n",
       "      <td>https://www.amazon.com.br/MULTILASER-Diamond-D...</td>\n",
       "    </tr>\n",
       "    <tr>\n",
       "      <th>4</th>\n",
       "      <td>Pen Drive Cruzer Blade, SanDisk, 32GB, SDCZ60-...</td>\n",
       "      <td>R$ 39,90</td>\n",
       "      <td>4.8</td>\n",
       "      <td>134756</td>\n",
       "      <td>https://www.amazon.com.br/Pen-Drive-32GB-Sandi...</td>\n",
       "    </tr>\n",
       "  </tbody>\n",
       "</table>\n",
       "</div>"
      ],
      "text/plain": [
       "                                 PRODUCT DESCRIPTION     PRICE  RATING  \\\n",
       "0  Multilaser - PD588 Pen Drive Twist 16GB USB Le...  R$ 17,94     4.6   \n",
       "1  Pendrive Datatraveler 100G3 32Gb, Kingston, Pe...  R$ 63,00     4.8   \n",
       "2    PenDrive SanDisk Cruzer Ultra Flair 32GB, Prata  R$ 80,50     4.6   \n",
       "3  MULTILASER Diamond Pd 851 Pen Drive Usb Metáli...  R$ 54,90     4.5   \n",
       "4  Pen Drive Cruzer Blade, SanDisk, 32GB, SDCZ60-...  R$ 39,90     4.8   \n",
       "\n",
       "   REVIEW COUNT                                               LINK  \n",
       "0         10613  https://www.amazon.com.br/Multilaser-Twist1-Me...  \n",
       "1         60187  https://www.amazon.com.br/Pendrive-DataTravele...  \n",
       "2        111966  https://www.amazon.com.br/Drive-Cruzer-Ultra-S...  \n",
       "3           577  https://www.amazon.com.br/MULTILASER-Diamond-D...  \n",
       "4        134756  https://www.amazon.com.br/Pen-Drive-32GB-Sandi...  "
      ]
     },
     "execution_count": 12,
     "metadata": {},
     "output_type": "execute_result"
    }
   ],
   "source": [
    "#df['REVIEW COUNT'] = df['REVIEW COUNT'].replace({'.':''}, regex=True).astype(int)\n",
    "df['REVIEW COUNT'] = df['REVIEW COUNT'].astype('int')\n",
    "#df['REVIEW COUNT'] = df['REVIEW COUNT'].str.replace({'.':','},regex=True)\n",
    "df.head()"
   ]
  },
  {
   "cell_type": "code",
   "execution_count": 13,
   "metadata": {},
   "outputs": [
    {
     "data": {
      "text/plain": [
       "PRODUCT DESCRIPTION     object\n",
       "PRICE                   object\n",
       "RATING                 float64\n",
       "REVIEW COUNT             int32\n",
       "LINK                    object\n",
       "dtype: object"
      ]
     },
     "execution_count": 13,
     "metadata": {},
     "output_type": "execute_result"
    }
   ],
   "source": [
    "df.dtypes"
   ]
  },
  {
   "cell_type": "markdown",
   "metadata": {},
   "source": [
    "Removing the 'R$' part from the price"
   ]
  },
  {
   "cell_type": "code",
   "execution_count": 14,
   "metadata": {},
   "outputs": [],
   "source": [
    "remove_coin = df['PRICE'].str.split('$').str[1]\n",
    "df['PRICE'] = remove_coin.str.strip()\n",
    "#price_integer = \n"
   ]
  },
  {
   "cell_type": "markdown",
   "metadata": {},
   "source": [
    "To correct the column 'Price' i had to split the numbers in two parts (integer part and decimal part) and replace ',' to a empty value. Then I had to put these two parts together again with '.' to separate them. It's a not so pretty solution but it worked, and I intend to optimize this part."
   ]
  },
  {
   "cell_type": "markdown",
   "metadata": {},
   "source": [
    "<h5>Splitting and Replacing</h5>"
   ]
  },
  {
   "cell_type": "code",
   "execution_count": 15,
   "metadata": {},
   "outputs": [
    {
     "name": "stderr",
     "output_type": "stream",
     "text": [
      "C:\\Users\\Alfred\\AppData\\Local\\Temp\\ipykernel_46372\\1546184746.py:2: FutureWarning: The default value of regex will change from True to False in a future version. In addition, single character regular expressions will *not* be treated as literal strings when regex=True.\n",
      "  df['integer_part'] = df['integer_part'].str.replace('.','')\n"
     ]
    },
    {
     "data": {
      "text/plain": [
       "0       17\n",
       "1       63\n",
       "2       80\n",
       "3       54\n",
       "4       39\n",
       "      ... \n",
       "181    169\n",
       "182    991\n",
       "183    171\n",
       "184     93\n",
       "185    190\n",
       "Name: integer_part, Length: 186, dtype: object"
      ]
     },
     "execution_count": 15,
     "metadata": {},
     "output_type": "execute_result"
    }
   ],
   "source": [
    "\n",
    "df['integer_part'] = df['PRICE'].str.split(',').str[0]\n",
    "df['integer_part'] = df['integer_part'].str.replace('.','')\n",
    "df['integer_part']"
   ]
  },
  {
   "cell_type": "code",
   "execution_count": 16,
   "metadata": {},
   "outputs": [
    {
     "data": {
      "text/plain": [
       "0      94\n",
       "1      00\n",
       "2      50\n",
       "3      90\n",
       "4      90\n",
       "       ..\n",
       "181    00\n",
       "182    21\n",
       "183    65\n",
       "184    10\n",
       "185    99\n",
       "Name: decimal_part, Length: 186, dtype: object"
      ]
     },
     "execution_count": 16,
     "metadata": {},
     "output_type": "execute_result"
    }
   ],
   "source": [
    "df['decimal_part'] = df['PRICE'].str.split(',').str[1]\n",
    "df['decimal_part']"
   ]
  },
  {
   "cell_type": "markdown",
   "metadata": {},
   "source": [
    "<h5>Joining the parts</h5>"
   ]
  },
  {
   "cell_type": "code",
   "execution_count": 17,
   "metadata": {},
   "outputs": [],
   "source": [
    "df['PRICE_CORRECT'] = df['integer_part'] + \".\" + df['decimal_part']\n",
    "df['PRICE_CORRECT'] = df['PRICE_CORRECT'].astype('string')\n",
    "df['PRICE_CORRECT'] = df['PRICE_CORRECT'].astype('float')"
   ]
  },
  {
   "cell_type": "code",
   "execution_count": 18,
   "metadata": {},
   "outputs": [],
   "source": [
    "df['PRICE'] = df['PRICE_CORRECT']\n",
    "df.drop(['integer_part','decimal_part','PRICE_CORRECT'], axis=1, inplace=True)\n"
   ]
  },
  {
   "cell_type": "markdown",
   "metadata": {},
   "source": [
    "Now that the dataframe is polished, let's check how the variables 'Rating' and 'Price' are distributed. It's possible to see that the most part of Power Banks in Amazon have a sort of good quality, due to de high rating. And the Average price is R$100,00 with some outliers. "
   ]
  },
  {
   "cell_type": "code",
   "execution_count": 24,
   "metadata": {},
   "outputs": [],
   "source": [
    "import plotly.express as px"
   ]
  },
  {
   "cell_type": "code",
   "execution_count": 40,
   "metadata": {},
   "outputs": [
    {
     "data": {
      "application/vnd.plotly.v1+json": {
       "config": {
        "plotlyServerURL": "https://plot.ly"
       },
       "data": [
        {
         "alignmentgroup": "True",
         "bingroup": "x",
         "hovertemplate": "variable=RATING<br>value=%{x}<br>count=%{y}<extra></extra>",
         "legendgroup": "RATING",
         "marker": {
          "color": "#520AA9",
          "pattern": {
           "shape": ""
          }
         },
         "name": "RATING",
         "offsetgroup": "RATING",
         "orientation": "v",
         "showlegend": true,
         "type": "histogram",
         "x": [
          4.8,
          4.6,
          4.7,
          4.8,
          4.6,
          4.8,
          4.5,
          4.7,
          4.7,
          4.7,
          4.5,
          4.7,
          4.6,
          4.7,
          4.2,
          4.5,
          4.8,
          4.8,
          4.6,
          4.7,
          4.5,
          4.4,
          4.3,
          4.6,
          4.5,
          4.6,
          4.4,
          4.5,
          4.5,
          4.2,
          4.7,
          4.5,
          4.6,
          4.5,
          4.4,
          4.5,
          4.6,
          4.6,
          4.6,
          4.7,
          4.6,
          4.4,
          4.6,
          4.6,
          4.7,
          4.2,
          4.3,
          4.5,
          4.5,
          4.3,
          4.7,
          4.2,
          4.2,
          4.4,
          4.7,
          4.7,
          4.5,
          4.7,
          4.1,
          4.6,
          4.3,
          4.5,
          4.6,
          4.6,
          4.6,
          4.6,
          4.5,
          3.7,
          4.5,
          4.4,
          4.3,
          4.4,
          4.6,
          4.7,
          4.6,
          4.6,
          4.6,
          4.4,
          4.7,
          4.6,
          4.2,
          4.6,
          4,
          4.5,
          4.8,
          4.5,
          4.2,
          4.6,
          4.6,
          4.6,
          4.1,
          4.7,
          4,
          4.6,
          4.4,
          4.8,
          4.3,
          4.6,
          4.2,
          4.6,
          4.5,
          4,
          3.6,
          4.5,
          4.5,
          4.6,
          3,
          3.8,
          3.8,
          4.3,
          3.8,
          4.5,
          3.8,
          4,
          4.7,
          4.5,
          4.6,
          3.6,
          4.7,
          4.1,
          4.3,
          4.9,
          4.5,
          4.4,
          4.5,
          4.3,
          4.3,
          4,
          3.8,
          4.2,
          4.9,
          4.8,
          4,
          4.8,
          4.8,
          4.3,
          4.1,
          3.3,
          4.7,
          4.3,
          3.7,
          5,
          3.7,
          2.6,
          4.8,
          4.3,
          2.7,
          5,
          5,
          4.5,
          4.2,
          3,
          2.7,
          5,
          4.2,
          3.9,
          3.7,
          3,
          1.6,
          5,
          5,
          4.6,
          4.6,
          4.6,
          5,
          5,
          5,
          4.5,
          4.5,
          4.1,
          4,
          3.3,
          3,
          5,
          5,
          5,
          5,
          5,
          5,
          5,
          4,
          4,
          4,
          4,
          3,
          3
         ],
         "xaxis": "x",
         "yaxis": "y"
        }
       ],
       "layout": {
        "barmode": "relative",
        "height": 350,
        "legend": {
         "title": {
          "text": "variable"
         },
         "tracegroupgap": 0
        },
        "template": {
         "data": {
          "bar": [
           {
            "error_x": {
             "color": "#2a3f5f"
            },
            "error_y": {
             "color": "#2a3f5f"
            },
            "marker": {
             "line": {
              "color": "#E5ECF6",
              "width": 0.5
             },
             "pattern": {
              "fillmode": "overlay",
              "size": 10,
              "solidity": 0.2
             }
            },
            "type": "bar"
           }
          ],
          "barpolar": [
           {
            "marker": {
             "line": {
              "color": "#E5ECF6",
              "width": 0.5
             },
             "pattern": {
              "fillmode": "overlay",
              "size": 10,
              "solidity": 0.2
             }
            },
            "type": "barpolar"
           }
          ],
          "carpet": [
           {
            "aaxis": {
             "endlinecolor": "#2a3f5f",
             "gridcolor": "white",
             "linecolor": "white",
             "minorgridcolor": "white",
             "startlinecolor": "#2a3f5f"
            },
            "baxis": {
             "endlinecolor": "#2a3f5f",
             "gridcolor": "white",
             "linecolor": "white",
             "minorgridcolor": "white",
             "startlinecolor": "#2a3f5f"
            },
            "type": "carpet"
           }
          ],
          "choropleth": [
           {
            "colorbar": {
             "outlinewidth": 0,
             "ticks": ""
            },
            "type": "choropleth"
           }
          ],
          "contour": [
           {
            "colorbar": {
             "outlinewidth": 0,
             "ticks": ""
            },
            "colorscale": [
             [
              0,
              "#0d0887"
             ],
             [
              0.1111111111111111,
              "#46039f"
             ],
             [
              0.2222222222222222,
              "#7201a8"
             ],
             [
              0.3333333333333333,
              "#9c179e"
             ],
             [
              0.4444444444444444,
              "#bd3786"
             ],
             [
              0.5555555555555556,
              "#d8576b"
             ],
             [
              0.6666666666666666,
              "#ed7953"
             ],
             [
              0.7777777777777778,
              "#fb9f3a"
             ],
             [
              0.8888888888888888,
              "#fdca26"
             ],
             [
              1,
              "#f0f921"
             ]
            ],
            "type": "contour"
           }
          ],
          "contourcarpet": [
           {
            "colorbar": {
             "outlinewidth": 0,
             "ticks": ""
            },
            "type": "contourcarpet"
           }
          ],
          "heatmap": [
           {
            "colorbar": {
             "outlinewidth": 0,
             "ticks": ""
            },
            "colorscale": [
             [
              0,
              "#0d0887"
             ],
             [
              0.1111111111111111,
              "#46039f"
             ],
             [
              0.2222222222222222,
              "#7201a8"
             ],
             [
              0.3333333333333333,
              "#9c179e"
             ],
             [
              0.4444444444444444,
              "#bd3786"
             ],
             [
              0.5555555555555556,
              "#d8576b"
             ],
             [
              0.6666666666666666,
              "#ed7953"
             ],
             [
              0.7777777777777778,
              "#fb9f3a"
             ],
             [
              0.8888888888888888,
              "#fdca26"
             ],
             [
              1,
              "#f0f921"
             ]
            ],
            "type": "heatmap"
           }
          ],
          "heatmapgl": [
           {
            "colorbar": {
             "outlinewidth": 0,
             "ticks": ""
            },
            "colorscale": [
             [
              0,
              "#0d0887"
             ],
             [
              0.1111111111111111,
              "#46039f"
             ],
             [
              0.2222222222222222,
              "#7201a8"
             ],
             [
              0.3333333333333333,
              "#9c179e"
             ],
             [
              0.4444444444444444,
              "#bd3786"
             ],
             [
              0.5555555555555556,
              "#d8576b"
             ],
             [
              0.6666666666666666,
              "#ed7953"
             ],
             [
              0.7777777777777778,
              "#fb9f3a"
             ],
             [
              0.8888888888888888,
              "#fdca26"
             ],
             [
              1,
              "#f0f921"
             ]
            ],
            "type": "heatmapgl"
           }
          ],
          "histogram": [
           {
            "marker": {
             "pattern": {
              "fillmode": "overlay",
              "size": 10,
              "solidity": 0.2
             }
            },
            "type": "histogram"
           }
          ],
          "histogram2d": [
           {
            "colorbar": {
             "outlinewidth": 0,
             "ticks": ""
            },
            "colorscale": [
             [
              0,
              "#0d0887"
             ],
             [
              0.1111111111111111,
              "#46039f"
             ],
             [
              0.2222222222222222,
              "#7201a8"
             ],
             [
              0.3333333333333333,
              "#9c179e"
             ],
             [
              0.4444444444444444,
              "#bd3786"
             ],
             [
              0.5555555555555556,
              "#d8576b"
             ],
             [
              0.6666666666666666,
              "#ed7953"
             ],
             [
              0.7777777777777778,
              "#fb9f3a"
             ],
             [
              0.8888888888888888,
              "#fdca26"
             ],
             [
              1,
              "#f0f921"
             ]
            ],
            "type": "histogram2d"
           }
          ],
          "histogram2dcontour": [
           {
            "colorbar": {
             "outlinewidth": 0,
             "ticks": ""
            },
            "colorscale": [
             [
              0,
              "#0d0887"
             ],
             [
              0.1111111111111111,
              "#46039f"
             ],
             [
              0.2222222222222222,
              "#7201a8"
             ],
             [
              0.3333333333333333,
              "#9c179e"
             ],
             [
              0.4444444444444444,
              "#bd3786"
             ],
             [
              0.5555555555555556,
              "#d8576b"
             ],
             [
              0.6666666666666666,
              "#ed7953"
             ],
             [
              0.7777777777777778,
              "#fb9f3a"
             ],
             [
              0.8888888888888888,
              "#fdca26"
             ],
             [
              1,
              "#f0f921"
             ]
            ],
            "type": "histogram2dcontour"
           }
          ],
          "mesh3d": [
           {
            "colorbar": {
             "outlinewidth": 0,
             "ticks": ""
            },
            "type": "mesh3d"
           }
          ],
          "parcoords": [
           {
            "line": {
             "colorbar": {
              "outlinewidth": 0,
              "ticks": ""
             }
            },
            "type": "parcoords"
           }
          ],
          "pie": [
           {
            "automargin": true,
            "type": "pie"
           }
          ],
          "scatter": [
           {
            "fillpattern": {
             "fillmode": "overlay",
             "size": 10,
             "solidity": 0.2
            },
            "type": "scatter"
           }
          ],
          "scatter3d": [
           {
            "line": {
             "colorbar": {
              "outlinewidth": 0,
              "ticks": ""
             }
            },
            "marker": {
             "colorbar": {
              "outlinewidth": 0,
              "ticks": ""
             }
            },
            "type": "scatter3d"
           }
          ],
          "scattercarpet": [
           {
            "marker": {
             "colorbar": {
              "outlinewidth": 0,
              "ticks": ""
             }
            },
            "type": "scattercarpet"
           }
          ],
          "scattergeo": [
           {
            "marker": {
             "colorbar": {
              "outlinewidth": 0,
              "ticks": ""
             }
            },
            "type": "scattergeo"
           }
          ],
          "scattergl": [
           {
            "marker": {
             "colorbar": {
              "outlinewidth": 0,
              "ticks": ""
             }
            },
            "type": "scattergl"
           }
          ],
          "scattermapbox": [
           {
            "marker": {
             "colorbar": {
              "outlinewidth": 0,
              "ticks": ""
             }
            },
            "type": "scattermapbox"
           }
          ],
          "scatterpolar": [
           {
            "marker": {
             "colorbar": {
              "outlinewidth": 0,
              "ticks": ""
             }
            },
            "type": "scatterpolar"
           }
          ],
          "scatterpolargl": [
           {
            "marker": {
             "colorbar": {
              "outlinewidth": 0,
              "ticks": ""
             }
            },
            "type": "scatterpolargl"
           }
          ],
          "scatterternary": [
           {
            "marker": {
             "colorbar": {
              "outlinewidth": 0,
              "ticks": ""
             }
            },
            "type": "scatterternary"
           }
          ],
          "surface": [
           {
            "colorbar": {
             "outlinewidth": 0,
             "ticks": ""
            },
            "colorscale": [
             [
              0,
              "#0d0887"
             ],
             [
              0.1111111111111111,
              "#46039f"
             ],
             [
              0.2222222222222222,
              "#7201a8"
             ],
             [
              0.3333333333333333,
              "#9c179e"
             ],
             [
              0.4444444444444444,
              "#bd3786"
             ],
             [
              0.5555555555555556,
              "#d8576b"
             ],
             [
              0.6666666666666666,
              "#ed7953"
             ],
             [
              0.7777777777777778,
              "#fb9f3a"
             ],
             [
              0.8888888888888888,
              "#fdca26"
             ],
             [
              1,
              "#f0f921"
             ]
            ],
            "type": "surface"
           }
          ],
          "table": [
           {
            "cells": {
             "fill": {
              "color": "#EBF0F8"
             },
             "line": {
              "color": "white"
             }
            },
            "header": {
             "fill": {
              "color": "#C8D4E3"
             },
             "line": {
              "color": "white"
             }
            },
            "type": "table"
           }
          ]
         },
         "layout": {
          "annotationdefaults": {
           "arrowcolor": "#2a3f5f",
           "arrowhead": 0,
           "arrowwidth": 1
          },
          "autotypenumbers": "strict",
          "coloraxis": {
           "colorbar": {
            "outlinewidth": 0,
            "ticks": ""
           }
          },
          "colorscale": {
           "diverging": [
            [
             0,
             "#8e0152"
            ],
            [
             0.1,
             "#c51b7d"
            ],
            [
             0.2,
             "#de77ae"
            ],
            [
             0.3,
             "#f1b6da"
            ],
            [
             0.4,
             "#fde0ef"
            ],
            [
             0.5,
             "#f7f7f7"
            ],
            [
             0.6,
             "#e6f5d0"
            ],
            [
             0.7,
             "#b8e186"
            ],
            [
             0.8,
             "#7fbc41"
            ],
            [
             0.9,
             "#4d9221"
            ],
            [
             1,
             "#276419"
            ]
           ],
           "sequential": [
            [
             0,
             "#0d0887"
            ],
            [
             0.1111111111111111,
             "#46039f"
            ],
            [
             0.2222222222222222,
             "#7201a8"
            ],
            [
             0.3333333333333333,
             "#9c179e"
            ],
            [
             0.4444444444444444,
             "#bd3786"
            ],
            [
             0.5555555555555556,
             "#d8576b"
            ],
            [
             0.6666666666666666,
             "#ed7953"
            ],
            [
             0.7777777777777778,
             "#fb9f3a"
            ],
            [
             0.8888888888888888,
             "#fdca26"
            ],
            [
             1,
             "#f0f921"
            ]
           ],
           "sequentialminus": [
            [
             0,
             "#0d0887"
            ],
            [
             0.1111111111111111,
             "#46039f"
            ],
            [
             0.2222222222222222,
             "#7201a8"
            ],
            [
             0.3333333333333333,
             "#9c179e"
            ],
            [
             0.4444444444444444,
             "#bd3786"
            ],
            [
             0.5555555555555556,
             "#d8576b"
            ],
            [
             0.6666666666666666,
             "#ed7953"
            ],
            [
             0.7777777777777778,
             "#fb9f3a"
            ],
            [
             0.8888888888888888,
             "#fdca26"
            ],
            [
             1,
             "#f0f921"
            ]
           ]
          },
          "colorway": [
           "#636efa",
           "#EF553B",
           "#00cc96",
           "#ab63fa",
           "#FFA15A",
           "#19d3f3",
           "#FF6692",
           "#B6E880",
           "#FF97FF",
           "#FECB52"
          ],
          "font": {
           "color": "#2a3f5f"
          },
          "geo": {
           "bgcolor": "white",
           "lakecolor": "white",
           "landcolor": "#E5ECF6",
           "showlakes": true,
           "showland": true,
           "subunitcolor": "white"
          },
          "hoverlabel": {
           "align": "left"
          },
          "hovermode": "closest",
          "mapbox": {
           "style": "light"
          },
          "paper_bgcolor": "white",
          "plot_bgcolor": "#E5ECF6",
          "polar": {
           "angularaxis": {
            "gridcolor": "white",
            "linecolor": "white",
            "ticks": ""
           },
           "bgcolor": "#E5ECF6",
           "radialaxis": {
            "gridcolor": "white",
            "linecolor": "white",
            "ticks": ""
           }
          },
          "scene": {
           "xaxis": {
            "backgroundcolor": "#E5ECF6",
            "gridcolor": "white",
            "gridwidth": 2,
            "linecolor": "white",
            "showbackground": true,
            "ticks": "",
            "zerolinecolor": "white"
           },
           "yaxis": {
            "backgroundcolor": "#E5ECF6",
            "gridcolor": "white",
            "gridwidth": 2,
            "linecolor": "white",
            "showbackground": true,
            "ticks": "",
            "zerolinecolor": "white"
           },
           "zaxis": {
            "backgroundcolor": "#E5ECF6",
            "gridcolor": "white",
            "gridwidth": 2,
            "linecolor": "white",
            "showbackground": true,
            "ticks": "",
            "zerolinecolor": "white"
           }
          },
          "shapedefaults": {
           "line": {
            "color": "#2a3f5f"
           }
          },
          "ternary": {
           "aaxis": {
            "gridcolor": "white",
            "linecolor": "white",
            "ticks": ""
           },
           "baxis": {
            "gridcolor": "white",
            "linecolor": "white",
            "ticks": ""
           },
           "bgcolor": "#E5ECF6",
           "caxis": {
            "gridcolor": "white",
            "linecolor": "white",
            "ticks": ""
           }
          },
          "title": {
           "x": 0.05
          },
          "xaxis": {
           "automargin": true,
           "gridcolor": "white",
           "linecolor": "white",
           "ticks": "",
           "title": {
            "standoff": 15
           },
           "zerolinecolor": "white",
           "zerolinewidth": 2
          },
          "yaxis": {
           "automargin": true,
           "gridcolor": "white",
           "linecolor": "white",
           "ticks": "",
           "title": {
            "standoff": 15
           },
           "zerolinecolor": "white",
           "zerolinewidth": 2
          }
         }
        },
        "title": {
         "text": "RATING DISTRIBUTION"
        },
        "width": 800,
        "xaxis": {
         "anchor": "y",
         "domain": [
          0,
          1
         ],
         "title": {
          "text": "value"
         }
        },
        "yaxis": {
         "anchor": "x",
         "domain": [
          0,
          1
         ],
         "title": {
          "text": "count"
         }
        }
       }
      }
     },
     "metadata": {},
     "output_type": "display_data"
    }
   ],
   "source": [
    "fig1 = px.histogram(df['RATING'], color_discrete_sequence=['#520AA9'], title='RATING DISTRIBUTION', width=800, height=350)\n",
    "fig1.show()"
   ]
  },
  {
   "cell_type": "code",
   "execution_count": 41,
   "metadata": {},
   "outputs": [
    {
     "data": {
      "application/vnd.plotly.v1+json": {
       "config": {
        "plotlyServerURL": "https://plot.ly"
       },
       "data": [
        {
         "alignmentgroup": "True",
         "bingroup": "x",
         "hovertemplate": "variable=PRICE<br>value=%{x}<br>count=%{y}<extra></extra>",
         "legendgroup": "PRICE",
         "marker": {
          "color": "#520AA9",
          "pattern": {
           "shape": ""
          }
         },
         "name": "PRICE",
         "offsetgroup": "PRICE",
         "orientation": "v",
         "showlegend": true,
         "type": "histogram",
         "x": [
          39.9,
          80.5,
          63.79,
          139.99,
          325.86,
          63,
          27.59,
          125.41,
          372.38,
          108.62,
          249,
          64,
          30.99,
          70.9,
          60.43,
          68.99,
          48,
          48,
          34.99,
          93.41,
          59,
          370.7,
          124.35,
          17.94,
          59,
          358.19,
          109.38,
          211.49,
          31.76,
          71.29,
          31.03,
          176.61,
          68,
          357,
          50.12,
          1800,
          169,
          255,
          86.67,
          54.6,
          698.9,
          426.36,
          870.74,
          22.81,
          138.89,
          379,
          171.65,
          22.41,
          147.45,
          37.9,
          260.43,
          42.49,
          42.49,
          80.94,
          1188.24,
          377,
          31.76,
          294.25,
          49,
          54.99,
          72.41,
          54.9,
          519.31,
          31.86,
          302.46,
          302.46,
          393.48,
          33.9,
          477.37,
          770.92,
          110.77,
          350.07,
          30.9,
          42.47,
          34.9,
          30.05,
          59.77,
          18.24,
          31.61,
          41.9,
          45,
          28.49,
          119.99,
          54.43,
          55.99,
          97.99,
          79,
          70.38,
          29,
          991.21,
          152.12,
          54.99,
          141.61,
          33.75,
          39.99,
          98.05,
          217.15,
          77.41,
          29.89,
          59.77,
          41,
          190.99,
          27.65,
          50.57,
          42,
          115,
          328,
          52.9,
          135.76,
          337.76,
          461.14,
          19.39,
          36.78,
          56.23,
          74.88,
          31.61,
          1375,
          21.15,
          23.56,
          82.2,
          78.74,
          169,
          36.45,
          30.64,
          138.9,
          369.9,
          30.98,
          99.5,
          113.5,
          763,
          41.3,
          16.67,
          19.54,
          209.99,
          77.59,
          376.44,
          23.56,
          32.18,
          113.5,
          55.26,
          81.61,
          49.9,
          110.56,
          267,
          21.84,
          97.18,
          264.56,
          24.12,
          20.11,
          62.64,
          31.61,
          113.5,
          125,
          31.57,
          20.59,
          30.46,
          128,
          29.31,
          79.99,
          32.9,
          2063.65,
          37.65,
          47.19,
          134.99,
          96.55,
          212.64,
          34.9,
          79.99,
          93.1,
          20.59,
          290.23,
          29.61,
          97.18,
          17.82,
          125,
          142.29,
          57.73,
          38.13,
          30,
          52.2,
          26.54,
          49,
          28.16,
          28.16,
          37.78,
          28.16
         ],
         "xaxis": "x",
         "yaxis": "y"
        }
       ],
       "layout": {
        "barmode": "relative",
        "height": 350,
        "legend": {
         "title": {
          "text": "variable"
         },
         "tracegroupgap": 0
        },
        "template": {
         "data": {
          "bar": [
           {
            "error_x": {
             "color": "#2a3f5f"
            },
            "error_y": {
             "color": "#2a3f5f"
            },
            "marker": {
             "line": {
              "color": "#E5ECF6",
              "width": 0.5
             },
             "pattern": {
              "fillmode": "overlay",
              "size": 10,
              "solidity": 0.2
             }
            },
            "type": "bar"
           }
          ],
          "barpolar": [
           {
            "marker": {
             "line": {
              "color": "#E5ECF6",
              "width": 0.5
             },
             "pattern": {
              "fillmode": "overlay",
              "size": 10,
              "solidity": 0.2
             }
            },
            "type": "barpolar"
           }
          ],
          "carpet": [
           {
            "aaxis": {
             "endlinecolor": "#2a3f5f",
             "gridcolor": "white",
             "linecolor": "white",
             "minorgridcolor": "white",
             "startlinecolor": "#2a3f5f"
            },
            "baxis": {
             "endlinecolor": "#2a3f5f",
             "gridcolor": "white",
             "linecolor": "white",
             "minorgridcolor": "white",
             "startlinecolor": "#2a3f5f"
            },
            "type": "carpet"
           }
          ],
          "choropleth": [
           {
            "colorbar": {
             "outlinewidth": 0,
             "ticks": ""
            },
            "type": "choropleth"
           }
          ],
          "contour": [
           {
            "colorbar": {
             "outlinewidth": 0,
             "ticks": ""
            },
            "colorscale": [
             [
              0,
              "#0d0887"
             ],
             [
              0.1111111111111111,
              "#46039f"
             ],
             [
              0.2222222222222222,
              "#7201a8"
             ],
             [
              0.3333333333333333,
              "#9c179e"
             ],
             [
              0.4444444444444444,
              "#bd3786"
             ],
             [
              0.5555555555555556,
              "#d8576b"
             ],
             [
              0.6666666666666666,
              "#ed7953"
             ],
             [
              0.7777777777777778,
              "#fb9f3a"
             ],
             [
              0.8888888888888888,
              "#fdca26"
             ],
             [
              1,
              "#f0f921"
             ]
            ],
            "type": "contour"
           }
          ],
          "contourcarpet": [
           {
            "colorbar": {
             "outlinewidth": 0,
             "ticks": ""
            },
            "type": "contourcarpet"
           }
          ],
          "heatmap": [
           {
            "colorbar": {
             "outlinewidth": 0,
             "ticks": ""
            },
            "colorscale": [
             [
              0,
              "#0d0887"
             ],
             [
              0.1111111111111111,
              "#46039f"
             ],
             [
              0.2222222222222222,
              "#7201a8"
             ],
             [
              0.3333333333333333,
              "#9c179e"
             ],
             [
              0.4444444444444444,
              "#bd3786"
             ],
             [
              0.5555555555555556,
              "#d8576b"
             ],
             [
              0.6666666666666666,
              "#ed7953"
             ],
             [
              0.7777777777777778,
              "#fb9f3a"
             ],
             [
              0.8888888888888888,
              "#fdca26"
             ],
             [
              1,
              "#f0f921"
             ]
            ],
            "type": "heatmap"
           }
          ],
          "heatmapgl": [
           {
            "colorbar": {
             "outlinewidth": 0,
             "ticks": ""
            },
            "colorscale": [
             [
              0,
              "#0d0887"
             ],
             [
              0.1111111111111111,
              "#46039f"
             ],
             [
              0.2222222222222222,
              "#7201a8"
             ],
             [
              0.3333333333333333,
              "#9c179e"
             ],
             [
              0.4444444444444444,
              "#bd3786"
             ],
             [
              0.5555555555555556,
              "#d8576b"
             ],
             [
              0.6666666666666666,
              "#ed7953"
             ],
             [
              0.7777777777777778,
              "#fb9f3a"
             ],
             [
              0.8888888888888888,
              "#fdca26"
             ],
             [
              1,
              "#f0f921"
             ]
            ],
            "type": "heatmapgl"
           }
          ],
          "histogram": [
           {
            "marker": {
             "pattern": {
              "fillmode": "overlay",
              "size": 10,
              "solidity": 0.2
             }
            },
            "type": "histogram"
           }
          ],
          "histogram2d": [
           {
            "colorbar": {
             "outlinewidth": 0,
             "ticks": ""
            },
            "colorscale": [
             [
              0,
              "#0d0887"
             ],
             [
              0.1111111111111111,
              "#46039f"
             ],
             [
              0.2222222222222222,
              "#7201a8"
             ],
             [
              0.3333333333333333,
              "#9c179e"
             ],
             [
              0.4444444444444444,
              "#bd3786"
             ],
             [
              0.5555555555555556,
              "#d8576b"
             ],
             [
              0.6666666666666666,
              "#ed7953"
             ],
             [
              0.7777777777777778,
              "#fb9f3a"
             ],
             [
              0.8888888888888888,
              "#fdca26"
             ],
             [
              1,
              "#f0f921"
             ]
            ],
            "type": "histogram2d"
           }
          ],
          "histogram2dcontour": [
           {
            "colorbar": {
             "outlinewidth": 0,
             "ticks": ""
            },
            "colorscale": [
             [
              0,
              "#0d0887"
             ],
             [
              0.1111111111111111,
              "#46039f"
             ],
             [
              0.2222222222222222,
              "#7201a8"
             ],
             [
              0.3333333333333333,
              "#9c179e"
             ],
             [
              0.4444444444444444,
              "#bd3786"
             ],
             [
              0.5555555555555556,
              "#d8576b"
             ],
             [
              0.6666666666666666,
              "#ed7953"
             ],
             [
              0.7777777777777778,
              "#fb9f3a"
             ],
             [
              0.8888888888888888,
              "#fdca26"
             ],
             [
              1,
              "#f0f921"
             ]
            ],
            "type": "histogram2dcontour"
           }
          ],
          "mesh3d": [
           {
            "colorbar": {
             "outlinewidth": 0,
             "ticks": ""
            },
            "type": "mesh3d"
           }
          ],
          "parcoords": [
           {
            "line": {
             "colorbar": {
              "outlinewidth": 0,
              "ticks": ""
             }
            },
            "type": "parcoords"
           }
          ],
          "pie": [
           {
            "automargin": true,
            "type": "pie"
           }
          ],
          "scatter": [
           {
            "fillpattern": {
             "fillmode": "overlay",
             "size": 10,
             "solidity": 0.2
            },
            "type": "scatter"
           }
          ],
          "scatter3d": [
           {
            "line": {
             "colorbar": {
              "outlinewidth": 0,
              "ticks": ""
             }
            },
            "marker": {
             "colorbar": {
              "outlinewidth": 0,
              "ticks": ""
             }
            },
            "type": "scatter3d"
           }
          ],
          "scattercarpet": [
           {
            "marker": {
             "colorbar": {
              "outlinewidth": 0,
              "ticks": ""
             }
            },
            "type": "scattercarpet"
           }
          ],
          "scattergeo": [
           {
            "marker": {
             "colorbar": {
              "outlinewidth": 0,
              "ticks": ""
             }
            },
            "type": "scattergeo"
           }
          ],
          "scattergl": [
           {
            "marker": {
             "colorbar": {
              "outlinewidth": 0,
              "ticks": ""
             }
            },
            "type": "scattergl"
           }
          ],
          "scattermapbox": [
           {
            "marker": {
             "colorbar": {
              "outlinewidth": 0,
              "ticks": ""
             }
            },
            "type": "scattermapbox"
           }
          ],
          "scatterpolar": [
           {
            "marker": {
             "colorbar": {
              "outlinewidth": 0,
              "ticks": ""
             }
            },
            "type": "scatterpolar"
           }
          ],
          "scatterpolargl": [
           {
            "marker": {
             "colorbar": {
              "outlinewidth": 0,
              "ticks": ""
             }
            },
            "type": "scatterpolargl"
           }
          ],
          "scatterternary": [
           {
            "marker": {
             "colorbar": {
              "outlinewidth": 0,
              "ticks": ""
             }
            },
            "type": "scatterternary"
           }
          ],
          "surface": [
           {
            "colorbar": {
             "outlinewidth": 0,
             "ticks": ""
            },
            "colorscale": [
             [
              0,
              "#0d0887"
             ],
             [
              0.1111111111111111,
              "#46039f"
             ],
             [
              0.2222222222222222,
              "#7201a8"
             ],
             [
              0.3333333333333333,
              "#9c179e"
             ],
             [
              0.4444444444444444,
              "#bd3786"
             ],
             [
              0.5555555555555556,
              "#d8576b"
             ],
             [
              0.6666666666666666,
              "#ed7953"
             ],
             [
              0.7777777777777778,
              "#fb9f3a"
             ],
             [
              0.8888888888888888,
              "#fdca26"
             ],
             [
              1,
              "#f0f921"
             ]
            ],
            "type": "surface"
           }
          ],
          "table": [
           {
            "cells": {
             "fill": {
              "color": "#EBF0F8"
             },
             "line": {
              "color": "white"
             }
            },
            "header": {
             "fill": {
              "color": "#C8D4E3"
             },
             "line": {
              "color": "white"
             }
            },
            "type": "table"
           }
          ]
         },
         "layout": {
          "annotationdefaults": {
           "arrowcolor": "#2a3f5f",
           "arrowhead": 0,
           "arrowwidth": 1
          },
          "autotypenumbers": "strict",
          "coloraxis": {
           "colorbar": {
            "outlinewidth": 0,
            "ticks": ""
           }
          },
          "colorscale": {
           "diverging": [
            [
             0,
             "#8e0152"
            ],
            [
             0.1,
             "#c51b7d"
            ],
            [
             0.2,
             "#de77ae"
            ],
            [
             0.3,
             "#f1b6da"
            ],
            [
             0.4,
             "#fde0ef"
            ],
            [
             0.5,
             "#f7f7f7"
            ],
            [
             0.6,
             "#e6f5d0"
            ],
            [
             0.7,
             "#b8e186"
            ],
            [
             0.8,
             "#7fbc41"
            ],
            [
             0.9,
             "#4d9221"
            ],
            [
             1,
             "#276419"
            ]
           ],
           "sequential": [
            [
             0,
             "#0d0887"
            ],
            [
             0.1111111111111111,
             "#46039f"
            ],
            [
             0.2222222222222222,
             "#7201a8"
            ],
            [
             0.3333333333333333,
             "#9c179e"
            ],
            [
             0.4444444444444444,
             "#bd3786"
            ],
            [
             0.5555555555555556,
             "#d8576b"
            ],
            [
             0.6666666666666666,
             "#ed7953"
            ],
            [
             0.7777777777777778,
             "#fb9f3a"
            ],
            [
             0.8888888888888888,
             "#fdca26"
            ],
            [
             1,
             "#f0f921"
            ]
           ],
           "sequentialminus": [
            [
             0,
             "#0d0887"
            ],
            [
             0.1111111111111111,
             "#46039f"
            ],
            [
             0.2222222222222222,
             "#7201a8"
            ],
            [
             0.3333333333333333,
             "#9c179e"
            ],
            [
             0.4444444444444444,
             "#bd3786"
            ],
            [
             0.5555555555555556,
             "#d8576b"
            ],
            [
             0.6666666666666666,
             "#ed7953"
            ],
            [
             0.7777777777777778,
             "#fb9f3a"
            ],
            [
             0.8888888888888888,
             "#fdca26"
            ],
            [
             1,
             "#f0f921"
            ]
           ]
          },
          "colorway": [
           "#636efa",
           "#EF553B",
           "#00cc96",
           "#ab63fa",
           "#FFA15A",
           "#19d3f3",
           "#FF6692",
           "#B6E880",
           "#FF97FF",
           "#FECB52"
          ],
          "font": {
           "color": "#2a3f5f"
          },
          "geo": {
           "bgcolor": "white",
           "lakecolor": "white",
           "landcolor": "#E5ECF6",
           "showlakes": true,
           "showland": true,
           "subunitcolor": "white"
          },
          "hoverlabel": {
           "align": "left"
          },
          "hovermode": "closest",
          "mapbox": {
           "style": "light"
          },
          "paper_bgcolor": "white",
          "plot_bgcolor": "#E5ECF6",
          "polar": {
           "angularaxis": {
            "gridcolor": "white",
            "linecolor": "white",
            "ticks": ""
           },
           "bgcolor": "#E5ECF6",
           "radialaxis": {
            "gridcolor": "white",
            "linecolor": "white",
            "ticks": ""
           }
          },
          "scene": {
           "xaxis": {
            "backgroundcolor": "#E5ECF6",
            "gridcolor": "white",
            "gridwidth": 2,
            "linecolor": "white",
            "showbackground": true,
            "ticks": "",
            "zerolinecolor": "white"
           },
           "yaxis": {
            "backgroundcolor": "#E5ECF6",
            "gridcolor": "white",
            "gridwidth": 2,
            "linecolor": "white",
            "showbackground": true,
            "ticks": "",
            "zerolinecolor": "white"
           },
           "zaxis": {
            "backgroundcolor": "#E5ECF6",
            "gridcolor": "white",
            "gridwidth": 2,
            "linecolor": "white",
            "showbackground": true,
            "ticks": "",
            "zerolinecolor": "white"
           }
          },
          "shapedefaults": {
           "line": {
            "color": "#2a3f5f"
           }
          },
          "ternary": {
           "aaxis": {
            "gridcolor": "white",
            "linecolor": "white",
            "ticks": ""
           },
           "baxis": {
            "gridcolor": "white",
            "linecolor": "white",
            "ticks": ""
           },
           "bgcolor": "#E5ECF6",
           "caxis": {
            "gridcolor": "white",
            "linecolor": "white",
            "ticks": ""
           }
          },
          "title": {
           "x": 0.05
          },
          "xaxis": {
           "automargin": true,
           "gridcolor": "white",
           "linecolor": "white",
           "ticks": "",
           "title": {
            "standoff": 15
           },
           "zerolinecolor": "white",
           "zerolinewidth": 2
          },
          "yaxis": {
           "automargin": true,
           "gridcolor": "white",
           "linecolor": "white",
           "ticks": "",
           "title": {
            "standoff": 15
           },
           "zerolinecolor": "white",
           "zerolinewidth": 2
          }
         }
        },
        "title": {
         "text": "PRICE DISTRIBUTION"
        },
        "width": 800,
        "xaxis": {
         "anchor": "y",
         "domain": [
          0,
          1
         ],
         "title": {
          "text": "value"
         }
        },
        "yaxis": {
         "anchor": "x",
         "domain": [
          0,
          1
         ],
         "title": {
          "text": "count"
         }
        }
       }
      }
     },
     "metadata": {},
     "output_type": "display_data"
    }
   ],
   "source": [
    "fig2 = px.histogram(df['PRICE'], color_discrete_sequence=['#520AA9'], title='PRICE DISTRIBUTION', width=800, height=350)\n",
    "fig2.show()"
   ]
  },
  {
   "cell_type": "code",
   "execution_count": 42,
   "metadata": {},
   "outputs": [
    {
     "data": {
      "application/vnd.plotly.v1+json": {
       "config": {
        "plotlyServerURL": "https://plot.ly"
       },
       "data": [
        {
         "alignmentgroup": "True",
         "bingroup": "x",
         "hovertemplate": "variable=REVIEW COUNT<br>value=%{x}<br>count=%{y}<extra></extra>",
         "legendgroup": "REVIEW COUNT",
         "marker": {
          "color": "#520AA9",
          "pattern": {
           "shape": ""
          }
         },
         "name": "REVIEW COUNT",
         "offsetgroup": "REVIEW COUNT",
         "orientation": "v",
         "showlegend": true,
         "type": "histogram",
         "x": [
          134756,
          111966,
          101275,
          89849,
          68620,
          60187,
          59332,
          39804,
          26705,
          25752,
          23595,
          22700,
          20298,
          20077,
          18654,
          16944,
          16688,
          16688,
          14087,
          13587,
          11824,
          11293,
          11157,
          10613,
          10347,
          9016,
          8744,
          8336,
          8054,
          7529,
          6540,
          6131,
          6019,
          5727,
          5626,
          5500,
          5124,
          5054,
          4812,
          3366,
          2926,
          2379,
          1679,
          1637,
          1576,
          1559,
          1491,
          1487,
          1366,
          1343,
          1306,
          1245,
          1245,
          1126,
          1003,
          958,
          951,
          886,
          771,
          644,
          639,
          577,
          550,
          531,
          494,
          494,
          493,
          489,
          479,
          479,
          474,
          434,
          429,
          398,
          382,
          376,
          369,
          365,
          359,
          340,
          319,
          296,
          296,
          284,
          225,
          224,
          223,
          221,
          195,
          189,
          180,
          163,
          157,
          156,
          131,
          119,
          118,
          108,
          104,
          103,
          103,
          96,
          86,
          73,
          69,
          67,
          65,
          60,
          51,
          50,
          48,
          43,
          42,
          41,
          37,
          33,
          30,
          29,
          23,
          23,
          21,
          20,
          17,
          17,
          16,
          14,
          12,
          12,
          12,
          11,
          10,
          10,
          10,
          9,
          9,
          9,
          9,
          9,
          8,
          8,
          8,
          7,
          7,
          7,
          6,
          6,
          6,
          5,
          5,
          5,
          5,
          5,
          5,
          4,
          4,
          4,
          4,
          4,
          4,
          3,
          3,
          3,
          3,
          3,
          2,
          2,
          2,
          2,
          2,
          2,
          2,
          2,
          2,
          1,
          1,
          1,
          1,
          1,
          1,
          1,
          1,
          1,
          1,
          1,
          1,
          1
         ],
         "xaxis": "x",
         "yaxis": "y"
        }
       ],
       "layout": {
        "barmode": "relative",
        "height": 350,
        "legend": {
         "title": {
          "text": "variable"
         },
         "tracegroupgap": 0
        },
        "template": {
         "data": {
          "bar": [
           {
            "error_x": {
             "color": "#2a3f5f"
            },
            "error_y": {
             "color": "#2a3f5f"
            },
            "marker": {
             "line": {
              "color": "#E5ECF6",
              "width": 0.5
             },
             "pattern": {
              "fillmode": "overlay",
              "size": 10,
              "solidity": 0.2
             }
            },
            "type": "bar"
           }
          ],
          "barpolar": [
           {
            "marker": {
             "line": {
              "color": "#E5ECF6",
              "width": 0.5
             },
             "pattern": {
              "fillmode": "overlay",
              "size": 10,
              "solidity": 0.2
             }
            },
            "type": "barpolar"
           }
          ],
          "carpet": [
           {
            "aaxis": {
             "endlinecolor": "#2a3f5f",
             "gridcolor": "white",
             "linecolor": "white",
             "minorgridcolor": "white",
             "startlinecolor": "#2a3f5f"
            },
            "baxis": {
             "endlinecolor": "#2a3f5f",
             "gridcolor": "white",
             "linecolor": "white",
             "minorgridcolor": "white",
             "startlinecolor": "#2a3f5f"
            },
            "type": "carpet"
           }
          ],
          "choropleth": [
           {
            "colorbar": {
             "outlinewidth": 0,
             "ticks": ""
            },
            "type": "choropleth"
           }
          ],
          "contour": [
           {
            "colorbar": {
             "outlinewidth": 0,
             "ticks": ""
            },
            "colorscale": [
             [
              0,
              "#0d0887"
             ],
             [
              0.1111111111111111,
              "#46039f"
             ],
             [
              0.2222222222222222,
              "#7201a8"
             ],
             [
              0.3333333333333333,
              "#9c179e"
             ],
             [
              0.4444444444444444,
              "#bd3786"
             ],
             [
              0.5555555555555556,
              "#d8576b"
             ],
             [
              0.6666666666666666,
              "#ed7953"
             ],
             [
              0.7777777777777778,
              "#fb9f3a"
             ],
             [
              0.8888888888888888,
              "#fdca26"
             ],
             [
              1,
              "#f0f921"
             ]
            ],
            "type": "contour"
           }
          ],
          "contourcarpet": [
           {
            "colorbar": {
             "outlinewidth": 0,
             "ticks": ""
            },
            "type": "contourcarpet"
           }
          ],
          "heatmap": [
           {
            "colorbar": {
             "outlinewidth": 0,
             "ticks": ""
            },
            "colorscale": [
             [
              0,
              "#0d0887"
             ],
             [
              0.1111111111111111,
              "#46039f"
             ],
             [
              0.2222222222222222,
              "#7201a8"
             ],
             [
              0.3333333333333333,
              "#9c179e"
             ],
             [
              0.4444444444444444,
              "#bd3786"
             ],
             [
              0.5555555555555556,
              "#d8576b"
             ],
             [
              0.6666666666666666,
              "#ed7953"
             ],
             [
              0.7777777777777778,
              "#fb9f3a"
             ],
             [
              0.8888888888888888,
              "#fdca26"
             ],
             [
              1,
              "#f0f921"
             ]
            ],
            "type": "heatmap"
           }
          ],
          "heatmapgl": [
           {
            "colorbar": {
             "outlinewidth": 0,
             "ticks": ""
            },
            "colorscale": [
             [
              0,
              "#0d0887"
             ],
             [
              0.1111111111111111,
              "#46039f"
             ],
             [
              0.2222222222222222,
              "#7201a8"
             ],
             [
              0.3333333333333333,
              "#9c179e"
             ],
             [
              0.4444444444444444,
              "#bd3786"
             ],
             [
              0.5555555555555556,
              "#d8576b"
             ],
             [
              0.6666666666666666,
              "#ed7953"
             ],
             [
              0.7777777777777778,
              "#fb9f3a"
             ],
             [
              0.8888888888888888,
              "#fdca26"
             ],
             [
              1,
              "#f0f921"
             ]
            ],
            "type": "heatmapgl"
           }
          ],
          "histogram": [
           {
            "marker": {
             "pattern": {
              "fillmode": "overlay",
              "size": 10,
              "solidity": 0.2
             }
            },
            "type": "histogram"
           }
          ],
          "histogram2d": [
           {
            "colorbar": {
             "outlinewidth": 0,
             "ticks": ""
            },
            "colorscale": [
             [
              0,
              "#0d0887"
             ],
             [
              0.1111111111111111,
              "#46039f"
             ],
             [
              0.2222222222222222,
              "#7201a8"
             ],
             [
              0.3333333333333333,
              "#9c179e"
             ],
             [
              0.4444444444444444,
              "#bd3786"
             ],
             [
              0.5555555555555556,
              "#d8576b"
             ],
             [
              0.6666666666666666,
              "#ed7953"
             ],
             [
              0.7777777777777778,
              "#fb9f3a"
             ],
             [
              0.8888888888888888,
              "#fdca26"
             ],
             [
              1,
              "#f0f921"
             ]
            ],
            "type": "histogram2d"
           }
          ],
          "histogram2dcontour": [
           {
            "colorbar": {
             "outlinewidth": 0,
             "ticks": ""
            },
            "colorscale": [
             [
              0,
              "#0d0887"
             ],
             [
              0.1111111111111111,
              "#46039f"
             ],
             [
              0.2222222222222222,
              "#7201a8"
             ],
             [
              0.3333333333333333,
              "#9c179e"
             ],
             [
              0.4444444444444444,
              "#bd3786"
             ],
             [
              0.5555555555555556,
              "#d8576b"
             ],
             [
              0.6666666666666666,
              "#ed7953"
             ],
             [
              0.7777777777777778,
              "#fb9f3a"
             ],
             [
              0.8888888888888888,
              "#fdca26"
             ],
             [
              1,
              "#f0f921"
             ]
            ],
            "type": "histogram2dcontour"
           }
          ],
          "mesh3d": [
           {
            "colorbar": {
             "outlinewidth": 0,
             "ticks": ""
            },
            "type": "mesh3d"
           }
          ],
          "parcoords": [
           {
            "line": {
             "colorbar": {
              "outlinewidth": 0,
              "ticks": ""
             }
            },
            "type": "parcoords"
           }
          ],
          "pie": [
           {
            "automargin": true,
            "type": "pie"
           }
          ],
          "scatter": [
           {
            "fillpattern": {
             "fillmode": "overlay",
             "size": 10,
             "solidity": 0.2
            },
            "type": "scatter"
           }
          ],
          "scatter3d": [
           {
            "line": {
             "colorbar": {
              "outlinewidth": 0,
              "ticks": ""
             }
            },
            "marker": {
             "colorbar": {
              "outlinewidth": 0,
              "ticks": ""
             }
            },
            "type": "scatter3d"
           }
          ],
          "scattercarpet": [
           {
            "marker": {
             "colorbar": {
              "outlinewidth": 0,
              "ticks": ""
             }
            },
            "type": "scattercarpet"
           }
          ],
          "scattergeo": [
           {
            "marker": {
             "colorbar": {
              "outlinewidth": 0,
              "ticks": ""
             }
            },
            "type": "scattergeo"
           }
          ],
          "scattergl": [
           {
            "marker": {
             "colorbar": {
              "outlinewidth": 0,
              "ticks": ""
             }
            },
            "type": "scattergl"
           }
          ],
          "scattermapbox": [
           {
            "marker": {
             "colorbar": {
              "outlinewidth": 0,
              "ticks": ""
             }
            },
            "type": "scattermapbox"
           }
          ],
          "scatterpolar": [
           {
            "marker": {
             "colorbar": {
              "outlinewidth": 0,
              "ticks": ""
             }
            },
            "type": "scatterpolar"
           }
          ],
          "scatterpolargl": [
           {
            "marker": {
             "colorbar": {
              "outlinewidth": 0,
              "ticks": ""
             }
            },
            "type": "scatterpolargl"
           }
          ],
          "scatterternary": [
           {
            "marker": {
             "colorbar": {
              "outlinewidth": 0,
              "ticks": ""
             }
            },
            "type": "scatterternary"
           }
          ],
          "surface": [
           {
            "colorbar": {
             "outlinewidth": 0,
             "ticks": ""
            },
            "colorscale": [
             [
              0,
              "#0d0887"
             ],
             [
              0.1111111111111111,
              "#46039f"
             ],
             [
              0.2222222222222222,
              "#7201a8"
             ],
             [
              0.3333333333333333,
              "#9c179e"
             ],
             [
              0.4444444444444444,
              "#bd3786"
             ],
             [
              0.5555555555555556,
              "#d8576b"
             ],
             [
              0.6666666666666666,
              "#ed7953"
             ],
             [
              0.7777777777777778,
              "#fb9f3a"
             ],
             [
              0.8888888888888888,
              "#fdca26"
             ],
             [
              1,
              "#f0f921"
             ]
            ],
            "type": "surface"
           }
          ],
          "table": [
           {
            "cells": {
             "fill": {
              "color": "#EBF0F8"
             },
             "line": {
              "color": "white"
             }
            },
            "header": {
             "fill": {
              "color": "#C8D4E3"
             },
             "line": {
              "color": "white"
             }
            },
            "type": "table"
           }
          ]
         },
         "layout": {
          "annotationdefaults": {
           "arrowcolor": "#2a3f5f",
           "arrowhead": 0,
           "arrowwidth": 1
          },
          "autotypenumbers": "strict",
          "coloraxis": {
           "colorbar": {
            "outlinewidth": 0,
            "ticks": ""
           }
          },
          "colorscale": {
           "diverging": [
            [
             0,
             "#8e0152"
            ],
            [
             0.1,
             "#c51b7d"
            ],
            [
             0.2,
             "#de77ae"
            ],
            [
             0.3,
             "#f1b6da"
            ],
            [
             0.4,
             "#fde0ef"
            ],
            [
             0.5,
             "#f7f7f7"
            ],
            [
             0.6,
             "#e6f5d0"
            ],
            [
             0.7,
             "#b8e186"
            ],
            [
             0.8,
             "#7fbc41"
            ],
            [
             0.9,
             "#4d9221"
            ],
            [
             1,
             "#276419"
            ]
           ],
           "sequential": [
            [
             0,
             "#0d0887"
            ],
            [
             0.1111111111111111,
             "#46039f"
            ],
            [
             0.2222222222222222,
             "#7201a8"
            ],
            [
             0.3333333333333333,
             "#9c179e"
            ],
            [
             0.4444444444444444,
             "#bd3786"
            ],
            [
             0.5555555555555556,
             "#d8576b"
            ],
            [
             0.6666666666666666,
             "#ed7953"
            ],
            [
             0.7777777777777778,
             "#fb9f3a"
            ],
            [
             0.8888888888888888,
             "#fdca26"
            ],
            [
             1,
             "#f0f921"
            ]
           ],
           "sequentialminus": [
            [
             0,
             "#0d0887"
            ],
            [
             0.1111111111111111,
             "#46039f"
            ],
            [
             0.2222222222222222,
             "#7201a8"
            ],
            [
             0.3333333333333333,
             "#9c179e"
            ],
            [
             0.4444444444444444,
             "#bd3786"
            ],
            [
             0.5555555555555556,
             "#d8576b"
            ],
            [
             0.6666666666666666,
             "#ed7953"
            ],
            [
             0.7777777777777778,
             "#fb9f3a"
            ],
            [
             0.8888888888888888,
             "#fdca26"
            ],
            [
             1,
             "#f0f921"
            ]
           ]
          },
          "colorway": [
           "#636efa",
           "#EF553B",
           "#00cc96",
           "#ab63fa",
           "#FFA15A",
           "#19d3f3",
           "#FF6692",
           "#B6E880",
           "#FF97FF",
           "#FECB52"
          ],
          "font": {
           "color": "#2a3f5f"
          },
          "geo": {
           "bgcolor": "white",
           "lakecolor": "white",
           "landcolor": "#E5ECF6",
           "showlakes": true,
           "showland": true,
           "subunitcolor": "white"
          },
          "hoverlabel": {
           "align": "left"
          },
          "hovermode": "closest",
          "mapbox": {
           "style": "light"
          },
          "paper_bgcolor": "white",
          "plot_bgcolor": "#E5ECF6",
          "polar": {
           "angularaxis": {
            "gridcolor": "white",
            "linecolor": "white",
            "ticks": ""
           },
           "bgcolor": "#E5ECF6",
           "radialaxis": {
            "gridcolor": "white",
            "linecolor": "white",
            "ticks": ""
           }
          },
          "scene": {
           "xaxis": {
            "backgroundcolor": "#E5ECF6",
            "gridcolor": "white",
            "gridwidth": 2,
            "linecolor": "white",
            "showbackground": true,
            "ticks": "",
            "zerolinecolor": "white"
           },
           "yaxis": {
            "backgroundcolor": "#E5ECF6",
            "gridcolor": "white",
            "gridwidth": 2,
            "linecolor": "white",
            "showbackground": true,
            "ticks": "",
            "zerolinecolor": "white"
           },
           "zaxis": {
            "backgroundcolor": "#E5ECF6",
            "gridcolor": "white",
            "gridwidth": 2,
            "linecolor": "white",
            "showbackground": true,
            "ticks": "",
            "zerolinecolor": "white"
           }
          },
          "shapedefaults": {
           "line": {
            "color": "#2a3f5f"
           }
          },
          "ternary": {
           "aaxis": {
            "gridcolor": "white",
            "linecolor": "white",
            "ticks": ""
           },
           "baxis": {
            "gridcolor": "white",
            "linecolor": "white",
            "ticks": ""
           },
           "bgcolor": "#E5ECF6",
           "caxis": {
            "gridcolor": "white",
            "linecolor": "white",
            "ticks": ""
           }
          },
          "title": {
           "x": 0.05
          },
          "xaxis": {
           "automargin": true,
           "gridcolor": "white",
           "linecolor": "white",
           "ticks": "",
           "title": {
            "standoff": 15
           },
           "zerolinecolor": "white",
           "zerolinewidth": 2
          },
          "yaxis": {
           "automargin": true,
           "gridcolor": "white",
           "linecolor": "white",
           "ticks": "",
           "title": {
            "standoff": 15
           },
           "zerolinecolor": "white",
           "zerolinewidth": 2
          }
         }
        },
        "title": {
         "text": "REVIEWS DISTRIBUTION"
        },
        "width": 800,
        "xaxis": {
         "anchor": "y",
         "domain": [
          0,
          1
         ],
         "title": {
          "text": "value"
         }
        },
        "yaxis": {
         "anchor": "x",
         "domain": [
          0,
          1
         ],
         "title": {
          "text": "count"
         }
        }
       }
      }
     },
     "metadata": {},
     "output_type": "display_data"
    }
   ],
   "source": [
    "fig3 = px.histogram(df['REVIEW COUNT'], color_discrete_sequence=['#520AA9'], title='REVIEWS DISTRIBUTION', width=800, height=350)\n",
    "fig3.show()"
   ]
  },
  {
   "cell_type": "code",
   "execution_count": 20,
   "metadata": {},
   "outputs": [
    {
     "data": {
      "text/html": [
       "<div>\n",
       "<style scoped>\n",
       "    .dataframe tbody tr th:only-of-type {\n",
       "        vertical-align: middle;\n",
       "    }\n",
       "\n",
       "    .dataframe tbody tr th {\n",
       "        vertical-align: top;\n",
       "    }\n",
       "\n",
       "    .dataframe thead th {\n",
       "        text-align: right;\n",
       "    }\n",
       "</style>\n",
       "<table border=\"1\" class=\"dataframe\">\n",
       "  <thead>\n",
       "    <tr style=\"text-align: right;\">\n",
       "      <th></th>\n",
       "      <th>PRODUCT DESCRIPTION</th>\n",
       "      <th>PRICE</th>\n",
       "      <th>RATING</th>\n",
       "      <th>REVIEW COUNT</th>\n",
       "      <th>LINK</th>\n",
       "    </tr>\n",
       "  </thead>\n",
       "  <tbody>\n",
       "    <tr>\n",
       "      <th>0</th>\n",
       "      <td>Multilaser - PD588 Pen Drive Twist 16GB USB Le...</td>\n",
       "      <td>17.94</td>\n",
       "      <td>4.6</td>\n",
       "      <td>10613</td>\n",
       "      <td>https://www.amazon.com.br/Multilaser-Twist1-Me...</td>\n",
       "    </tr>\n",
       "    <tr>\n",
       "      <th>1</th>\n",
       "      <td>Pendrive Datatraveler 100G3 32Gb, Kingston, Pe...</td>\n",
       "      <td>63.00</td>\n",
       "      <td>4.8</td>\n",
       "      <td>60187</td>\n",
       "      <td>https://www.amazon.com.br/Pendrive-DataTravele...</td>\n",
       "    </tr>\n",
       "    <tr>\n",
       "      <th>2</th>\n",
       "      <td>PenDrive SanDisk Cruzer Ultra Flair 32GB, Prata</td>\n",
       "      <td>80.50</td>\n",
       "      <td>4.6</td>\n",
       "      <td>111966</td>\n",
       "      <td>https://www.amazon.com.br/Drive-Cruzer-Ultra-S...</td>\n",
       "    </tr>\n",
       "    <tr>\n",
       "      <th>3</th>\n",
       "      <td>MULTILASER Diamond Pd 851 Pen Drive Usb Metáli...</td>\n",
       "      <td>54.90</td>\n",
       "      <td>4.5</td>\n",
       "      <td>577</td>\n",
       "      <td>https://www.amazon.com.br/MULTILASER-Diamond-D...</td>\n",
       "    </tr>\n",
       "    <tr>\n",
       "      <th>4</th>\n",
       "      <td>Pen Drive Cruzer Blade, SanDisk, 32GB, SDCZ60-...</td>\n",
       "      <td>39.90</td>\n",
       "      <td>4.8</td>\n",
       "      <td>134756</td>\n",
       "      <td>https://www.amazon.com.br/Pen-Drive-32GB-Sandi...</td>\n",
       "    </tr>\n",
       "  </tbody>\n",
       "</table>\n",
       "</div>"
      ],
      "text/plain": [
       "                                 PRODUCT DESCRIPTION  PRICE  RATING  \\\n",
       "0  Multilaser - PD588 Pen Drive Twist 16GB USB Le...  17.94     4.6   \n",
       "1  Pendrive Datatraveler 100G3 32Gb, Kingston, Pe...  63.00     4.8   \n",
       "2    PenDrive SanDisk Cruzer Ultra Flair 32GB, Prata  80.50     4.6   \n",
       "3  MULTILASER Diamond Pd 851 Pen Drive Usb Metáli...  54.90     4.5   \n",
       "4  Pen Drive Cruzer Blade, SanDisk, 32GB, SDCZ60-...  39.90     4.8   \n",
       "\n",
       "   REVIEW COUNT                                               LINK  \n",
       "0         10613  https://www.amazon.com.br/Multilaser-Twist1-Me...  \n",
       "1         60187  https://www.amazon.com.br/Pendrive-DataTravele...  \n",
       "2        111966  https://www.amazon.com.br/Drive-Cruzer-Ultra-S...  \n",
       "3           577  https://www.amazon.com.br/MULTILASER-Diamond-D...  \n",
       "4        134756  https://www.amazon.com.br/Pen-Drive-32GB-Sandi...  "
      ]
     },
     "execution_count": 20,
     "metadata": {},
     "output_type": "execute_result"
    }
   ],
   "source": [
    "df.head()"
   ]
  },
  {
   "cell_type": "markdown",
   "metadata": {},
   "source": [
    "Organizing the data to show the most reviwed and most rated products first"
   ]
  },
  {
   "cell_type": "code",
   "execution_count": 43,
   "metadata": {},
   "outputs": [
    {
     "data": {
      "text/html": [
       "<div>\n",
       "<style scoped>\n",
       "    .dataframe tbody tr th:only-of-type {\n",
       "        vertical-align: middle;\n",
       "    }\n",
       "\n",
       "    .dataframe tbody tr th {\n",
       "        vertical-align: top;\n",
       "    }\n",
       "\n",
       "    .dataframe thead th {\n",
       "        text-align: right;\n",
       "    }\n",
       "</style>\n",
       "<table border=\"1\" class=\"dataframe\">\n",
       "  <thead>\n",
       "    <tr style=\"text-align: right;\">\n",
       "      <th></th>\n",
       "      <th>PRODUCT DESCRIPTION</th>\n",
       "      <th>PRICE</th>\n",
       "      <th>RATING</th>\n",
       "      <th>REVIEW COUNT</th>\n",
       "      <th>LINK</th>\n",
       "    </tr>\n",
       "  </thead>\n",
       "  <tbody>\n",
       "    <tr>\n",
       "      <th>4</th>\n",
       "      <td>Pen Drive Cruzer Blade, SanDisk, 32GB, SDCZ60-...</td>\n",
       "      <td>39.90</td>\n",
       "      <td>4.8</td>\n",
       "      <td>134756</td>\n",
       "      <td>https://www.amazon.com.br/Pen-Drive-32GB-Sandi...</td>\n",
       "    </tr>\n",
       "    <tr>\n",
       "      <th>2</th>\n",
       "      <td>PenDrive SanDisk Cruzer Ultra Flair 32GB, Prata</td>\n",
       "      <td>80.50</td>\n",
       "      <td>4.6</td>\n",
       "      <td>111966</td>\n",
       "      <td>https://www.amazon.com.br/Drive-Cruzer-Ultra-S...</td>\n",
       "    </tr>\n",
       "    <tr>\n",
       "      <th>69</th>\n",
       "      <td>Pen Drive Ultra, USB 3.0, San Disk, 64GB, SDCZ...</td>\n",
       "      <td>63.79</td>\n",
       "      <td>4.7</td>\n",
       "      <td>101275</td>\n",
       "      <td>https://www.amazon.com.br/Drive-Ultra-Disk-64G...</td>\n",
       "    </tr>\n",
       "    <tr>\n",
       "      <th>5</th>\n",
       "      <td>Pen Drive Ultra Fit SanDisk 3.1, 128GB, SDCZ43...</td>\n",
       "      <td>139.99</td>\n",
       "      <td>4.8</td>\n",
       "      <td>89849</td>\n",
       "      <td>https://www.amazon.com.br/Drive-Ultra-Flash-Sa...</td>\n",
       "    </tr>\n",
       "    <tr>\n",
       "      <th>27</th>\n",
       "      <td>SanDisk Flash Drive Ultra USB 3.0 de 512 GB - ...</td>\n",
       "      <td>325.86</td>\n",
       "      <td>4.6</td>\n",
       "      <td>68620</td>\n",
       "      <td>https://www.amazon.com.br/Sandisk-Flash-Memory...</td>\n",
       "    </tr>\n",
       "    <tr>\n",
       "      <th>1</th>\n",
       "      <td>Pendrive Datatraveler 100G3 32Gb, Kingston, Pe...</td>\n",
       "      <td>63.00</td>\n",
       "      <td>4.8</td>\n",
       "      <td>60187</td>\n",
       "      <td>https://www.amazon.com.br/Pendrive-DataTravele...</td>\n",
       "    </tr>\n",
       "    <tr>\n",
       "      <th>23</th>\n",
       "      <td>Pen Drive Cruzer Blade - 16GB - PRETO</td>\n",
       "      <td>27.59</td>\n",
       "      <td>4.5</td>\n",
       "      <td>59332</td>\n",
       "      <td>https://www.amazon.com.br/Drive-Sandisk-Cruzer...</td>\n",
       "    </tr>\n",
       "    <tr>\n",
       "      <th>35</th>\n",
       "      <td>Samsung BAR Plus 64 GB - 300 MB/s USB 3.1 Flas...</td>\n",
       "      <td>125.41</td>\n",
       "      <td>4.7</td>\n",
       "      <td>39804</td>\n",
       "      <td>https://www.amazon.com.br/Flash-Drive-Samsung-...</td>\n",
       "    </tr>\n",
       "    <tr>\n",
       "      <th>64</th>\n",
       "      <td>SanDisk Pen Drive Cruzer USB 2.0 de 256 GB - S...</td>\n",
       "      <td>372.38</td>\n",
       "      <td>4.7</td>\n",
       "      <td>26705</td>\n",
       "      <td>https://www.amazon.com.br/Drive-SanDisk-Cruzer...</td>\n",
       "    </tr>\n",
       "    <tr>\n",
       "      <th>30</th>\n",
       "      <td>Samsung MUF-64AB/AM FIT Plus 64 GB - USB 3.1 F...</td>\n",
       "      <td>108.62</td>\n",
       "      <td>4.7</td>\n",
       "      <td>25752</td>\n",
       "      <td>https://www.amazon.com.br/Pendrive-USB-3-1-Sam...</td>\n",
       "    </tr>\n",
       "  </tbody>\n",
       "</table>\n",
       "</div>"
      ],
      "text/plain": [
       "                                  PRODUCT DESCRIPTION   PRICE  RATING  \\\n",
       "4   Pen Drive Cruzer Blade, SanDisk, 32GB, SDCZ60-...   39.90     4.8   \n",
       "2     PenDrive SanDisk Cruzer Ultra Flair 32GB, Prata   80.50     4.6   \n",
       "69  Pen Drive Ultra, USB 3.0, San Disk, 64GB, SDCZ...   63.79     4.7   \n",
       "5   Pen Drive Ultra Fit SanDisk 3.1, 128GB, SDCZ43...  139.99     4.8   \n",
       "27  SanDisk Flash Drive Ultra USB 3.0 de 512 GB - ...  325.86     4.6   \n",
       "1   Pendrive Datatraveler 100G3 32Gb, Kingston, Pe...   63.00     4.8   \n",
       "23              Pen Drive Cruzer Blade - 16GB - PRETO   27.59     4.5   \n",
       "35  Samsung BAR Plus 64 GB - 300 MB/s USB 3.1 Flas...  125.41     4.7   \n",
       "64  SanDisk Pen Drive Cruzer USB 2.0 de 256 GB - S...  372.38     4.7   \n",
       "30  Samsung MUF-64AB/AM FIT Plus 64 GB - USB 3.1 F...  108.62     4.7   \n",
       "\n",
       "    REVIEW COUNT                                               LINK  \n",
       "4         134756  https://www.amazon.com.br/Pen-Drive-32GB-Sandi...  \n",
       "2         111966  https://www.amazon.com.br/Drive-Cruzer-Ultra-S...  \n",
       "69        101275  https://www.amazon.com.br/Drive-Ultra-Disk-64G...  \n",
       "5          89849  https://www.amazon.com.br/Drive-Ultra-Flash-Sa...  \n",
       "27         68620  https://www.amazon.com.br/Sandisk-Flash-Memory...  \n",
       "1          60187  https://www.amazon.com.br/Pendrive-DataTravele...  \n",
       "23         59332  https://www.amazon.com.br/Drive-Sandisk-Cruzer...  \n",
       "35         39804  https://www.amazon.com.br/Flash-Drive-Samsung-...  \n",
       "64         26705  https://www.amazon.com.br/Drive-SanDisk-Cruzer...  \n",
       "30         25752  https://www.amazon.com.br/Pendrive-USB-3-1-Sam...  "
      ]
     },
     "execution_count": 43,
     "metadata": {},
     "output_type": "execute_result"
    }
   ],
   "source": [
    "df.sort_values(by=['REVIEW COUNT','RATING'], inplace=True, ascending=False)\n",
    "df.head(10)"
   ]
  }
 ],
 "metadata": {
  "interpreter": {
   "hash": "166d5f126c88ccbf3d555564b4abc5f23444d85b72380c90241acc5246aa4945"
  },
  "kernelspec": {
   "display_name": "Python 3.10.2 64-bit",
   "language": "python",
   "name": "python3"
  },
  "language_info": {
   "codemirror_mode": {
    "name": "ipython",
    "version": 3
   },
   "file_extension": ".py",
   "mimetype": "text/x-python",
   "name": "python",
   "nbconvert_exporter": "python",
   "pygments_lexer": "ipython3",
   "version": "3.10.2"
  },
  "orig_nbformat": 4
 },
 "nbformat": 4,
 "nbformat_minor": 2
}
