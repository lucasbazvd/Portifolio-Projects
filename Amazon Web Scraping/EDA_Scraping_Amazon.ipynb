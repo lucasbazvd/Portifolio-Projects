{
 "cells": [
  {
   "cell_type": "markdown",
   "metadata": {},
   "source": [
    "<center><h1>Amazon Web Scrapping</h1></center>"
   ]
  },
  {
   "cell_type": "markdown",
   "metadata": {},
   "source": [
    "<h4>1) Importing the libraries</h4>\n",
    "\n"
   ]
  },
  {
   "cell_type": "code",
   "execution_count": 60,
   "metadata": {},
   "outputs": [],
   "source": [
    "import csv\n",
    "from bs4 import BeautifulSoup\n",
    "from selenium import webdriver\n",
    "from webdriver_manager.chrome import ChromeDriverManager\n",
    "import pandas as pd\n",
    "import numpy as np\n",
    "import seaborn as srn\n",
    "import matplotlib.pyplot as plt"
   ]
  },
  {
   "cell_type": "markdown",
   "metadata": {},
   "source": [
    "<h4>2) Setting the path of Chrome's driver</h4>"
   ]
  },
  {
   "cell_type": "code",
   "execution_count": 61,
   "metadata": {},
   "outputs": [
    {
     "name": "stderr",
     "output_type": "stream",
     "text": [
      "C:\\Users\\Alfred\\AppData\\Local\\Temp\\ipykernel_8372\\1640991319.py:1: DeprecationWarning: executable_path has been deprecated, please pass in a Service object\n",
      "  driver = webdriver.Chrome('C:/Users/Alfred/.wdm/drivers/chromedriver/win32/98.0.4758.102/chromedriver.exe')\n"
     ]
    }
   ],
   "source": [
    "driver = webdriver.Chrome('C:/Users/Alfred/.wdm/drivers/chromedriver/win32/98.0.4758.102/chromedriver.exe')"
   ]
  },
  {
   "cell_type": "markdown",
   "metadata": {},
   "source": [
    "<h4>3) Getting our search parameters</h4>"
   ]
  },
  {
   "cell_type": "code",
   "execution_count": 62,
   "metadata": {},
   "outputs": [],
   "source": [
    "search_term = input('Write the product name')\n",
    "minimum = input('Write the minimun value')\n",
    "maximum = input('Write the maximum value')\n",
    "search_term = search_term.replace(' ','+')  "
   ]
  },
  {
   "cell_type": "markdown",
   "metadata": {},
   "source": [
    "Our parameters are: <b>search term</b> (for testing purpose we'll use 'Power Bank'), the <b>minimum value</b> and the  <b>maximum value</b> (these two will be used in the end when the dataframe is generated and polished)"
   ]
  },
  {
   "cell_type": "markdown",
   "metadata": {},
   "source": [
    "<h4>4) Iterating between products and pages</h4>"
   ]
  },
  {
   "cell_type": "markdown",
   "metadata": {},
   "source": [
    "A empty list is created to storage our product data throughout the iterations"
   ]
  },
  {
   "cell_type": "code",
   "execution_count": 63,
   "metadata": {},
   "outputs": [],
   "source": [
    "list_products = []"
   ]
  },
  {
   "cell_type": "markdown",
   "metadata": {},
   "source": [
    "The next block of code will navigate between the first page to the last one, and the URL will get the three variables that we defined for our search.\n",
    "\n",
    "The program will get the source code of the URL for each page (first for loop). The products are inside a tag div with a specific name, the program will iterate through the products (second for loop) and scrap five informations:\n",
    "1) Product Name\n",
    "2) Price\n",
    "3) Rating\n",
    "4) Review Count\n",
    "5) Link\n",
    "\n",
    "(I'm not considering sponsored products)<br>\n",
    "If it returns AtributeError, the variable will receive a NULL value. The result will be a tuple with our 5 variables and after each product, this tuple will be storaged in the variable 'list_products' which is the empty list created right above."
   ]
  },
  {
   "cell_type": "code",
   "execution_count": 64,
   "metadata": {},
   "outputs": [],
   "source": [
    "page = 0\n",
    "for page in range(1,8):\n",
    "    url = f'https://www.amazon.com.br/s?k={search_term}&page={page}&__mk_pt_BR=%C3%85M%C3%85%C5%BD%C3%95%C3%91&crid=32CUIJ6TTV5WT&qid=1646248377&sprefix={search_term}%2Caps%2C275&ref=sr_pg_{page}'    \n",
    "\n",
    "    driver.get(url)\n",
    "\n",
    "    soup = BeautifulSoup(driver.page_source, 'html.parser')\n",
    "    results = soup.find_all('div', {'data-component-type': 's-search-result'})\n",
    "    for product in results:\n",
    "        sponsored_product = product.find('span','a-color-base').text.strip()\n",
    "        if sponsored_product == \"Patrocinados\":\n",
    "            continue\n",
    "        \n",
    "        a_tag = product.h2.a\n",
    "        product_name = a_tag.text.strip()\n",
    "        link = 'https://www.amazon.com.br' + a_tag.get('href')\n",
    "        try:\n",
    "            price_span_tag = product.find('span', 'a-price')\n",
    "            price = price_span_tag.find('span', 'a-offscreen').text.strip()\n",
    "        except AttributeError:\n",
    "            price = ''\n",
    "                \n",
    "        try:\n",
    "            rating_icon = product.find('span','a-icon-alt') .text.strip()\n",
    "            review_count = product.find('span', {'class': 'a-size-base s-underline-text'}).text\n",
    "            review_count = str(review_count)\n",
    "            review_count = review_count.replace('.','')\n",
    "        except AttributeError:\n",
    "            rating = ''\n",
    "            review_count = ''\n",
    "\n",
    "        result = (product_name, price, rating_icon, review_count, link)\n",
    "        list_products.append(result)\n",
    "driver.close()"
   ]
  },
  {
   "cell_type": "markdown",
   "metadata": {},
   "source": [
    "I previously created a csv file, whose will get the products (list_products) and right after will be transformed in a pandas dataframe"
   ]
  },
  {
   "cell_type": "code",
   "execution_count": 65,
   "metadata": {},
   "outputs": [],
   "source": [
    "with open('products.csv','w', encoding = 'utf-8') as p:\n",
    "    writer = csv.writer(p)\n",
    "    writer.writerow(['PRODUCT DESCRIPTION','PRICE','RATING','REVIEW COUNT','LINK'])\n",
    "    writer.writerows(list_products)"
   ]
  },
  {
   "cell_type": "code",
   "execution_count": 66,
   "metadata": {},
   "outputs": [
    {
     "data": {
      "text/html": [
       "<div>\n",
       "<style scoped>\n",
       "    .dataframe tbody tr th:only-of-type {\n",
       "        vertical-align: middle;\n",
       "    }\n",
       "\n",
       "    .dataframe tbody tr th {\n",
       "        vertical-align: top;\n",
       "    }\n",
       "\n",
       "    .dataframe thead th {\n",
       "        text-align: right;\n",
       "    }\n",
       "</style>\n",
       "<table border=\"1\" class=\"dataframe\">\n",
       "  <thead>\n",
       "    <tr style=\"text-align: right;\">\n",
       "      <th></th>\n",
       "      <th>PRODUCT DESCRIPTION</th>\n",
       "      <th>PRICE</th>\n",
       "      <th>RATING</th>\n",
       "      <th>REVIEW COUNT</th>\n",
       "      <th>LINK</th>\n",
       "    </tr>\n",
       "  </thead>\n",
       "  <tbody>\n",
       "    <tr>\n",
       "      <th>0</th>\n",
       "      <td>Carregador Portátil (Power Bank) Ultra Rápido ...</td>\n",
       "      <td>NaN</td>\n",
       "      <td>4,7 de 5 estrelas</td>\n",
       "      <td>971.0</td>\n",
       "      <td>https://www.amazon.com.br/Carregador-Port%C3%A...</td>\n",
       "    </tr>\n",
       "    <tr>\n",
       "      <th>1</th>\n",
       "      <td>Power Bank Bateria 10.000 Mah de Polímero Conc...</td>\n",
       "      <td>R$ 99,90</td>\n",
       "      <td>4,6 de 5 estrelas</td>\n",
       "      <td>77.0</td>\n",
       "      <td>https://www.amazon.com.br/Power-Multilaser-100...</td>\n",
       "    </tr>\n",
       "    <tr>\n",
       "      <th>2</th>\n",
       "      <td>POWER BANK 12500MAH - 2 PORTAS USB - LED INDIC...</td>\n",
       "      <td>R$ 125,10</td>\n",
       "      <td>4,3 de 5 estrelas</td>\n",
       "      <td>49.0</td>\n",
       "      <td>https://www.amazon.com.br/POWER-BANK-12500MAH-...</td>\n",
       "    </tr>\n",
       "    <tr>\n",
       "      <th>3</th>\n",
       "      <td>Xiaomi Mi Power Bank 2 10000mah C/2 Usb Quick ...</td>\n",
       "      <td>R$ 139,90</td>\n",
       "      <td>4,4 de 5 estrelas</td>\n",
       "      <td>181.0</td>\n",
       "      <td>https://www.amazon.com.br/Xiaomi-Power-10000ma...</td>\n",
       "    </tr>\n",
       "    <tr>\n",
       "      <th>4</th>\n",
       "      <td>Power Bank 2 Slim Xiaomi 10000mah (Prata)</td>\n",
       "      <td>R$ 129,90</td>\n",
       "      <td>4,6 de 5 estrelas</td>\n",
       "      <td>11.0</td>\n",
       "      <td>https://www.amazon.com.br/Power-Bank-Xiaomi-10...</td>\n",
       "    </tr>\n",
       "  </tbody>\n",
       "</table>\n",
       "</div>"
      ],
      "text/plain": [
       "                                 PRODUCT DESCRIPTION      PRICE  \\\n",
       "0  Carregador Portátil (Power Bank) Ultra Rápido ...        NaN   \n",
       "1  Power Bank Bateria 10.000 Mah de Polímero Conc...   R$ 99,90   \n",
       "2  POWER BANK 12500MAH - 2 PORTAS USB - LED INDIC...  R$ 125,10   \n",
       "3  Xiaomi Mi Power Bank 2 10000mah C/2 Usb Quick ...  R$ 139,90   \n",
       "4          Power Bank 2 Slim Xiaomi 10000mah (Prata)  R$ 129,90   \n",
       "\n",
       "              RATING  REVIEW COUNT  \\\n",
       "0  4,7 de 5 estrelas         971.0   \n",
       "1  4,6 de 5 estrelas          77.0   \n",
       "2  4,3 de 5 estrelas          49.0   \n",
       "3  4,4 de 5 estrelas         181.0   \n",
       "4  4,6 de 5 estrelas          11.0   \n",
       "\n",
       "                                                LINK  \n",
       "0  https://www.amazon.com.br/Carregador-Port%C3%A...  \n",
       "1  https://www.amazon.com.br/Power-Multilaser-100...  \n",
       "2  https://www.amazon.com.br/POWER-BANK-12500MAH-...  \n",
       "3  https://www.amazon.com.br/Xiaomi-Power-10000ma...  \n",
       "4  https://www.amazon.com.br/Power-Bank-Xiaomi-10...  "
      ]
     },
     "execution_count": 66,
     "metadata": {},
     "output_type": "execute_result"
    }
   ],
   "source": [
    "df = pd.read_csv('products.csv')\n",
    "df.head()"
   ]
  },
  {
   "cell_type": "markdown",
   "metadata": {},
   "source": [
    "<h4>5) Doing some EDA (Exploratory Data Analysis)</h4>"
   ]
  },
  {
   "cell_type": "markdown",
   "metadata": {},
   "source": [
    "Checking the type of each column"
   ]
  },
  {
   "cell_type": "code",
   "execution_count": 67,
   "metadata": {},
   "outputs": [
    {
     "name": "stdout",
     "output_type": "stream",
     "text": [
      "PRODUCT DESCRIPTION     object\n",
      "PRICE                   object\n",
      "RATING                  object\n",
      "REVIEW COUNT           float64\n",
      "LINK                    object\n",
      "dtype: object\n"
     ]
    }
   ],
   "source": [
    "print(df.dtypes)"
   ]
  },
  {
   "cell_type": "markdown",
   "metadata": {},
   "source": [
    "Checking the number of null values in each column"
   ]
  },
  {
   "cell_type": "code",
   "execution_count": 68,
   "metadata": {},
   "outputs": [
    {
     "data": {
      "text/plain": [
       "PRODUCT DESCRIPTION      0\n",
       "PRICE                   54\n",
       "RATING                   0\n",
       "REVIEW COUNT           197\n",
       "LINK                     0\n",
       "dtype: int64"
      ]
     },
     "execution_count": 68,
     "metadata": {},
     "output_type": "execute_result"
    }
   ],
   "source": [
    "df.isnull().sum()"
   ]
  },
  {
   "cell_type": "markdown",
   "metadata": {},
   "source": [
    "Removing the NAn"
   ]
  },
  {
   "cell_type": "code",
   "execution_count": 69,
   "metadata": {},
   "outputs": [
    {
     "data": {
      "text/plain": [
       "PRODUCT DESCRIPTION    0\n",
       "PRICE                  0\n",
       "RATING                 0\n",
       "REVIEW COUNT           0\n",
       "LINK                   0\n",
       "dtype: int64"
      ]
     },
     "execution_count": 69,
     "metadata": {},
     "output_type": "execute_result"
    }
   ],
   "source": [
    "df = df.dropna()\n",
    "df = df.reset_index(drop=True)\n",
    "df.isnull().sum()"
   ]
  },
  {
   "cell_type": "markdown",
   "metadata": {},
   "source": [
    "Treating the 'RATING' column to get only the number"
   ]
  },
  {
   "cell_type": "code",
   "execution_count": 70,
   "metadata": {},
   "outputs": [
    {
     "data": {
      "text/html": [
       "<div>\n",
       "<style scoped>\n",
       "    .dataframe tbody tr th:only-of-type {\n",
       "        vertical-align: middle;\n",
       "    }\n",
       "\n",
       "    .dataframe tbody tr th {\n",
       "        vertical-align: top;\n",
       "    }\n",
       "\n",
       "    .dataframe thead th {\n",
       "        text-align: right;\n",
       "    }\n",
       "</style>\n",
       "<table border=\"1\" class=\"dataframe\">\n",
       "  <thead>\n",
       "    <tr style=\"text-align: right;\">\n",
       "      <th></th>\n",
       "      <th>PRODUCT DESCRIPTION</th>\n",
       "      <th>PRICE</th>\n",
       "      <th>RATING</th>\n",
       "      <th>REVIEW COUNT</th>\n",
       "      <th>LINK</th>\n",
       "    </tr>\n",
       "  </thead>\n",
       "  <tbody>\n",
       "    <tr>\n",
       "      <th>0</th>\n",
       "      <td>Power Bank Bateria 10.000 Mah de Polímero Conc...</td>\n",
       "      <td>R$ 99,90</td>\n",
       "      <td>4.6</td>\n",
       "      <td>77.0</td>\n",
       "      <td>https://www.amazon.com.br/Power-Multilaser-100...</td>\n",
       "    </tr>\n",
       "    <tr>\n",
       "      <th>1</th>\n",
       "      <td>POWER BANK 12500MAH - 2 PORTAS USB - LED INDIC...</td>\n",
       "      <td>R$ 125,10</td>\n",
       "      <td>4.3</td>\n",
       "      <td>49.0</td>\n",
       "      <td>https://www.amazon.com.br/POWER-BANK-12500MAH-...</td>\n",
       "    </tr>\n",
       "    <tr>\n",
       "      <th>2</th>\n",
       "      <td>Xiaomi Mi Power Bank 2 10000mah C/2 Usb Quick ...</td>\n",
       "      <td>R$ 139,90</td>\n",
       "      <td>4.4</td>\n",
       "      <td>181.0</td>\n",
       "      <td>https://www.amazon.com.br/Xiaomi-Power-10000ma...</td>\n",
       "    </tr>\n",
       "    <tr>\n",
       "      <th>3</th>\n",
       "      <td>Power Bank 2 Slim Xiaomi 10000mah (Prata)</td>\n",
       "      <td>R$ 129,90</td>\n",
       "      <td>4.6</td>\n",
       "      <td>11.0</td>\n",
       "      <td>https://www.amazon.com.br/Power-Bank-Xiaomi-10...</td>\n",
       "    </tr>\n",
       "    <tr>\n",
       "      <th>4</th>\n",
       "      <td>Carregador Power Bank Pineng PN-9511 10000mAh ...</td>\n",
       "      <td>R$ 103,87</td>\n",
       "      <td>4.3</td>\n",
       "      <td>2138.0</td>\n",
       "      <td>https://www.amazon.com.br/Carregador-Pineng-Or...</td>\n",
       "    </tr>\n",
       "  </tbody>\n",
       "</table>\n",
       "</div>"
      ],
      "text/plain": [
       "                                 PRODUCT DESCRIPTION      PRICE  RATING  \\\n",
       "0  Power Bank Bateria 10.000 Mah de Polímero Conc...   R$ 99,90     4.6   \n",
       "1  POWER BANK 12500MAH - 2 PORTAS USB - LED INDIC...  R$ 125,10     4.3   \n",
       "2  Xiaomi Mi Power Bank 2 10000mah C/2 Usb Quick ...  R$ 139,90     4.4   \n",
       "3          Power Bank 2 Slim Xiaomi 10000mah (Prata)  R$ 129,90     4.6   \n",
       "4  Carregador Power Bank Pineng PN-9511 10000mAh ...  R$ 103,87     4.3   \n",
       "\n",
       "   REVIEW COUNT                                               LINK  \n",
       "0          77.0  https://www.amazon.com.br/Power-Multilaser-100...  \n",
       "1          49.0  https://www.amazon.com.br/POWER-BANK-12500MAH-...  \n",
       "2         181.0  https://www.amazon.com.br/Xiaomi-Power-10000ma...  \n",
       "3          11.0  https://www.amazon.com.br/Power-Bank-Xiaomi-10...  \n",
       "4        2138.0  https://www.amazon.com.br/Carregador-Pineng-Or...  "
      ]
     },
     "execution_count": 70,
     "metadata": {},
     "output_type": "execute_result"
    }
   ],
   "source": [
    "df['RATING'] = df['RATING'].str[:3].replace({',':'.'}, regex=True).astype(float)\n",
    "df.head()"
   ]
  },
  {
   "cell_type": "markdown",
   "metadata": {},
   "source": [
    "The column 'REVIEW COUNT' will get only integer values"
   ]
  },
  {
   "cell_type": "code",
   "execution_count": 71,
   "metadata": {},
   "outputs": [
    {
     "data": {
      "text/html": [
       "<div>\n",
       "<style scoped>\n",
       "    .dataframe tbody tr th:only-of-type {\n",
       "        vertical-align: middle;\n",
       "    }\n",
       "\n",
       "    .dataframe tbody tr th {\n",
       "        vertical-align: top;\n",
       "    }\n",
       "\n",
       "    .dataframe thead th {\n",
       "        text-align: right;\n",
       "    }\n",
       "</style>\n",
       "<table border=\"1\" class=\"dataframe\">\n",
       "  <thead>\n",
       "    <tr style=\"text-align: right;\">\n",
       "      <th></th>\n",
       "      <th>PRODUCT DESCRIPTION</th>\n",
       "      <th>PRICE</th>\n",
       "      <th>RATING</th>\n",
       "      <th>REVIEW COUNT</th>\n",
       "      <th>LINK</th>\n",
       "    </tr>\n",
       "  </thead>\n",
       "  <tbody>\n",
       "    <tr>\n",
       "      <th>0</th>\n",
       "      <td>Power Bank Bateria 10.000 Mah de Polímero Conc...</td>\n",
       "      <td>R$ 99,90</td>\n",
       "      <td>4.6</td>\n",
       "      <td>77</td>\n",
       "      <td>https://www.amazon.com.br/Power-Multilaser-100...</td>\n",
       "    </tr>\n",
       "    <tr>\n",
       "      <th>1</th>\n",
       "      <td>POWER BANK 12500MAH - 2 PORTAS USB - LED INDIC...</td>\n",
       "      <td>R$ 125,10</td>\n",
       "      <td>4.3</td>\n",
       "      <td>49</td>\n",
       "      <td>https://www.amazon.com.br/POWER-BANK-12500MAH-...</td>\n",
       "    </tr>\n",
       "    <tr>\n",
       "      <th>2</th>\n",
       "      <td>Xiaomi Mi Power Bank 2 10000mah C/2 Usb Quick ...</td>\n",
       "      <td>R$ 139,90</td>\n",
       "      <td>4.4</td>\n",
       "      <td>181</td>\n",
       "      <td>https://www.amazon.com.br/Xiaomi-Power-10000ma...</td>\n",
       "    </tr>\n",
       "    <tr>\n",
       "      <th>3</th>\n",
       "      <td>Power Bank 2 Slim Xiaomi 10000mah (Prata)</td>\n",
       "      <td>R$ 129,90</td>\n",
       "      <td>4.6</td>\n",
       "      <td>11</td>\n",
       "      <td>https://www.amazon.com.br/Power-Bank-Xiaomi-10...</td>\n",
       "    </tr>\n",
       "    <tr>\n",
       "      <th>4</th>\n",
       "      <td>Carregador Power Bank Pineng PN-9511 10000mAh ...</td>\n",
       "      <td>R$ 103,87</td>\n",
       "      <td>4.3</td>\n",
       "      <td>2138</td>\n",
       "      <td>https://www.amazon.com.br/Carregador-Pineng-Or...</td>\n",
       "    </tr>\n",
       "  </tbody>\n",
       "</table>\n",
       "</div>"
      ],
      "text/plain": [
       "                                 PRODUCT DESCRIPTION      PRICE  RATING  \\\n",
       "0  Power Bank Bateria 10.000 Mah de Polímero Conc...   R$ 99,90     4.6   \n",
       "1  POWER BANK 12500MAH - 2 PORTAS USB - LED INDIC...  R$ 125,10     4.3   \n",
       "2  Xiaomi Mi Power Bank 2 10000mah C/2 Usb Quick ...  R$ 139,90     4.4   \n",
       "3          Power Bank 2 Slim Xiaomi 10000mah (Prata)  R$ 129,90     4.6   \n",
       "4  Carregador Power Bank Pineng PN-9511 10000mAh ...  R$ 103,87     4.3   \n",
       "\n",
       "   REVIEW COUNT                                               LINK  \n",
       "0            77  https://www.amazon.com.br/Power-Multilaser-100...  \n",
       "1            49  https://www.amazon.com.br/POWER-BANK-12500MAH-...  \n",
       "2           181  https://www.amazon.com.br/Xiaomi-Power-10000ma...  \n",
       "3            11  https://www.amazon.com.br/Power-Bank-Xiaomi-10...  \n",
       "4          2138  https://www.amazon.com.br/Carregador-Pineng-Or...  "
      ]
     },
     "execution_count": 71,
     "metadata": {},
     "output_type": "execute_result"
    }
   ],
   "source": [
    "#df['REVIEW COUNT'] = df['REVIEW COUNT'].replace({'.':''}, regex=True).astype(int)\n",
    "df['REVIEW COUNT'] = df['REVIEW COUNT'].astype('int')\n",
    "#df['REVIEW COUNT'] = df['REVIEW COUNT'].str.replace({'.':','},regex=True)\n",
    "df.head()"
   ]
  },
  {
   "cell_type": "code",
   "execution_count": 72,
   "metadata": {},
   "outputs": [
    {
     "data": {
      "text/plain": [
       "PRODUCT DESCRIPTION     object\n",
       "PRICE                   object\n",
       "RATING                 float64\n",
       "REVIEW COUNT             int32\n",
       "LINK                    object\n",
       "dtype: object"
      ]
     },
     "execution_count": 72,
     "metadata": {},
     "output_type": "execute_result"
    }
   ],
   "source": [
    "df.dtypes"
   ]
  },
  {
   "cell_type": "markdown",
   "metadata": {},
   "source": [
    "Removing the 'R$' part from the price"
   ]
  },
  {
   "cell_type": "code",
   "execution_count": 73,
   "metadata": {},
   "outputs": [],
   "source": [
    "remove_coin = df['PRICE'].str.split('$').str[1]\n",
    "df['PRICE'] = remove_coin.str.strip()\n",
    "#price_integer = \n"
   ]
  },
  {
   "cell_type": "markdown",
   "metadata": {},
   "source": [
    "To correct the column 'Price' i had to split the numbers in two parts (integer part and decimal part) and replace ',' to a empty value. Then I had to put these two parts together again with '.' to separate them. It's a not so pretty solution but it worked, and I intend to optimize this part."
   ]
  },
  {
   "cell_type": "markdown",
   "metadata": {},
   "source": [
    "<h5>Splitting and Replacing</h5>"
   ]
  },
  {
   "cell_type": "code",
   "execution_count": 75,
   "metadata": {},
   "outputs": [
    {
     "name": "stderr",
     "output_type": "stream",
     "text": [
      "C:\\Users\\Alfred\\AppData\\Local\\Temp\\ipykernel_8372\\1546184746.py:2: FutureWarning: The default value of regex will change from True to False in a future version. In addition, single character regular expressions will *not* be treated as literal strings when regex=True.\n",
      "  df['integer_part'] = df['integer_part'].str.replace('.','')\n"
     ]
    },
    {
     "data": {
      "text/plain": [
       "0      99\n",
       "1     125\n",
       "2     139\n",
       "3     129\n",
       "4     103\n",
       "     ... \n",
       "90    252\n",
       "91     64\n",
       "92    189\n",
       "93     97\n",
       "94     63\n",
       "Name: integer_part, Length: 95, dtype: object"
      ]
     },
     "execution_count": 75,
     "metadata": {},
     "output_type": "execute_result"
    }
   ],
   "source": [
    "\n",
    "df['integer_part'] = df['PRICE'].str.split(',').str[0]\n",
    "df['integer_part'] = df['integer_part'].str.replace('.','')\n",
    "df['integer_part']"
   ]
  },
  {
   "cell_type": "code",
   "execution_count": 76,
   "metadata": {},
   "outputs": [
    {
     "data": {
      "text/plain": [
       "0     90\n",
       "1     10\n",
       "2     90\n",
       "3     90\n",
       "4     87\n",
       "      ..\n",
       "90    53\n",
       "91    90\n",
       "92    00\n",
       "93    50\n",
       "94    28\n",
       "Name: decimal_part, Length: 95, dtype: object"
      ]
     },
     "execution_count": 76,
     "metadata": {},
     "output_type": "execute_result"
    }
   ],
   "source": [
    "df['decimal_part'] = df['PRICE'].str.split(',').str[1]\n",
    "df['decimal_part']"
   ]
  },
  {
   "cell_type": "markdown",
   "metadata": {},
   "source": [
    "<h5>Joining the parts</h5>"
   ]
  },
  {
   "cell_type": "code",
   "execution_count": 77,
   "metadata": {},
   "outputs": [],
   "source": [
    "df['PRICE_CORRECT'] = df['integer_part'] + \".\" + df['decimal_part']\n",
    "df['PRICE_CORRECT'] = df['PRICE_CORRECT'].astype('string')\n",
    "df['PRICE_CORRECT'] = df['PRICE_CORRECT'].astype('float')"
   ]
  },
  {
   "cell_type": "code",
   "execution_count": 78,
   "metadata": {},
   "outputs": [],
   "source": [
    "df['PRICE'] = df['PRICE_CORRECT']\n",
    "df.drop(['integer_part','decimal_part','PRICE_CORRECT'], axis=1, inplace=True)\n"
   ]
  },
  {
   "cell_type": "markdown",
   "metadata": {},
   "source": [
    "Now that the dataframe is polished, let's check how the variables 'Rating' and 'Price' are distributed. It's possible to see that the most part of Power Banks in Amazon have a sort of good quality, due to de high rating. And the Average price is R$100,00 with some outliers. "
   ]
  },
  {
   "cell_type": "code",
   "execution_count": 79,
   "metadata": {},
   "outputs": [
    {
     "data": {
      "image/png": "[encoded data removed]",
      "text/plain": [
       "<Figure size 432x288 with 2 Axes>"
      ]
     },
     "metadata": {
      "needs_background": "light"
     },
     "output_type": "display_data"
    }
   ],
   "source": [
    "\n",
    "plt.figure()\n",
    "plt.subplot(2,1,1)\n",
    "plt.hist(df['RATING'], color='darkblue', bins=20)\n",
    "plt.title('RATING DISTRIBUTION', fontweight=\"bold\")\n",
    "plt.subplot(2,1,2)\n",
    "plt.hist(df['PRICE'], color='blue', bins=20)\n",
    "plt.title('PRICE DISTRIBUTION', fontweight=\"bold\")\n",
    "plt.locator_params('x', nbins=8)\n",
    "\n",
    "plt.tight_layout()"
   ]
  },
  {
   "cell_type": "code",
   "execution_count": 80,
   "metadata": {},
   "outputs": [
    {
     "data": {
      "text/html": [
       "<div>\n",
       "<style scoped>\n",
       "    .dataframe tbody tr th:only-of-type {\n",
       "        vertical-align: middle;\n",
       "    }\n",
       "\n",
       "    .dataframe tbody tr th {\n",
       "        vertical-align: top;\n",
       "    }\n",
       "\n",
       "    .dataframe thead th {\n",
       "        text-align: right;\n",
       "    }\n",
       "</style>\n",
       "<table border=\"1\" class=\"dataframe\">\n",
       "  <thead>\n",
       "    <tr style=\"text-align: right;\">\n",
       "      <th></th>\n",
       "      <th>PRODUCT DESCRIPTION</th>\n",
       "      <th>PRICE</th>\n",
       "      <th>RATING</th>\n",
       "      <th>REVIEW COUNT</th>\n",
       "      <th>LINK</th>\n",
       "    </tr>\n",
       "  </thead>\n",
       "  <tbody>\n",
       "    <tr>\n",
       "      <th>0</th>\n",
       "      <td>Power Bank Bateria 10.000 Mah de Polímero Conc...</td>\n",
       "      <td>99.90</td>\n",
       "      <td>4.6</td>\n",
       "      <td>77</td>\n",
       "      <td>https://www.amazon.com.br/Power-Multilaser-100...</td>\n",
       "    </tr>\n",
       "    <tr>\n",
       "      <th>1</th>\n",
       "      <td>POWER BANK 12500MAH - 2 PORTAS USB - LED INDIC...</td>\n",
       "      <td>125.10</td>\n",
       "      <td>4.3</td>\n",
       "      <td>49</td>\n",
       "      <td>https://www.amazon.com.br/POWER-BANK-12500MAH-...</td>\n",
       "    </tr>\n",
       "    <tr>\n",
       "      <th>2</th>\n",
       "      <td>Xiaomi Mi Power Bank 2 10000mah C/2 Usb Quick ...</td>\n",
       "      <td>139.90</td>\n",
       "      <td>4.4</td>\n",
       "      <td>181</td>\n",
       "      <td>https://www.amazon.com.br/Xiaomi-Power-10000ma...</td>\n",
       "    </tr>\n",
       "    <tr>\n",
       "      <th>3</th>\n",
       "      <td>Power Bank 2 Slim Xiaomi 10000mah (Prata)</td>\n",
       "      <td>129.90</td>\n",
       "      <td>4.6</td>\n",
       "      <td>11</td>\n",
       "      <td>https://www.amazon.com.br/Power-Bank-Xiaomi-10...</td>\n",
       "    </tr>\n",
       "    <tr>\n",
       "      <th>4</th>\n",
       "      <td>Carregador Power Bank Pineng PN-9511 10000mAh ...</td>\n",
       "      <td>103.87</td>\n",
       "      <td>4.3</td>\n",
       "      <td>2138</td>\n",
       "      <td>https://www.amazon.com.br/Carregador-Pineng-Or...</td>\n",
       "    </tr>\n",
       "  </tbody>\n",
       "</table>\n",
       "</div>"
      ],
      "text/plain": [
       "                                 PRODUCT DESCRIPTION   PRICE  RATING  \\\n",
       "0  Power Bank Bateria 10.000 Mah de Polímero Conc...   99.90     4.6   \n",
       "1  POWER BANK 12500MAH - 2 PORTAS USB - LED INDIC...  125.10     4.3   \n",
       "2  Xiaomi Mi Power Bank 2 10000mah C/2 Usb Quick ...  139.90     4.4   \n",
       "3          Power Bank 2 Slim Xiaomi 10000mah (Prata)  129.90     4.6   \n",
       "4  Carregador Power Bank Pineng PN-9511 10000mAh ...  103.87     4.3   \n",
       "\n",
       "   REVIEW COUNT                                               LINK  \n",
       "0            77  https://www.amazon.com.br/Power-Multilaser-100...  \n",
       "1            49  https://www.amazon.com.br/POWER-BANK-12500MAH-...  \n",
       "2           181  https://www.amazon.com.br/Xiaomi-Power-10000ma...  \n",
       "3            11  https://www.amazon.com.br/Power-Bank-Xiaomi-10...  \n",
       "4          2138  https://www.amazon.com.br/Carregador-Pineng-Or...  "
      ]
     },
     "execution_count": 80,
     "metadata": {},
     "output_type": "execute_result"
    }
   ],
   "source": [
    "df.head()"
   ]
  },
  {
   "cell_type": "markdown",
   "metadata": {},
   "source": [
    "Organizing the data to show the most reviwed and most rated products first"
   ]
  },
  {
   "cell_type": "code",
   "execution_count": 81,
   "metadata": {},
   "outputs": [
    {
     "data": {
      "text/html": [
       "<div>\n",
       "<style scoped>\n",
       "    .dataframe tbody tr th:only-of-type {\n",
       "        vertical-align: middle;\n",
       "    }\n",
       "\n",
       "    .dataframe tbody tr th {\n",
       "        vertical-align: top;\n",
       "    }\n",
       "\n",
       "    .dataframe thead th {\n",
       "        text-align: right;\n",
       "    }\n",
       "</style>\n",
       "<table border=\"1\" class=\"dataframe\">\n",
       "  <thead>\n",
       "    <tr style=\"text-align: right;\">\n",
       "      <th></th>\n",
       "      <th>PRODUCT DESCRIPTION</th>\n",
       "      <th>PRICE</th>\n",
       "      <th>RATING</th>\n",
       "      <th>REVIEW COUNT</th>\n",
       "      <th>LINK</th>\n",
       "    </tr>\n",
       "  </thead>\n",
       "  <tbody>\n",
       "    <tr>\n",
       "      <th>55</th>\n",
       "      <td>Rádio meteorológico de emergência FosPower NOA...</td>\n",
       "      <td>515.47</td>\n",
       "      <td>4.6</td>\n",
       "      <td>18438</td>\n",
       "      <td>https://www.amazon.com.br/port%C3%A1til-emerg%...</td>\n",
       "    </tr>\n",
       "    <tr>\n",
       "      <th>64</th>\n",
       "      <td>Smartwatch Xiaomi Mi Band 4 Oled Preto Origina...</td>\n",
       "      <td>152.00</td>\n",
       "      <td>4.8</td>\n",
       "      <td>17521</td>\n",
       "      <td>https://www.amazon.com.br/Smartwatch-Xiaomi-Pr...</td>\n",
       "    </tr>\n",
       "    <tr>\n",
       "      <th>40</th>\n",
       "      <td>Multiplicador 4 Tomadas Bivolt + 2 USB 2.4A - ...</td>\n",
       "      <td>69.90</td>\n",
       "      <td>4.8</td>\n",
       "      <td>7584</td>\n",
       "      <td>https://www.amazon.com.br/Multiplicador-Tomada...</td>\n",
       "    </tr>\n",
       "    <tr>\n",
       "      <th>57</th>\n",
       "      <td>Motorola MO-SKN6473AIBI - Cabo de Dados USB/US...</td>\n",
       "      <td>21.50</td>\n",
       "      <td>4.7</td>\n",
       "      <td>7530</td>\n",
       "      <td>https://www.amazon.com.br/Dados-USB-C-Inbulk-L...</td>\n",
       "    </tr>\n",
       "    <tr>\n",
       "      <th>76</th>\n",
       "      <td>Capa de disco rígido externo UGREEN 2,5 polega...</td>\n",
       "      <td>108.00</td>\n",
       "      <td>4.7</td>\n",
       "      <td>7469</td>\n",
       "      <td>https://www.amazon.com.br/UGREEN-polegadas-ele...</td>\n",
       "    </tr>\n",
       "  </tbody>\n",
       "</table>\n",
       "</div>"
      ],
      "text/plain": [
       "                                  PRODUCT DESCRIPTION   PRICE  RATING  \\\n",
       "55  Rádio meteorológico de emergência FosPower NOA...  515.47     4.6   \n",
       "64  Smartwatch Xiaomi Mi Band 4 Oled Preto Origina...  152.00     4.8   \n",
       "40  Multiplicador 4 Tomadas Bivolt + 2 USB 2.4A - ...   69.90     4.8   \n",
       "57  Motorola MO-SKN6473AIBI - Cabo de Dados USB/US...   21.50     4.7   \n",
       "76  Capa de disco rígido externo UGREEN 2,5 polega...  108.00     4.7   \n",
       "\n",
       "    REVIEW COUNT                                               LINK  \n",
       "55         18438  https://www.amazon.com.br/port%C3%A1til-emerg%...  \n",
       "64         17521  https://www.amazon.com.br/Smartwatch-Xiaomi-Pr...  \n",
       "40          7584  https://www.amazon.com.br/Multiplicador-Tomada...  \n",
       "57          7530  https://www.amazon.com.br/Dados-USB-C-Inbulk-L...  \n",
       "76          7469  https://www.amazon.com.br/UGREEN-polegadas-ele...  "
      ]
     },
     "execution_count": 81,
     "metadata": {},
     "output_type": "execute_result"
    }
   ],
   "source": [
    "df.sort_values(by=['REVIEW COUNT','RATING'], inplace=True, ascending=False)\n",
    "df.head()"
   ]
  },
  {
   "cell_type": "markdown",
   "metadata": {},
   "source": [
    "Let's consider that the most rated and most reviwed products are the best of the list. Then the is shown only the name, price and link"
   ]
  },
  {
   "cell_type": "code",
   "execution_count": 82,
   "metadata": {},
   "outputs": [
    {
     "data": {
      "text/html": [
       "<div>\n",
       "<style scoped>\n",
       "    .dataframe tbody tr th:only-of-type {\n",
       "        vertical-align: middle;\n",
       "    }\n",
       "\n",
       "    .dataframe tbody tr th {\n",
       "        vertical-align: top;\n",
       "    }\n",
       "\n",
       "    .dataframe thead th {\n",
       "        text-align: right;\n",
       "    }\n",
       "</style>\n",
       "<table border=\"1\" class=\"dataframe\">\n",
       "  <thead>\n",
       "    <tr style=\"text-align: right;\">\n",
       "      <th></th>\n",
       "      <th>PRODUCT DESCRIPTION</th>\n",
       "      <th>PRICE</th>\n",
       "      <th>LINK</th>\n",
       "    </tr>\n",
       "  </thead>\n",
       "  <tbody>\n",
       "    <tr>\n",
       "      <th>55</th>\n",
       "      <td>Rádio meteorológico de emergência FosPower NOA...</td>\n",
       "      <td>515.47</td>\n",
       "      <td>https://www.amazon.com.br/port%C3%A1til-emerg%...</td>\n",
       "    </tr>\n",
       "    <tr>\n",
       "      <th>64</th>\n",
       "      <td>Smartwatch Xiaomi Mi Band 4 Oled Preto Origina...</td>\n",
       "      <td>152.00</td>\n",
       "      <td>https://www.amazon.com.br/Smartwatch-Xiaomi-Pr...</td>\n",
       "    </tr>\n",
       "    <tr>\n",
       "      <th>40</th>\n",
       "      <td>Multiplicador 4 Tomadas Bivolt + 2 USB 2.4A - ...</td>\n",
       "      <td>69.90</td>\n",
       "      <td>https://www.amazon.com.br/Multiplicador-Tomada...</td>\n",
       "    </tr>\n",
       "    <tr>\n",
       "      <th>57</th>\n",
       "      <td>Motorola MO-SKN6473AIBI - Cabo de Dados USB/US...</td>\n",
       "      <td>21.50</td>\n",
       "      <td>https://www.amazon.com.br/Dados-USB-C-Inbulk-L...</td>\n",
       "    </tr>\n",
       "    <tr>\n",
       "      <th>76</th>\n",
       "      <td>Capa de disco rígido externo UGREEN 2,5 polega...</td>\n",
       "      <td>108.00</td>\n",
       "      <td>https://www.amazon.com.br/UGREEN-polegadas-ele...</td>\n",
       "    </tr>\n",
       "  </tbody>\n",
       "</table>\n",
       "</div>"
      ],
      "text/plain": [
       "                                  PRODUCT DESCRIPTION   PRICE  \\\n",
       "55  Rádio meteorológico de emergência FosPower NOA...  515.47   \n",
       "64  Smartwatch Xiaomi Mi Band 4 Oled Preto Origina...  152.00   \n",
       "40  Multiplicador 4 Tomadas Bivolt + 2 USB 2.4A - ...   69.90   \n",
       "57  Motorola MO-SKN6473AIBI - Cabo de Dados USB/US...   21.50   \n",
       "76  Capa de disco rígido externo UGREEN 2,5 polega...  108.00   \n",
       "\n",
       "                                                 LINK  \n",
       "55  https://www.amazon.com.br/port%C3%A1til-emerg%...  \n",
       "64  https://www.amazon.com.br/Smartwatch-Xiaomi-Pr...  \n",
       "40  https://www.amazon.com.br/Multiplicador-Tomada...  \n",
       "57  https://www.amazon.com.br/Dados-USB-C-Inbulk-L...  \n",
       "76  https://www.amazon.com.br/UGREEN-polegadas-ele...  "
      ]
     },
     "execution_count": 82,
     "metadata": {},
     "output_type": "execute_result"
    }
   ],
   "source": [
    "top10_best_products = df[['PRODUCT DESCRIPTION', 'PRICE','LINK']]\n",
    "top10_best_products.head()"
   ]
  },
  {
   "cell_type": "markdown",
   "metadata": {},
   "source": [
    "Now it shows the top 10 products in the range that was defined in the beginning with the variables 'minimum' and 'maximum'"
   ]
  },
  {
   "cell_type": "code",
   "execution_count": 83,
   "metadata": {},
   "outputs": [
    {
     "data": {
      "text/html": [
       "<div>\n",
       "<style scoped>\n",
       "    .dataframe tbody tr th:only-of-type {\n",
       "        vertical-align: middle;\n",
       "    }\n",
       "\n",
       "    .dataframe tbody tr th {\n",
       "        vertical-align: top;\n",
       "    }\n",
       "\n",
       "    .dataframe thead th {\n",
       "        text-align: right;\n",
       "    }\n",
       "</style>\n",
       "<table border=\"1\" class=\"dataframe\">\n",
       "  <thead>\n",
       "    <tr style=\"text-align: right;\">\n",
       "      <th></th>\n",
       "      <th>PRODUCT DESCRIPTION</th>\n",
       "      <th>PRICE</th>\n",
       "      <th>LINK</th>\n",
       "    </tr>\n",
       "  </thead>\n",
       "  <tbody>\n",
       "    <tr>\n",
       "      <th>64</th>\n",
       "      <td>Smartwatch Xiaomi Mi Band 4 Oled Preto Origina...</td>\n",
       "      <td>152.00</td>\n",
       "      <td>https://www.amazon.com.br/Smartwatch-Xiaomi-Pr...</td>\n",
       "    </tr>\n",
       "    <tr>\n",
       "      <th>40</th>\n",
       "      <td>Multiplicador 4 Tomadas Bivolt + 2 USB 2.4A - ...</td>\n",
       "      <td>69.90</td>\n",
       "      <td>https://www.amazon.com.br/Multiplicador-Tomada...</td>\n",
       "    </tr>\n",
       "    <tr>\n",
       "      <th>76</th>\n",
       "      <td>Capa de disco rígido externo UGREEN 2,5 polega...</td>\n",
       "      <td>108.00</td>\n",
       "      <td>https://www.amazon.com.br/UGREEN-polegadas-ele...</td>\n",
       "    </tr>\n",
       "    <tr>\n",
       "      <th>29</th>\n",
       "      <td>Bateria Externa, 10,000Mah USB Tipo C Prata, S...</td>\n",
       "      <td>339.99</td>\n",
       "      <td>https://www.amazon.com.br/Bateria-Externa-R%C3...</td>\n",
       "    </tr>\n",
       "    <tr>\n",
       "      <th>4</th>\n",
       "      <td>Carregador Power Bank Pineng PN-9511 10000mAh ...</td>\n",
       "      <td>103.87</td>\n",
       "      <td>https://www.amazon.com.br/Carregador-Pineng-Or...</td>\n",
       "    </tr>\n",
       "    <tr>\n",
       "      <th>48</th>\n",
       "      <td>Carregador Universal Ultra Rápido Duo, 1 X USB...</td>\n",
       "      <td>79.90</td>\n",
       "      <td>https://www.amazon.com.br/Carregador-Universal...</td>\n",
       "    </tr>\n",
       "    <tr>\n",
       "      <th>39</th>\n",
       "      <td>Bateria Externa Carga Rápida Wireless 10000 MA...</td>\n",
       "      <td>339.00</td>\n",
       "      <td>https://www.amazon.com.br/Bateria-Externa-R%C3...</td>\n",
       "    </tr>\n",
       "    <tr>\n",
       "      <th>9</th>\n",
       "      <td>Carregador Portátil 12.000 mAh, Azul Marinho, ...</td>\n",
       "      <td>119.00</td>\n",
       "      <td>https://www.amazon.com.br/Carregador-Port%C3%A...</td>\n",
       "    </tr>\n",
       "    <tr>\n",
       "      <th>84</th>\n",
       "      <td>Carregador de tomada PowerPort, 2 portas USB, ...</td>\n",
       "      <td>119.00</td>\n",
       "      <td>https://www.amazon.com.br/Carregador-Tomada-Po...</td>\n",
       "    </tr>\n",
       "    <tr>\n",
       "      <th>21</th>\n",
       "      <td>Carregador Portatil Powerbank Xiaomi 10000mah ...</td>\n",
       "      <td>119.53</td>\n",
       "      <td>https://www.amazon.com.br/Carregador-Portatil-...</td>\n",
       "    </tr>\n",
       "  </tbody>\n",
       "</table>\n",
       "</div>"
      ],
      "text/plain": [
       "                                  PRODUCT DESCRIPTION   PRICE  \\\n",
       "64  Smartwatch Xiaomi Mi Band 4 Oled Preto Origina...  152.00   \n",
       "40  Multiplicador 4 Tomadas Bivolt + 2 USB 2.4A - ...   69.90   \n",
       "76  Capa de disco rígido externo UGREEN 2,5 polega...  108.00   \n",
       "29  Bateria Externa, 10,000Mah USB Tipo C Prata, S...  339.99   \n",
       "4   Carregador Power Bank Pineng PN-9511 10000mAh ...  103.87   \n",
       "48  Carregador Universal Ultra Rápido Duo, 1 X USB...   79.90   \n",
       "39  Bateria Externa Carga Rápida Wireless 10000 MA...  339.00   \n",
       "9   Carregador Portátil 12.000 mAh, Azul Marinho, ...  119.00   \n",
       "84  Carregador de tomada PowerPort, 2 portas USB, ...  119.00   \n",
       "21  Carregador Portatil Powerbank Xiaomi 10000mah ...  119.53   \n",
       "\n",
       "                                                 LINK  \n",
       "64  https://www.amazon.com.br/Smartwatch-Xiaomi-Pr...  \n",
       "40  https://www.amazon.com.br/Multiplicador-Tomada...  \n",
       "76  https://www.amazon.com.br/UGREEN-polegadas-ele...  \n",
       "29  https://www.amazon.com.br/Bateria-Externa-R%C3...  \n",
       "4   https://www.amazon.com.br/Carregador-Pineng-Or...  \n",
       "48  https://www.amazon.com.br/Carregador-Universal...  \n",
       "39  https://www.amazon.com.br/Bateria-Externa-R%C3...  \n",
       "9   https://www.amazon.com.br/Carregador-Port%C3%A...  \n",
       "84  https://www.amazon.com.br/Carregador-Tomada-Po...  \n",
       "21  https://www.amazon.com.br/Carregador-Portatil-...  "
      ]
     },
     "execution_count": 83,
     "metadata": {},
     "output_type": "execute_result"
    }
   ],
   "source": [
    "top10_best_products.loc[(top10_best_products['PRICE'] >= float(minimum)) & (top10_best_products['PRICE'] < float(maximum))].head(10)"
   ]
  }
 ],
 "metadata": {
  "interpreter": {
   "hash": "03047921f47cc7666394e980fe3e091028679457771c75f2dd56307b10ba8c5d"
  },
  "kernelspec": {
   "display_name": "Python 3.10.2 64-bit",
   "language": "python",
   "name": "python3"
  },
  "language_info": {
   "codemirror_mode": {
    "name": "ipython",
    "version": 3
   },
   "file_extension": ".py",
   "mimetype": "text/x-python",
   "name": "python",
   "nbconvert_exporter": "python",
   "pygments_lexer": "ipython3",
   "version": "3.10.2"
  },
  "orig_nbformat": 4
 },
 "nbformat": 4,
 "nbformat_minor": 2
}
