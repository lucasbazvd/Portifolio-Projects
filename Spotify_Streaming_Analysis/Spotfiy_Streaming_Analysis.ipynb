{
 "cells": [
  {
   "cell_type": "markdown",
   "metadata": {},
   "source": [
    "## Analyzing My Streaming Data from Spotify"
   ]
  },
  {
   "cell_type": "markdown",
   "metadata": {},
   "source": [
    "### 1. Data Cleaning / Transformation"
   ]
  },
  {
   "cell_type": "markdown",
   "metadata": {},
   "source": [
    "#### 1.1 Creating the Dataframe by JSON files"
   ]
  },
  {
   "cell_type": "code",
   "execution_count": 1,
   "metadata": {},
   "outputs": [],
   "source": [
    "# Importing the libraries\n",
    "import datetime as dt\n",
    "import pandas as pd\n",
    "import seaborn as sns\n",
    "import matplotlib.pyplot as plt"
   ]
  },
  {
   "cell_type": "markdown",
   "metadata": {},
   "source": [
    "To get the Streaming data from Spotify, go to the link: https://www.spotify.com/us/account/privacy/ and find the option called \"Extended Streaming history\", ask for download and Spotify will send an e-mail with a compacted folder having a bunch of Json Files and a PDF explaing the meaning of each field."
   ]
  },
  {
   "cell_type": "code",
   "execution_count": 2,
   "metadata": {},
   "outputs": [],
   "source": [
    "df0 = pd.read_json('endsong_0.json')\n",
    "df1 = pd.read_json('endsong_1.json')\n",
    "df2 = pd.read_json('endsong_2.json')\n",
    "df3 = pd.read_json('endsong_3.json')\n",
    "df4 = pd.read_json('endsong_4.json')\n",
    "df5 = pd.read_json('endsong_5.json')\n",
    "df6 = pd.read_json('endsong_6.json')\n",
    "df7 = pd.read_json('endsong_7.json')\n",
    "df8 = pd.read_json('endsong_8.json')\n",
    "df9 = pd.read_json('endsong_9.json')\n",
    "df10 = pd.read_json('endsong_10.json')\n",
    "df11 = pd.read_json('endsong_11.json')\n",
    "df12 = pd.read_json('endsong_12.json')\n",
    "df13 = pd.read_json('endsong_13.json')\n",
    "\n",
    "df = pd.concat([df0,df1,df2,df3,df4,df5,df6,df7,df8,df9,df10,df11,df12,df13])"
   ]
  },
  {
   "cell_type": "code",
   "execution_count": 3,
   "metadata": {},
   "outputs": [
    {
     "data": {
      "text/plain": [
       "(222083, 21)"
      ]
     },
     "execution_count": 3,
     "metadata": {},
     "output_type": "execute_result"
    }
   ],
   "source": [
    "df.shape"
   ]
  },
  {
   "cell_type": "code",
   "execution_count": 4,
   "metadata": {},
   "outputs": [
    {
     "data": {
      "text/html": [
       "<div>\n",
       "<style scoped>\n",
       "    .dataframe tbody tr th:only-of-type {\n",
       "        vertical-align: middle;\n",
       "    }\n",
       "\n",
       "    .dataframe tbody tr th {\n",
       "        vertical-align: top;\n",
       "    }\n",
       "\n",
       "    .dataframe thead th {\n",
       "        text-align: right;\n",
       "    }\n",
       "</style>\n",
       "<table border=\"1\" class=\"dataframe\">\n",
       "  <thead>\n",
       "    <tr style=\"text-align: right;\">\n",
       "      <th></th>\n",
       "      <th>ts</th>\n",
       "      <th>username</th>\n",
       "      <th>platform</th>\n",
       "      <th>ms_played</th>\n",
       "      <th>conn_country</th>\n",
       "      <th>ip_addr_decrypted</th>\n",
       "      <th>user_agent_decrypted</th>\n",
       "      <th>master_metadata_track_name</th>\n",
       "      <th>master_metadata_album_artist_name</th>\n",
       "      <th>master_metadata_album_album_name</th>\n",
       "      <th>...</th>\n",
       "      <th>episode_name</th>\n",
       "      <th>episode_show_name</th>\n",
       "      <th>spotify_episode_uri</th>\n",
       "      <th>reason_start</th>\n",
       "      <th>reason_end</th>\n",
       "      <th>shuffle</th>\n",
       "      <th>skipped</th>\n",
       "      <th>offline</th>\n",
       "      <th>offline_timestamp</th>\n",
       "      <th>incognito_mode</th>\n",
       "    </tr>\n",
       "  </thead>\n",
       "  <tbody>\n",
       "    <tr>\n",
       "      <th>0</th>\n",
       "      <td>2020-10-10T16:08:37Z</td>\n",
       "      <td>9uvq1zbwvtr3im22brbiwrrc5</td>\n",
       "      <td>Windows 10 (10.0.18363; x64; AppX)</td>\n",
       "      <td>820</td>\n",
       "      <td>BR</td>\n",
       "      <td>191.163.23.34</td>\n",
       "      <td>unknown</td>\n",
       "      <td>Azrael</td>\n",
       "      <td>Marduk</td>\n",
       "      <td>La Grande Danse Macabre</td>\n",
       "      <td>...</td>\n",
       "      <td>None</td>\n",
       "      <td>None</td>\n",
       "      <td>None</td>\n",
       "      <td>clickrow</td>\n",
       "      <td>fwdbtn</td>\n",
       "      <td>True</td>\n",
       "      <td>NaN</td>\n",
       "      <td>False</td>\n",
       "      <td>1602346116852</td>\n",
       "      <td>False</td>\n",
       "    </tr>\n",
       "    <tr>\n",
       "      <th>1</th>\n",
       "      <td>2022-12-30T00:31:03Z</td>\n",
       "      <td>9uvq1zbwvtr3im22brbiwrrc5</td>\n",
       "      <td>ios</td>\n",
       "      <td>1532</td>\n",
       "      <td>BR</td>\n",
       "      <td>177.27.8.25</td>\n",
       "      <td>unknown</td>\n",
       "      <td>None</td>\n",
       "      <td>None</td>\n",
       "      <td>None</td>\n",
       "      <td>...</td>\n",
       "      <td>None</td>\n",
       "      <td>None</td>\n",
       "      <td>None</td>\n",
       "      <td>fwdbtn</td>\n",
       "      <td>fwdbtn</td>\n",
       "      <td>True</td>\n",
       "      <td>1.0</td>\n",
       "      <td>True</td>\n",
       "      <td>1672360262</td>\n",
       "      <td>False</td>\n",
       "    </tr>\n",
       "    <tr>\n",
       "      <th>2</th>\n",
       "      <td>2021-07-07T01:29:40Z</td>\n",
       "      <td>9uvq1zbwvtr3im22brbiwrrc5</td>\n",
       "      <td>Windows 10 (10.0.19042; x64; AppX)</td>\n",
       "      <td>0</td>\n",
       "      <td>BR</td>\n",
       "      <td>179.35.28.229</td>\n",
       "      <td>unknown</td>\n",
       "      <td>Seyn Todt in Schwarz</td>\n",
       "      <td>Belphegor</td>\n",
       "      <td>Pestapokalypse VI</td>\n",
       "      <td>...</td>\n",
       "      <td>None</td>\n",
       "      <td>None</td>\n",
       "      <td>None</td>\n",
       "      <td>fwdbtn</td>\n",
       "      <td>fwdbtn</td>\n",
       "      <td>True</td>\n",
       "      <td>NaN</td>\n",
       "      <td>False</td>\n",
       "      <td>1625621379855</td>\n",
       "      <td>False</td>\n",
       "    </tr>\n",
       "    <tr>\n",
       "      <th>3</th>\n",
       "      <td>2020-11-04T21:08:16Z</td>\n",
       "      <td>9uvq1zbwvtr3im22brbiwrrc5</td>\n",
       "      <td>Android OS 9 API 28 (motorola, moto g(6) play)</td>\n",
       "      <td>1214</td>\n",
       "      <td>BR</td>\n",
       "      <td>191.163.13.188</td>\n",
       "      <td>unknown</td>\n",
       "      <td>Question!</td>\n",
       "      <td>System Of A Down</td>\n",
       "      <td>Mezmerize</td>\n",
       "      <td>...</td>\n",
       "      <td>None</td>\n",
       "      <td>None</td>\n",
       "      <td>None</td>\n",
       "      <td>fwdbtn</td>\n",
       "      <td>fwdbtn</td>\n",
       "      <td>True</td>\n",
       "      <td>NaN</td>\n",
       "      <td>False</td>\n",
       "      <td>1604524093445</td>\n",
       "      <td>False</td>\n",
       "    </tr>\n",
       "    <tr>\n",
       "      <th>4</th>\n",
       "      <td>2019-01-09T02:05:24Z</td>\n",
       "      <td>9uvq1zbwvtr3im22brbiwrrc5</td>\n",
       "      <td>Android OS 8.0.0 API 26 (motorola, moto g(6) p...</td>\n",
       "      <td>1480</td>\n",
       "      <td>BR</td>\n",
       "      <td>179.35.51.67</td>\n",
       "      <td>unknown</td>\n",
       "      <td>Lips Of An Angel</td>\n",
       "      <td>Hinder</td>\n",
       "      <td>Extreme Behavior</td>\n",
       "      <td>...</td>\n",
       "      <td>None</td>\n",
       "      <td>None</td>\n",
       "      <td>None</td>\n",
       "      <td>fwdbtn</td>\n",
       "      <td>fwdbtn</td>\n",
       "      <td>True</td>\n",
       "      <td>NaN</td>\n",
       "      <td>True</td>\n",
       "      <td>1546957479937</td>\n",
       "      <td>False</td>\n",
       "    </tr>\n",
       "  </tbody>\n",
       "</table>\n",
       "<p>5 rows × 21 columns</p>\n",
       "</div>"
      ],
      "text/plain": [
       "                     ts                   username  \\\n",
       "0  2020-10-10T16:08:37Z  9uvq1zbwvtr3im22brbiwrrc5   \n",
       "1  2022-12-30T00:31:03Z  9uvq1zbwvtr3im22brbiwrrc5   \n",
       "2  2021-07-07T01:29:40Z  9uvq1zbwvtr3im22brbiwrrc5   \n",
       "3  2020-11-04T21:08:16Z  9uvq1zbwvtr3im22brbiwrrc5   \n",
       "4  2019-01-09T02:05:24Z  9uvq1zbwvtr3im22brbiwrrc5   \n",
       "\n",
       "                                            platform  ms_played conn_country  \\\n",
       "0                 Windows 10 (10.0.18363; x64; AppX)        820           BR   \n",
       "1                                                ios       1532           BR   \n",
       "2                 Windows 10 (10.0.19042; x64; AppX)          0           BR   \n",
       "3     Android OS 9 API 28 (motorola, moto g(6) play)       1214           BR   \n",
       "4  Android OS 8.0.0 API 26 (motorola, moto g(6) p...       1480           BR   \n",
       "\n",
       "  ip_addr_decrypted user_agent_decrypted master_metadata_track_name  \\\n",
       "0     191.163.23.34              unknown                     Azrael   \n",
       "1       177.27.8.25              unknown                       None   \n",
       "2     179.35.28.229              unknown       Seyn Todt in Schwarz   \n",
       "3    191.163.13.188              unknown                  Question!   \n",
       "4      179.35.51.67              unknown           Lips Of An Angel   \n",
       "\n",
       "  master_metadata_album_artist_name master_metadata_album_album_name  ...  \\\n",
       "0                            Marduk          La Grande Danse Macabre  ...   \n",
       "1                              None                             None  ...   \n",
       "2                         Belphegor                Pestapokalypse VI  ...   \n",
       "3                  System Of A Down                        Mezmerize  ...   \n",
       "4                            Hinder                 Extreme Behavior  ...   \n",
       "\n",
       "  episode_name episode_show_name spotify_episode_uri reason_start reason_end  \\\n",
       "0         None              None                None     clickrow     fwdbtn   \n",
       "1         None              None                None       fwdbtn     fwdbtn   \n",
       "2         None              None                None       fwdbtn     fwdbtn   \n",
       "3         None              None                None       fwdbtn     fwdbtn   \n",
       "4         None              None                None       fwdbtn     fwdbtn   \n",
       "\n",
       "  shuffle  skipped  offline  offline_timestamp  incognito_mode  \n",
       "0    True      NaN    False      1602346116852           False  \n",
       "1    True      1.0     True         1672360262           False  \n",
       "2    True      NaN    False      1625621379855           False  \n",
       "3    True      NaN    False      1604524093445           False  \n",
       "4    True      NaN     True      1546957479937           False  \n",
       "\n",
       "[5 rows x 21 columns]"
      ]
     },
     "execution_count": 4,
     "metadata": {},
     "output_type": "execute_result"
    }
   ],
   "source": [
    "df.head()"
   ]
  },
  {
   "cell_type": "markdown",
   "metadata": {},
   "source": [
    "The explanation of each field is in the file \"ReadMeFirst_ExtendedStreamingHistory.pdf\" in the same directory"
   ]
  },
  {
   "cell_type": "markdown",
   "metadata": {},
   "source": [
    "#### "
   ]
  },
  {
   "cell_type": "markdown",
   "metadata": {},
   "source": [
    "#### 1.2 Cleaning the Data"
   ]
  },
  {
   "cell_type": "markdown",
   "metadata": {},
   "source": [
    "Removing the useless columns and keeping only the ones related directly to streaming of songs and the ones useful for my analysis"
   ]
  },
  {
   "cell_type": "code",
   "execution_count": 5,
   "metadata": {},
   "outputs": [
    {
     "data": {
      "text/html": [
       "<div>\n",
       "<style scoped>\n",
       "    .dataframe tbody tr th:only-of-type {\n",
       "        vertical-align: middle;\n",
       "    }\n",
       "\n",
       "    .dataframe tbody tr th {\n",
       "        vertical-align: top;\n",
       "    }\n",
       "\n",
       "    .dataframe thead th {\n",
       "        text-align: right;\n",
       "    }\n",
       "</style>\n",
       "<table border=\"1\" class=\"dataframe\">\n",
       "  <thead>\n",
       "    <tr style=\"text-align: right;\">\n",
       "      <th></th>\n",
       "      <th>ts</th>\n",
       "      <th>ms_played</th>\n",
       "      <th>master_metadata_track_name</th>\n",
       "      <th>master_metadata_album_artist_name</th>\n",
       "      <th>master_metadata_album_album_name</th>\n",
       "    </tr>\n",
       "  </thead>\n",
       "  <tbody>\n",
       "    <tr>\n",
       "      <th>0</th>\n",
       "      <td>2020-10-10T16:08:37Z</td>\n",
       "      <td>820</td>\n",
       "      <td>Azrael</td>\n",
       "      <td>Marduk</td>\n",
       "      <td>La Grande Danse Macabre</td>\n",
       "    </tr>\n",
       "    <tr>\n",
       "      <th>1</th>\n",
       "      <td>2022-12-30T00:31:03Z</td>\n",
       "      <td>1532</td>\n",
       "      <td>None</td>\n",
       "      <td>None</td>\n",
       "      <td>None</td>\n",
       "    </tr>\n",
       "    <tr>\n",
       "      <th>2</th>\n",
       "      <td>2021-07-07T01:29:40Z</td>\n",
       "      <td>0</td>\n",
       "      <td>Seyn Todt in Schwarz</td>\n",
       "      <td>Belphegor</td>\n",
       "      <td>Pestapokalypse VI</td>\n",
       "    </tr>\n",
       "    <tr>\n",
       "      <th>3</th>\n",
       "      <td>2020-11-04T21:08:16Z</td>\n",
       "      <td>1214</td>\n",
       "      <td>Question!</td>\n",
       "      <td>System Of A Down</td>\n",
       "      <td>Mezmerize</td>\n",
       "    </tr>\n",
       "    <tr>\n",
       "      <th>4</th>\n",
       "      <td>2019-01-09T02:05:24Z</td>\n",
       "      <td>1480</td>\n",
       "      <td>Lips Of An Angel</td>\n",
       "      <td>Hinder</td>\n",
       "      <td>Extreme Behavior</td>\n",
       "    </tr>\n",
       "  </tbody>\n",
       "</table>\n",
       "</div>"
      ],
      "text/plain": [
       "                     ts  ms_played master_metadata_track_name  \\\n",
       "0  2020-10-10T16:08:37Z        820                     Azrael   \n",
       "1  2022-12-30T00:31:03Z       1532                       None   \n",
       "2  2021-07-07T01:29:40Z          0       Seyn Todt in Schwarz   \n",
       "3  2020-11-04T21:08:16Z       1214                  Question!   \n",
       "4  2019-01-09T02:05:24Z       1480           Lips Of An Angel   \n",
       "\n",
       "  master_metadata_album_artist_name master_metadata_album_album_name  \n",
       "0                            Marduk          La Grande Danse Macabre  \n",
       "1                              None                             None  \n",
       "2                         Belphegor                Pestapokalypse VI  \n",
       "3                  System Of A Down                        Mezmerize  \n",
       "4                            Hinder                 Extreme Behavior  "
      ]
     },
     "execution_count": 5,
     "metadata": {},
     "output_type": "execute_result"
    }
   ],
   "source": [
    "df = df.drop(columns = ['username','platform','conn_country','ip_addr_decrypted','user_agent_decrypted','spotify_track_uri',\n",
    "'spotify_episode_uri','reason_start','reason_end','shuffle','skipped','offline','offline_timestamp','incognito_mode','episode_name','episode_show_name'])\n",
    "df.head()"
   ]
  },
  {
   "cell_type": "code",
   "execution_count": 6,
   "metadata": {},
   "outputs": [
    {
     "data": {
      "text/html": [
       "<div>\n",
       "<style scoped>\n",
       "    .dataframe tbody tr th:only-of-type {\n",
       "        vertical-align: middle;\n",
       "    }\n",
       "\n",
       "    .dataframe tbody tr th {\n",
       "        vertical-align: top;\n",
       "    }\n",
       "\n",
       "    .dataframe thead th {\n",
       "        text-align: right;\n",
       "    }\n",
       "</style>\n",
       "<table border=\"1\" class=\"dataframe\">\n",
       "  <thead>\n",
       "    <tr style=\"text-align: right;\">\n",
       "      <th></th>\n",
       "      <th>ts</th>\n",
       "      <th>ms_played</th>\n",
       "      <th>master_metadata_track_name</th>\n",
       "      <th>master_metadata_album_artist_name</th>\n",
       "      <th>master_metadata_album_album_name</th>\n",
       "    </tr>\n",
       "  </thead>\n",
       "  <tbody>\n",
       "    <tr>\n",
       "      <th>9844</th>\n",
       "      <td>2018-11-01T17:12:41Z</td>\n",
       "      <td>2117</td>\n",
       "      <td>Spirit Crusher</td>\n",
       "      <td>Death</td>\n",
       "      <td>The Sound of Perserverence (Deluxe Version)</td>\n",
       "    </tr>\n",
       "    <tr>\n",
       "      <th>10211</th>\n",
       "      <td>2018-11-01T17:15:34Z</td>\n",
       "      <td>10075</td>\n",
       "      <td>Scavenger of Human Sorrow</td>\n",
       "      <td>Death</td>\n",
       "      <td>The Sound of Perserverence (Deluxe Version)</td>\n",
       "    </tr>\n",
       "    <tr>\n",
       "      <th>12192</th>\n",
       "      <td>2018-11-01T17:15:34Z</td>\n",
       "      <td>10075</td>\n",
       "      <td>Scavenger of Human Sorrow</td>\n",
       "      <td>Death</td>\n",
       "      <td>The Sound of Perserverence (Deluxe Version)</td>\n",
       "    </tr>\n",
       "    <tr>\n",
       "      <th>4803</th>\n",
       "      <td>2018-11-01T17:15:37Z</td>\n",
       "      <td>1949</td>\n",
       "      <td>Flesh and the Power It Holds</td>\n",
       "      <td>Death</td>\n",
       "      <td>The Sound of Perserverence (Deluxe Version)</td>\n",
       "    </tr>\n",
       "    <tr>\n",
       "      <th>10255</th>\n",
       "      <td>2018-11-01T17:15:37Z</td>\n",
       "      <td>1949</td>\n",
       "      <td>Flesh and the Power It Holds</td>\n",
       "      <td>Death</td>\n",
       "      <td>The Sound of Perserverence (Deluxe Version)</td>\n",
       "    </tr>\n",
       "  </tbody>\n",
       "</table>\n",
       "</div>"
      ],
      "text/plain": [
       "                         ts  ms_played    master_metadata_track_name  \\\n",
       "9844   2018-11-01T17:12:41Z       2117                Spirit Crusher   \n",
       "10211  2018-11-01T17:15:34Z      10075     Scavenger of Human Sorrow   \n",
       "12192  2018-11-01T17:15:34Z      10075     Scavenger of Human Sorrow   \n",
       "4803   2018-11-01T17:15:37Z       1949  Flesh and the Power It Holds   \n",
       "10255  2018-11-01T17:15:37Z       1949  Flesh and the Power It Holds   \n",
       "\n",
       "      master_metadata_album_artist_name  \\\n",
       "9844                              Death   \n",
       "10211                             Death   \n",
       "12192                             Death   \n",
       "4803                              Death   \n",
       "10255                             Death   \n",
       "\n",
       "                  master_metadata_album_album_name  \n",
       "9844   The Sound of Perserverence (Deluxe Version)  \n",
       "10211  The Sound of Perserverence (Deluxe Version)  \n",
       "12192  The Sound of Perserverence (Deluxe Version)  \n",
       "4803   The Sound of Perserverence (Deluxe Version)  \n",
       "10255  The Sound of Perserverence (Deluxe Version)  "
      ]
     },
     "execution_count": 6,
     "metadata": {},
     "output_type": "execute_result"
    }
   ],
   "source": [
    "df = df.sort_values(by='ts', ascending = True)\n",
    "df.head(5)"
   ]
  },
  {
   "cell_type": "code",
   "execution_count": 7,
   "metadata": {},
   "outputs": [
    {
     "data": {
      "text/plain": [
       "(222083, 5)"
      ]
     },
     "execution_count": 7,
     "metadata": {},
     "output_type": "execute_result"
    }
   ],
   "source": [
    "df.shape"
   ]
  },
  {
   "cell_type": "markdown",
   "metadata": {},
   "source": [
    "After ordering by Date, I realized duplicated values, so I removed them using the columns 'ts' and 'ms_played'"
   ]
  },
  {
   "cell_type": "code",
   "execution_count": 8,
   "metadata": {},
   "outputs": [],
   "source": [
    "df = df.drop_duplicates(subset=['ts','ms_played'], keep='last')"
   ]
  },
  {
   "cell_type": "code",
   "execution_count": 9,
   "metadata": {},
   "outputs": [
    {
     "data": {
      "text/plain": [
       "(216665, 5)"
      ]
     },
     "execution_count": 9,
     "metadata": {},
     "output_type": "execute_result"
    }
   ],
   "source": [
    "df.shape"
   ]
  },
  {
   "cell_type": "markdown",
   "metadata": {},
   "source": [
    "Checking and removing null values, which happen with the fields: 'master_metadata_track_name', 'master_metadata_album_artist_name' and 'master_metadata_album_album_name'"
   ]
  },
  {
   "cell_type": "code",
   "execution_count": 10,
   "metadata": {},
   "outputs": [
    {
     "data": {
      "text/plain": [
       "ts                                       0\n",
       "ms_played                                0\n",
       "master_metadata_track_name           17557\n",
       "master_metadata_album_artist_name    17557\n",
       "master_metadata_album_album_name     17557\n",
       "dtype: int64"
      ]
     },
     "execution_count": 10,
     "metadata": {},
     "output_type": "execute_result"
    }
   ],
   "source": [
    "df.isnull().sum()"
   ]
  },
  {
   "cell_type": "code",
   "execution_count": 11,
   "metadata": {},
   "outputs": [
    {
     "data": {
      "text/plain": [
       "(199108, 5)"
      ]
     },
     "execution_count": 11,
     "metadata": {},
     "output_type": "execute_result"
    }
   ],
   "source": [
    "df = df.dropna()\n",
    "df.shape"
   ]
  },
  {
   "cell_type": "code",
   "execution_count": 12,
   "metadata": {},
   "outputs": [
    {
     "data": {
      "text/plain": [
       "ts                                   0\n",
       "ms_played                            0\n",
       "master_metadata_track_name           0\n",
       "master_metadata_album_artist_name    0\n",
       "master_metadata_album_album_name     0\n",
       "dtype: int64"
      ]
     },
     "execution_count": 12,
     "metadata": {},
     "output_type": "execute_result"
    }
   ],
   "source": [
    "df.isnull().sum()"
   ]
  },
  {
   "cell_type": "markdown",
   "metadata": {},
   "source": [
    "Converting the column 'ts', which is a timestamp, in a datetime. Then I Exctracted Date, Time, Hour, Month_Year, Year and put them in different columns in the end of the DataFrame"
   ]
  },
  {
   "cell_type": "code",
   "execution_count": 13,
   "metadata": {},
   "outputs": [
    {
     "name": "stderr",
     "output_type": "stream",
     "text": [
      "C:\\Users\\Alfred\\AppData\\Local\\Temp\\ipykernel_22876\\1113629016.py:5: UserWarning: Converting to PeriodArray/Index representation will drop timezone information.\n",
      "  df['Month_Year'] = df['ts'].dt.to_period('M')\n",
      "C:\\Users\\Alfred\\AppData\\Local\\Temp\\ipykernel_22876\\1113629016.py:6: UserWarning: Converting to PeriodArray/Index representation will drop timezone information.\n",
      "  df['Year'] = df['ts'].dt.to_period('Y')\n"
     ]
    },
    {
     "data": {
      "text/html": [
       "<div>\n",
       "<style scoped>\n",
       "    .dataframe tbody tr th:only-of-type {\n",
       "        vertical-align: middle;\n",
       "    }\n",
       "\n",
       "    .dataframe tbody tr th {\n",
       "        vertical-align: top;\n",
       "    }\n",
       "\n",
       "    .dataframe thead th {\n",
       "        text-align: right;\n",
       "    }\n",
       "</style>\n",
       "<table border=\"1\" class=\"dataframe\">\n",
       "  <thead>\n",
       "    <tr style=\"text-align: right;\">\n",
       "      <th></th>\n",
       "      <th>ts</th>\n",
       "      <th>ms_played</th>\n",
       "      <th>master_metadata_track_name</th>\n",
       "      <th>master_metadata_album_artist_name</th>\n",
       "      <th>master_metadata_album_album_name</th>\n",
       "      <th>Date</th>\n",
       "      <th>Time</th>\n",
       "      <th>Hour</th>\n",
       "      <th>Month_Year</th>\n",
       "      <th>Year</th>\n",
       "    </tr>\n",
       "  </thead>\n",
       "  <tbody>\n",
       "    <tr>\n",
       "      <th>9844</th>\n",
       "      <td>2018-11-01 17:12:41+00:00</td>\n",
       "      <td>2117</td>\n",
       "      <td>Spirit Crusher</td>\n",
       "      <td>Death</td>\n",
       "      <td>The Sound of Perserverence (Deluxe Version)</td>\n",
       "      <td>2018-11-01</td>\n",
       "      <td>17:12:41</td>\n",
       "      <td>17</td>\n",
       "      <td>2018-11</td>\n",
       "      <td>2018</td>\n",
       "    </tr>\n",
       "    <tr>\n",
       "      <th>12192</th>\n",
       "      <td>2018-11-01 17:15:34+00:00</td>\n",
       "      <td>10075</td>\n",
       "      <td>Scavenger of Human Sorrow</td>\n",
       "      <td>Death</td>\n",
       "      <td>The Sound of Perserverence (Deluxe Version)</td>\n",
       "      <td>2018-11-01</td>\n",
       "      <td>17:15:34</td>\n",
       "      <td>17</td>\n",
       "      <td>2018-11</td>\n",
       "      <td>2018</td>\n",
       "    </tr>\n",
       "    <tr>\n",
       "      <th>10255</th>\n",
       "      <td>2018-11-01 17:15:37+00:00</td>\n",
       "      <td>1949</td>\n",
       "      <td>Flesh and the Power It Holds</td>\n",
       "      <td>Death</td>\n",
       "      <td>The Sound of Perserverence (Deluxe Version)</td>\n",
       "      <td>2018-11-01</td>\n",
       "      <td>17:15:37</td>\n",
       "      <td>17</td>\n",
       "      <td>2018-11</td>\n",
       "      <td>2018</td>\n",
       "    </tr>\n",
       "    <tr>\n",
       "      <th>5367</th>\n",
       "      <td>2018-11-01 17:22:15+00:00</td>\n",
       "      <td>394810</td>\n",
       "      <td>Story to Tell</td>\n",
       "      <td>Death</td>\n",
       "      <td>The Sound of Perserverence (Deluxe Version)</td>\n",
       "      <td>2018-11-01</td>\n",
       "      <td>17:22:15</td>\n",
       "      <td>17</td>\n",
       "      <td>2018-11</td>\n",
       "      <td>2018</td>\n",
       "    </tr>\n",
       "    <tr>\n",
       "      <th>2630</th>\n",
       "      <td>2018-11-01 17:30:42+00:00</td>\n",
       "      <td>506759</td>\n",
       "      <td>Flesh and the Power It Holds</td>\n",
       "      <td>Death</td>\n",
       "      <td>The Sound of Perserverence (Deluxe Version)</td>\n",
       "      <td>2018-11-01</td>\n",
       "      <td>17:30:42</td>\n",
       "      <td>17</td>\n",
       "      <td>2018-11</td>\n",
       "      <td>2018</td>\n",
       "    </tr>\n",
       "  </tbody>\n",
       "</table>\n",
       "</div>"
      ],
      "text/plain": [
       "                             ts  ms_played    master_metadata_track_name  \\\n",
       "9844  2018-11-01 17:12:41+00:00       2117                Spirit Crusher   \n",
       "12192 2018-11-01 17:15:34+00:00      10075     Scavenger of Human Sorrow   \n",
       "10255 2018-11-01 17:15:37+00:00       1949  Flesh and the Power It Holds   \n",
       "5367  2018-11-01 17:22:15+00:00     394810                 Story to Tell   \n",
       "2630  2018-11-01 17:30:42+00:00     506759  Flesh and the Power It Holds   \n",
       "\n",
       "      master_metadata_album_artist_name  \\\n",
       "9844                              Death   \n",
       "12192                             Death   \n",
       "10255                             Death   \n",
       "5367                              Death   \n",
       "2630                              Death   \n",
       "\n",
       "                  master_metadata_album_album_name        Date      Time  \\\n",
       "9844   The Sound of Perserverence (Deluxe Version)  2018-11-01  17:12:41   \n",
       "12192  The Sound of Perserverence (Deluxe Version)  2018-11-01  17:15:34   \n",
       "10255  The Sound of Perserverence (Deluxe Version)  2018-11-01  17:15:37   \n",
       "5367   The Sound of Perserverence (Deluxe Version)  2018-11-01  17:22:15   \n",
       "2630   The Sound of Perserverence (Deluxe Version)  2018-11-01  17:30:42   \n",
       "\n",
       "       Hour Month_Year  Year  \n",
       "9844     17    2018-11  2018  \n",
       "12192    17    2018-11  2018  \n",
       "10255    17    2018-11  2018  \n",
       "5367     17    2018-11  2018  \n",
       "2630     17    2018-11  2018  "
      ]
     },
     "execution_count": 13,
     "metadata": {},
     "output_type": "execute_result"
    }
   ],
   "source": [
    "df['ts'] = pd.to_datetime(df['ts'])\n",
    "df['Date'] = df['ts'].dt.date\n",
    "df['Time'] = df['ts'].dt.time\n",
    "df['Hour'] = df['ts'].dt.hour\n",
    "df['Month_Year'] = df['ts'].dt.to_period('M')\n",
    "df['Year'] = df['ts'].dt.to_period('Y')\n",
    "\n",
    "df.head()\n"
   ]
  },
  {
   "cell_type": "markdown",
   "metadata": {},
   "source": [
    "Converting miliseconds to minutes and giving the column a proper name"
   ]
  },
  {
   "cell_type": "code",
   "execution_count": 14,
   "metadata": {},
   "outputs": [
    {
     "data": {
      "text/html": [
       "<div>\n",
       "<style scoped>\n",
       "    .dataframe tbody tr th:only-of-type {\n",
       "        vertical-align: middle;\n",
       "    }\n",
       "\n",
       "    .dataframe tbody tr th {\n",
       "        vertical-align: top;\n",
       "    }\n",
       "\n",
       "    .dataframe thead th {\n",
       "        text-align: right;\n",
       "    }\n",
       "</style>\n",
       "<table border=\"1\" class=\"dataframe\">\n",
       "  <thead>\n",
       "    <tr style=\"text-align: right;\">\n",
       "      <th></th>\n",
       "      <th>ts</th>\n",
       "      <th>minutes_played</th>\n",
       "      <th>master_metadata_track_name</th>\n",
       "      <th>master_metadata_album_artist_name</th>\n",
       "      <th>master_metadata_album_album_name</th>\n",
       "      <th>Date</th>\n",
       "      <th>Time</th>\n",
       "      <th>Hour</th>\n",
       "      <th>Month_Year</th>\n",
       "      <th>Year</th>\n",
       "    </tr>\n",
       "  </thead>\n",
       "  <tbody>\n",
       "    <tr>\n",
       "      <th>9844</th>\n",
       "      <td>2018-11-01 17:12:41+00:00</td>\n",
       "      <td>0.035283</td>\n",
       "      <td>Spirit Crusher</td>\n",
       "      <td>Death</td>\n",
       "      <td>The Sound of Perserverence (Deluxe Version)</td>\n",
       "      <td>2018-11-01</td>\n",
       "      <td>17:12:41</td>\n",
       "      <td>17</td>\n",
       "      <td>2018-11</td>\n",
       "      <td>2018</td>\n",
       "    </tr>\n",
       "    <tr>\n",
       "      <th>12192</th>\n",
       "      <td>2018-11-01 17:15:34+00:00</td>\n",
       "      <td>0.167917</td>\n",
       "      <td>Scavenger of Human Sorrow</td>\n",
       "      <td>Death</td>\n",
       "      <td>The Sound of Perserverence (Deluxe Version)</td>\n",
       "      <td>2018-11-01</td>\n",
       "      <td>17:15:34</td>\n",
       "      <td>17</td>\n",
       "      <td>2018-11</td>\n",
       "      <td>2018</td>\n",
       "    </tr>\n",
       "    <tr>\n",
       "      <th>10255</th>\n",
       "      <td>2018-11-01 17:15:37+00:00</td>\n",
       "      <td>0.032483</td>\n",
       "      <td>Flesh and the Power It Holds</td>\n",
       "      <td>Death</td>\n",
       "      <td>The Sound of Perserverence (Deluxe Version)</td>\n",
       "      <td>2018-11-01</td>\n",
       "      <td>17:15:37</td>\n",
       "      <td>17</td>\n",
       "      <td>2018-11</td>\n",
       "      <td>2018</td>\n",
       "    </tr>\n",
       "    <tr>\n",
       "      <th>5367</th>\n",
       "      <td>2018-11-01 17:22:15+00:00</td>\n",
       "      <td>6.580167</td>\n",
       "      <td>Story to Tell</td>\n",
       "      <td>Death</td>\n",
       "      <td>The Sound of Perserverence (Deluxe Version)</td>\n",
       "      <td>2018-11-01</td>\n",
       "      <td>17:22:15</td>\n",
       "      <td>17</td>\n",
       "      <td>2018-11</td>\n",
       "      <td>2018</td>\n",
       "    </tr>\n",
       "    <tr>\n",
       "      <th>2630</th>\n",
       "      <td>2018-11-01 17:30:42+00:00</td>\n",
       "      <td>8.445983</td>\n",
       "      <td>Flesh and the Power It Holds</td>\n",
       "      <td>Death</td>\n",
       "      <td>The Sound of Perserverence (Deluxe Version)</td>\n",
       "      <td>2018-11-01</td>\n",
       "      <td>17:30:42</td>\n",
       "      <td>17</td>\n",
       "      <td>2018-11</td>\n",
       "      <td>2018</td>\n",
       "    </tr>\n",
       "  </tbody>\n",
       "</table>\n",
       "</div>"
      ],
      "text/plain": [
       "                             ts  minutes_played    master_metadata_track_name  \\\n",
       "9844  2018-11-01 17:12:41+00:00        0.035283                Spirit Crusher   \n",
       "12192 2018-11-01 17:15:34+00:00        0.167917     Scavenger of Human Sorrow   \n",
       "10255 2018-11-01 17:15:37+00:00        0.032483  Flesh and the Power It Holds   \n",
       "5367  2018-11-01 17:22:15+00:00        6.580167                 Story to Tell   \n",
       "2630  2018-11-01 17:30:42+00:00        8.445983  Flesh and the Power It Holds   \n",
       "\n",
       "      master_metadata_album_artist_name  \\\n",
       "9844                              Death   \n",
       "12192                             Death   \n",
       "10255                             Death   \n",
       "5367                              Death   \n",
       "2630                              Death   \n",
       "\n",
       "                  master_metadata_album_album_name        Date      Time  \\\n",
       "9844   The Sound of Perserverence (Deluxe Version)  2018-11-01  17:12:41   \n",
       "12192  The Sound of Perserverence (Deluxe Version)  2018-11-01  17:15:34   \n",
       "10255  The Sound of Perserverence (Deluxe Version)  2018-11-01  17:15:37   \n",
       "5367   The Sound of Perserverence (Deluxe Version)  2018-11-01  17:22:15   \n",
       "2630   The Sound of Perserverence (Deluxe Version)  2018-11-01  17:30:42   \n",
       "\n",
       "       Hour Month_Year  Year  \n",
       "9844     17    2018-11  2018  \n",
       "12192    17    2018-11  2018  \n",
       "10255    17    2018-11  2018  \n",
       "5367     17    2018-11  2018  \n",
       "2630     17    2018-11  2018  "
      ]
     },
     "execution_count": 14,
     "metadata": {},
     "output_type": "execute_result"
    }
   ],
   "source": [
    "df['ms_played'] = df['ms_played']/60000\n",
    "df.rename(columns={'ms_played':'minutes_played'}, inplace = True)\n",
    "df.head()"
   ]
  },
  {
   "cell_type": "markdown",
   "metadata": {},
   "source": [
    "#### "
   ]
  },
  {
   "cell_type": "markdown",
   "metadata": {},
   "source": [
    "### 2. Analyzing"
   ]
  },
  {
   "cell_type": "code",
   "execution_count": 15,
   "metadata": {},
   "outputs": [
    {
     "name": "stdout",
     "output_type": "stream",
     "text": [
      "The Range of the DataFrame is between 2018-11-01  and  2022-10-14\n"
     ]
    }
   ],
   "source": [
    "# Where the DataFrame Begins\n",
    "first_date = df['Date'].iloc[0]\n",
    "# Where it Ends\n",
    "last_date = df['Date'].iloc[-1]\n",
    "\n",
    "print(\"The Range of the DataFrame is between \"+str(first_date)+\"  and  \"+str(last_date))"
   ]
  },
  {
   "cell_type": "markdown",
   "metadata": {},
   "source": [
    "#### 2.1 Plotting Minutes Played per Month"
   ]
  },
  {
   "cell_type": "markdown",
   "metadata": {},
   "source": [
    "Creating a DataFrame having the total amount of minutes played by Month_Year"
   ]
  },
  {
   "cell_type": "code",
   "execution_count": 16,
   "metadata": {},
   "outputs": [
    {
     "name": "stderr",
     "output_type": "stream",
     "text": [
      "C:\\Users\\Alfred\\AppData\\Local\\Temp\\ipykernel_22876\\1189587434.py:1: FutureWarning: The default value of numeric_only in DataFrameGroupBy.sum is deprecated. In a future version, numeric_only will default to False. Either specify numeric_only or select only columns which should be valid for the function.\n",
      "  minutes_per_month = df.groupby('Month_Year', as_index=False).sum().round(0)\n"
     ]
    },
    {
     "data": {
      "text/html": [
       "<div>\n",
       "<style scoped>\n",
       "    .dataframe tbody tr th:only-of-type {\n",
       "        vertical-align: middle;\n",
       "    }\n",
       "\n",
       "    .dataframe tbody tr th {\n",
       "        vertical-align: top;\n",
       "    }\n",
       "\n",
       "    .dataframe thead th {\n",
       "        text-align: right;\n",
       "    }\n",
       "</style>\n",
       "<table border=\"1\" class=\"dataframe\">\n",
       "  <thead>\n",
       "    <tr style=\"text-align: right;\">\n",
       "      <th></th>\n",
       "      <th>Month_Year</th>\n",
       "      <th>minutes_played</th>\n",
       "      <th>Hour</th>\n",
       "    </tr>\n",
       "  </thead>\n",
       "  <tbody>\n",
       "    <tr>\n",
       "      <th>0</th>\n",
       "      <td>2018-11</td>\n",
       "      <td>3521.0</td>\n",
       "      <td>26732</td>\n",
       "    </tr>\n",
       "    <tr>\n",
       "      <th>1</th>\n",
       "      <td>2018-12</td>\n",
       "      <td>4256.0</td>\n",
       "      <td>32289</td>\n",
       "    </tr>\n",
       "    <tr>\n",
       "      <th>2</th>\n",
       "      <td>2019-01</td>\n",
       "      <td>5431.0</td>\n",
       "      <td>34774</td>\n",
       "    </tr>\n",
       "    <tr>\n",
       "      <th>3</th>\n",
       "      <td>2019-02</td>\n",
       "      <td>4030.0</td>\n",
       "      <td>24371</td>\n",
       "    </tr>\n",
       "    <tr>\n",
       "      <th>4</th>\n",
       "      <td>2019-03</td>\n",
       "      <td>3086.0</td>\n",
       "      <td>17015</td>\n",
       "    </tr>\n",
       "  </tbody>\n",
       "</table>\n",
       "</div>"
      ],
      "text/plain": [
       "  Month_Year  minutes_played   Hour\n",
       "0    2018-11          3521.0  26732\n",
       "1    2018-12          4256.0  32289\n",
       "2    2019-01          5431.0  34774\n",
       "3    2019-02          4030.0  24371\n",
       "4    2019-03          3086.0  17015"
      ]
     },
     "execution_count": 16,
     "metadata": {},
     "output_type": "execute_result"
    }
   ],
   "source": [
    "minutes_per_month = df.groupby('Month_Year', as_index=False).sum().round(0)\n",
    "minutes_per_month.head()"
   ]
  },
  {
   "cell_type": "markdown",
   "metadata": {},
   "source": [
    "The month 2022-10 is not complete in the DataFrame, so I'm gonna drop it to analyze the months correctly"
   ]
  },
  {
   "cell_type": "code",
   "execution_count": 17,
   "metadata": {},
   "outputs": [],
   "source": [
    "minutes_per_month = minutes_per_month.drop([47])"
   ]
  },
  {
   "cell_type": "code",
   "execution_count": 18,
   "metadata": {},
   "outputs": [
    {
     "data": {
      "text/plain": [
       "[<matplotlib.lines.Line2D at 0x1eb7d404410>]"
      ]
     },
     "execution_count": 18,
     "metadata": {},
     "output_type": "execute_result"
    },
    {
     "data": {
      "image/png": "[encoded data removed]",
      "text/plain": [
       "<Figure size 1500x400 with 1 Axes>"
      ]
     },
     "metadata": {},
     "output_type": "display_data"
    }
   ],
   "source": [
    "plt.figure(figsize=(15,4))\n",
    "plt.title('Minutes played by Month_Year')\n",
    "plt.xlabel('Months')\n",
    "plt.ylabel('Minutes')\n",
    "plt.xticks(rotation = 45)\n",
    "plt.plot_date(minutes_per_month['Month_Year'], minutes_per_month['minutes_played'], linestyle='-', color='#1DB954')"
   ]
  },
  {
   "cell_type": "markdown",
   "metadata": {},
   "source": [
    "#### "
   ]
  },
  {
   "cell_type": "markdown",
   "metadata": {},
   "source": [
    "#### 2.2 Analyzing how much time I spent listening to music in a year"
   ]
  },
  {
   "cell_type": "markdown",
   "metadata": {},
   "source": [
    "Creating a DataFrame with the total amount of minutes listening to music by year"
   ]
  },
  {
   "cell_type": "code",
   "execution_count": 19,
   "metadata": {},
   "outputs": [
    {
     "name": "stderr",
     "output_type": "stream",
     "text": [
      "C:\\Users\\Alfred\\AppData\\Local\\Temp\\ipykernel_22876\\10917114.py:1: FutureWarning: The default value of numeric_only in DataFrameGroupBy.sum is deprecated. In a future version, numeric_only will default to False. Either specify numeric_only or select only columns which should be valid for the function.\n",
      "  minutes_per_year = df.groupby('Year', as_index=False).sum().round(0)\n"
     ]
    },
    {
     "data": {
      "text/html": [
       "<div>\n",
       "<style scoped>\n",
       "    .dataframe tbody tr th:only-of-type {\n",
       "        vertical-align: middle;\n",
       "    }\n",
       "\n",
       "    .dataframe tbody tr th {\n",
       "        vertical-align: top;\n",
       "    }\n",
       "\n",
       "    .dataframe thead th {\n",
       "        text-align: right;\n",
       "    }\n",
       "</style>\n",
       "<table border=\"1\" class=\"dataframe\">\n",
       "  <thead>\n",
       "    <tr style=\"text-align: right;\">\n",
       "      <th></th>\n",
       "      <th>Year</th>\n",
       "      <th>minutes_played</th>\n",
       "      <th>Hour</th>\n",
       "    </tr>\n",
       "  </thead>\n",
       "  <tbody>\n",
       "    <tr>\n",
       "      <th>0</th>\n",
       "      <td>2018</td>\n",
       "      <td>7776.0</td>\n",
       "      <td>59021</td>\n",
       "    </tr>\n",
       "    <tr>\n",
       "      <th>1</th>\n",
       "      <td>2019</td>\n",
       "      <td>51409.0</td>\n",
       "      <td>353489</td>\n",
       "    </tr>\n",
       "    <tr>\n",
       "      <th>2</th>\n",
       "      <td>2020</td>\n",
       "      <td>57871.0</td>\n",
       "      <td>854004</td>\n",
       "    </tr>\n",
       "    <tr>\n",
       "      <th>3</th>\n",
       "      <td>2021</td>\n",
       "      <td>43824.0</td>\n",
       "      <td>821131</td>\n",
       "    </tr>\n",
       "    <tr>\n",
       "      <th>4</th>\n",
       "      <td>2022</td>\n",
       "      <td>34941.0</td>\n",
       "      <td>496890</td>\n",
       "    </tr>\n",
       "  </tbody>\n",
       "</table>\n",
       "</div>"
      ],
      "text/plain": [
       "   Year  minutes_played    Hour\n",
       "0  2018          7776.0   59021\n",
       "1  2019         51409.0  353489\n",
       "2  2020         57871.0  854004\n",
       "3  2021         43824.0  821131\n",
       "4  2022         34941.0  496890"
      ]
     },
     "execution_count": 19,
     "metadata": {},
     "output_type": "execute_result"
    }
   ],
   "source": [
    "minutes_per_year = df.groupby('Year', as_index=False).sum().round(0)\n",
    "minutes_per_year"
   ]
  },
  {
   "cell_type": "markdown",
   "metadata": {},
   "source": [
    "The years 2018 and 2022 are not complete in the DataFrame, so I will remove them for know"
   ]
  },
  {
   "cell_type": "code",
   "execution_count": 20,
   "metadata": {},
   "outputs": [],
   "source": [
    "minutes_per_year = minutes_per_year.loc[[1,2,3]]"
   ]
  },
  {
   "cell_type": "markdown",
   "metadata": {},
   "source": [
    "The total amount of minutes in a year is 525600, so I'm gonna check the percentage of time that I spent each year listening to music"
   ]
  },
  {
   "cell_type": "code",
   "execution_count": 21,
   "metadata": {},
   "outputs": [
    {
     "data": {
      "text/html": [
       "<div>\n",
       "<style scoped>\n",
       "    .dataframe tbody tr th:only-of-type {\n",
       "        vertical-align: middle;\n",
       "    }\n",
       "\n",
       "    .dataframe tbody tr th {\n",
       "        vertical-align: top;\n",
       "    }\n",
       "\n",
       "    .dataframe thead th {\n",
       "        text-align: right;\n",
       "    }\n",
       "</style>\n",
       "<table border=\"1\" class=\"dataframe\">\n",
       "  <thead>\n",
       "    <tr style=\"text-align: right;\">\n",
       "      <th></th>\n",
       "      <th>Year</th>\n",
       "      <th>minutes_played</th>\n",
       "      <th>Hour</th>\n",
       "      <th>minutes_year</th>\n",
       "      <th>%</th>\n",
       "    </tr>\n",
       "  </thead>\n",
       "  <tbody>\n",
       "    <tr>\n",
       "      <th>1</th>\n",
       "      <td>2019</td>\n",
       "      <td>51409.0</td>\n",
       "      <td>353489</td>\n",
       "      <td>525600</td>\n",
       "      <td>9.781012</td>\n",
       "    </tr>\n",
       "    <tr>\n",
       "      <th>2</th>\n",
       "      <td>2020</td>\n",
       "      <td>57871.0</td>\n",
       "      <td>854004</td>\n",
       "      <td>525600</td>\n",
       "      <td>11.010464</td>\n",
       "    </tr>\n",
       "    <tr>\n",
       "      <th>3</th>\n",
       "      <td>2021</td>\n",
       "      <td>43824.0</td>\n",
       "      <td>821131</td>\n",
       "      <td>525600</td>\n",
       "      <td>8.337900</td>\n",
       "    </tr>\n",
       "  </tbody>\n",
       "</table>\n",
       "</div>"
      ],
      "text/plain": [
       "   Year  minutes_played    Hour  minutes_year          %\n",
       "1  2019         51409.0  353489        525600   9.781012\n",
       "2  2020         57871.0  854004        525600  11.010464\n",
       "3  2021         43824.0  821131        525600   8.337900"
      ]
     },
     "execution_count": 21,
     "metadata": {},
     "output_type": "execute_result"
    }
   ],
   "source": [
    "minutes_per_year['minutes_year'] = 525600\n",
    "minutes_per_year['%'] = (minutes_per_year['minutes_played'] / minutes_per_year['minutes_year'])*100\n",
    "\n",
    "minutes_per_year"
   ]
  },
  {
   "cell_type": "markdown",
   "metadata": {},
   "source": [
    "Well, in 2020 I spent 11% of the year listening to music in spotify. This number is higher than other years due to pandemic and more free time"
   ]
  },
  {
   "cell_type": "markdown",
   "metadata": {},
   "source": [
    "#### "
   ]
  },
  {
   "cell_type": "markdown",
   "metadata": {},
   "source": [
    "#### 2.3 Most Listened Songs, Albums and Bands"
   ]
  },
  {
   "cell_type": "markdown",
   "metadata": {},
   "source": [
    "Most Listened Songs (Top 5)"
   ]
  },
  {
   "cell_type": "code",
   "execution_count": 22,
   "metadata": {},
   "outputs": [
    {
     "name": "stderr",
     "output_type": "stream",
     "text": [
      "C:\\Users\\Alfred\\AppData\\Local\\Temp\\ipykernel_22876\\525712312.py:1: FutureWarning: The default value of numeric_only in DataFrameGroupBy.sum is deprecated. In a future version, numeric_only will default to False. Either specify numeric_only or select only columns which should be valid for the function.\n",
      "  top_5_Songs = df.groupby('master_metadata_track_name', as_index=False).sum().round(0)\n"
     ]
    },
    {
     "data": {
      "text/html": [
       "<div>\n",
       "<style scoped>\n",
       "    .dataframe tbody tr th:only-of-type {\n",
       "        vertical-align: middle;\n",
       "    }\n",
       "\n",
       "    .dataframe tbody tr th {\n",
       "        vertical-align: top;\n",
       "    }\n",
       "\n",
       "    .dataframe thead th {\n",
       "        text-align: right;\n",
       "    }\n",
       "</style>\n",
       "<table border=\"1\" class=\"dataframe\">\n",
       "  <thead>\n",
       "    <tr style=\"text-align: right;\">\n",
       "      <th></th>\n",
       "      <th>master_metadata_track_name</th>\n",
       "      <th>minutes_played</th>\n",
       "    </tr>\n",
       "  </thead>\n",
       "  <tbody>\n",
       "    <tr>\n",
       "      <th>15711</th>\n",
       "      <td>Yekteniya VI</td>\n",
       "      <td>669.0</td>\n",
       "    </tr>\n",
       "    <tr>\n",
       "      <th>3614</th>\n",
       "      <td>Desperate Cry - 2018 Remaster</td>\n",
       "      <td>595.0</td>\n",
       "    </tr>\n",
       "    <tr>\n",
       "      <th>3081</th>\n",
       "      <td>Cursed in Eternity</td>\n",
       "      <td>591.0</td>\n",
       "    </tr>\n",
       "    <tr>\n",
       "      <th>14988</th>\n",
       "      <td>Vobiscum Satanas</td>\n",
       "      <td>558.0</td>\n",
       "    </tr>\n",
       "    <tr>\n",
       "      <th>1653</th>\n",
       "      <td>Bite the Pain</td>\n",
       "      <td>497.0</td>\n",
       "    </tr>\n",
       "  </tbody>\n",
       "</table>\n",
       "</div>"
      ],
      "text/plain": [
       "          master_metadata_track_name  minutes_played\n",
       "15711                   Yekteniya VI           669.0\n",
       "3614   Desperate Cry - 2018 Remaster           595.0\n",
       "3081              Cursed in Eternity           591.0\n",
       "14988               Vobiscum Satanas           558.0\n",
       "1653                   Bite the Pain           497.0"
      ]
     },
     "execution_count": 22,
     "metadata": {},
     "output_type": "execute_result"
    }
   ],
   "source": [
    "top_5_Songs = df.groupby('master_metadata_track_name', as_index=False).sum().round(0)\n",
    "top_5_Songs.sort_values(by = 'minutes_played', ascending = False).iloc[:, [0,1]].head()"
   ]
  },
  {
   "cell_type": "markdown",
   "metadata": {},
   "source": [
    "Most Listened Albums (Top 5)"
   ]
  },
  {
   "cell_type": "code",
   "execution_count": 23,
   "metadata": {},
   "outputs": [
    {
     "name": "stderr",
     "output_type": "stream",
     "text": [
      "C:\\Users\\Alfred\\AppData\\Local\\Temp\\ipykernel_22876\\656409347.py:1: FutureWarning: The default value of numeric_only in DataFrameGroupBy.sum is deprecated. In a future version, numeric_only will default to False. Either specify numeric_only or select only columns which should be valid for the function.\n",
      "  top_5_Songs = df.groupby('master_metadata_album_album_name', as_index=False).sum().round(0)\n"
     ]
    },
    {
     "data": {
      "text/html": [
       "<div>\n",
       "<style scoped>\n",
       "    .dataframe tbody tr th:only-of-type {\n",
       "        vertical-align: middle;\n",
       "    }\n",
       "\n",
       "    .dataframe tbody tr th {\n",
       "        vertical-align: top;\n",
       "    }\n",
       "\n",
       "    .dataframe thead th {\n",
       "        text-align: right;\n",
       "    }\n",
       "</style>\n",
       "<table border=\"1\" class=\"dataframe\">\n",
       "  <thead>\n",
       "    <tr style=\"text-align: right;\">\n",
       "      <th></th>\n",
       "      <th>master_metadata_album_album_name</th>\n",
       "      <th>minutes_played</th>\n",
       "    </tr>\n",
       "  </thead>\n",
       "  <tbody>\n",
       "    <tr>\n",
       "      <th>1882</th>\n",
       "      <td>De Mysteriis Dom Sathanas</td>\n",
       "      <td>1984.0</td>\n",
       "    </tr>\n",
       "    <tr>\n",
       "      <th>628</th>\n",
       "      <td>Arise</td>\n",
       "      <td>1919.0</td>\n",
       "    </tr>\n",
       "    <tr>\n",
       "      <th>4244</th>\n",
       "      <td>Litourgiya</td>\n",
       "      <td>1503.0</td>\n",
       "    </tr>\n",
       "    <tr>\n",
       "      <th>7982</th>\n",
       "      <td>Transilvanian Hunger</td>\n",
       "      <td>1410.0</td>\n",
       "    </tr>\n",
       "    <tr>\n",
       "      <th>3444</th>\n",
       "      <td>Human</td>\n",
       "      <td>1304.0</td>\n",
       "    </tr>\n",
       "  </tbody>\n",
       "</table>\n",
       "</div>"
      ],
      "text/plain": [
       "     master_metadata_album_album_name  minutes_played\n",
       "1882        De Mysteriis Dom Sathanas          1984.0\n",
       "628                             Arise          1919.0\n",
       "4244                       Litourgiya          1503.0\n",
       "7982             Transilvanian Hunger          1410.0\n",
       "3444                            Human          1304.0"
      ]
     },
     "execution_count": 23,
     "metadata": {},
     "output_type": "execute_result"
    }
   ],
   "source": [
    "top_5_Songs = df.groupby('master_metadata_album_album_name', as_index=False).sum().round(0)\n",
    "top_5_Songs.sort_values(by = 'minutes_played', ascending = False).iloc[:, [0,1]].head()"
   ]
  },
  {
   "cell_type": "markdown",
   "metadata": {},
   "source": [
    "Most Listened Bands (Top 5)"
   ]
  },
  {
   "cell_type": "code",
   "execution_count": 24,
   "metadata": {},
   "outputs": [
    {
     "name": "stderr",
     "output_type": "stream",
     "text": [
      "C:\\Users\\Alfred\\AppData\\Local\\Temp\\ipykernel_22876\\1497938950.py:1: FutureWarning: The default value of numeric_only in DataFrameGroupBy.sum is deprecated. In a future version, numeric_only will default to False. Either specify numeric_only or select only columns which should be valid for the function.\n",
      "  top_5_Songs = df.groupby('master_metadata_album_artist_name', as_index=False).sum().round(0)\n"
     ]
    },
    {
     "data": {
      "text/html": [
       "<div>\n",
       "<style scoped>\n",
       "    .dataframe tbody tr th:only-of-type {\n",
       "        vertical-align: middle;\n",
       "    }\n",
       "\n",
       "    .dataframe tbody tr th {\n",
       "        vertical-align: top;\n",
       "    }\n",
       "\n",
       "    .dataframe thead th {\n",
       "        text-align: right;\n",
       "    }\n",
       "</style>\n",
       "<table border=\"1\" class=\"dataframe\">\n",
       "  <thead>\n",
       "    <tr style=\"text-align: right;\">\n",
       "      <th></th>\n",
       "      <th>master_metadata_album_artist_name</th>\n",
       "      <th>minutes_played</th>\n",
       "    </tr>\n",
       "  </thead>\n",
       "  <tbody>\n",
       "    <tr>\n",
       "      <th>1078</th>\n",
       "      <td>Death</td>\n",
       "      <td>6692.0</td>\n",
       "    </tr>\n",
       "    <tr>\n",
       "      <th>442</th>\n",
       "      <td>Behemoth</td>\n",
       "      <td>5451.0</td>\n",
       "    </tr>\n",
       "    <tr>\n",
       "      <th>3780</th>\n",
       "      <td>Sepultura</td>\n",
       "      <td>4788.0</td>\n",
       "    </tr>\n",
       "    <tr>\n",
       "      <th>1153</th>\n",
       "      <td>Dimmu Borgir</td>\n",
       "      <td>4757.0</td>\n",
       "    </tr>\n",
       "    <tr>\n",
       "      <th>210</th>\n",
       "      <td>Amon Amarth</td>\n",
       "      <td>4454.0</td>\n",
       "    </tr>\n",
       "  </tbody>\n",
       "</table>\n",
       "</div>"
      ],
      "text/plain": [
       "     master_metadata_album_artist_name  minutes_played\n",
       "1078                             Death          6692.0\n",
       "442                           Behemoth          5451.0\n",
       "3780                         Sepultura          4788.0\n",
       "1153                      Dimmu Borgir          4757.0\n",
       "210                        Amon Amarth          4454.0"
      ]
     },
     "execution_count": 24,
     "metadata": {},
     "output_type": "execute_result"
    }
   ],
   "source": [
    "top_5_Songs = df.groupby('master_metadata_album_artist_name', as_index=False).sum().round(0)\n",
    "top_5_Songs.sort_values(by = 'minutes_played', ascending = False).iloc[:, [0,1]].head()"
   ]
  },
  {
   "cell_type": "markdown",
   "metadata": {},
   "source": [
    "#### "
   ]
  },
  {
   "cell_type": "markdown",
   "metadata": {},
   "source": [
    "#### 2.3 How much time did I listen to a specific band by month"
   ]
  },
  {
   "cell_type": "code",
   "execution_count": 25,
   "metadata": {},
   "outputs": [
    {
     "name": "stderr",
     "output_type": "stream",
     "text": [
      "C:\\Users\\Alfred\\AppData\\Local\\Temp\\ipykernel_22876\\576778844.py:5: FutureWarning: The default value of numeric_only in DataFrameGroupBy.sum is deprecated. In a future version, numeric_only will default to False. Either specify numeric_only or select only columns which should be valid for the function.\n",
      "  minutes_per_month_band = minutes_per_month_band.groupby('Month_Year', as_index=False).sum().round(0)\n"
     ]
    },
    {
     "data": {
      "text/plain": [
       "[<matplotlib.lines.Line2D at 0x1eb048ab110>]"
      ]
     },
     "execution_count": 25,
     "metadata": {},
     "output_type": "execute_result"
    },
    {
     "data": {
      "image/png": "[encoded data removed]",
      "text/plain": [
       "<Figure size 1500x400 with 1 Axes>"
      ]
     },
     "metadata": {},
     "output_type": "display_data"
    }
   ],
   "source": [
    "band = input('Write the name of the band: ')\n",
    "\n",
    "\n",
    "minutes_per_month_band = df.loc[df['master_metadata_album_artist_name'] == str(band)]\n",
    "minutes_per_month_band = minutes_per_month_band.groupby('Month_Year', as_index=False).sum().round(0)\n",
    "\n",
    "plt.figure(figsize=(15,4))\n",
    "plt.title('Minutes played by Month_Year: ' +band)\n",
    "plt.xlabel('Months')\n",
    "plt.ylabel('Minutes')\n",
    "plt.xticks(rotation = 45)\n",
    "plt.plot_date(minutes_per_month_band['Month_Year'], minutes_per_month_band['minutes_played'], linestyle='-', color='#1DB954')"
   ]
  },
  {
   "cell_type": "markdown",
   "metadata": {},
   "source": [
    "In this case I wrote the band \"Sepultura\" in the input box to exemplify"
   ]
  },
  {
   "cell_type": "markdown",
   "metadata": {},
   "source": [
    "#### "
   ]
  },
  {
   "cell_type": "markdown",
   "metadata": {},
   "source": [
    "#### 2.4 Which part of the day I listen the most?"
   ]
  },
  {
   "cell_type": "code",
   "execution_count": 26,
   "metadata": {},
   "outputs": [
    {
     "data": {
      "text/plain": [
       "Text(0.5, 1.0, 'Which part of the day I listen the most?')"
      ]
     },
     "execution_count": 26,
     "metadata": {},
     "output_type": "execute_result"
    },
    {
     "data": {
      "image/png": "[encoded data removed]",
      "text/plain": [
       "<Figure size 1500x400 with 1 Axes>"
      ]
     },
     "metadata": {},
     "output_type": "display_data"
    }
   ],
   "source": [
    "\n",
    "plt.figure(figsize=(15,4))\n",
    "sns.histplot(data = df['Hour'], bins = 24, color = '#1DB954', alpha = 0.5).set_title('Which part of the day I listen the most?')"
   ]
  },
  {
   "cell_type": "markdown",
   "metadata": {},
   "source": [
    "As expected, I use to listen at night, when I am at home"
   ]
  }
 ],
 "metadata": {
  "kernelspec": {
   "display_name": "Python 3.11.1 64-bit",
   "language": "python",
   "name": "python3"
  },
  "language_info": {
   "codemirror_mode": {
    "name": "ipython",
    "version": 3
   },
   "file_extension": ".py",
   "mimetype": "text/x-python",
   "name": "python",
   "nbconvert_exporter": "python",
   "pygments_lexer": "ipython3",
   "version": "3.11.1"
  },
  "orig_nbformat": 4,
  "vscode": {
   "interpreter": {
    "hash": "5b162f0eb375bb894d3e146cf8b2f5513da471aaab22b1c0a312421e7b8e043e"
   }
  }
 },
 "nbformat": 4,
 "nbformat_minor": 2
}
