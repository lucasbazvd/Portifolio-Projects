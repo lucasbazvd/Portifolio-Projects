{
 "cells": [
  {
   "cell_type": "markdown",
   "metadata": {},
   "source": [
    "<center><h1> <font color = \"#48D1CC\">Job web scraping and automatic e-mail sending</h1></center>"
   ]
  },
  {
   "cell_type": "markdown",
   "metadata": {},
   "source": [
    "<center><img src=\"data:image/jpeg;base64,/9j/4AAQSkZJRgABAQAAAQABAAD/2wCEAAoHCBUVEhgRFRUYGRgaGhgcGhwaHBwcGhgcGRgaGhgYGBocIS4lHB4rIRgYJjgmKy8xNTU1GiQ7QDs0Py40NTEBDAwMEA8QHhISHjEhIyQ0NDQ0MTQ0NDQ0NDE0NDQ0NDQ0NDQxNDQ0NDQ0NDQ0NDQ0NDQxNDQ0MT80MTQxNDQ0NP/AABEIAJABXgMBIgACEQEDEQH/xAAbAAADAAMBAQAAAAAAAAAAAAAABQYBAwQHAv/EAEcQAAIBAgEJBQYEAgcGBwAAAAECAAMRBAUGEhMWITFRkUFTYZLRByIyUnGBFHKhsWLBFSNCgpOy4RckNXOz8DQ2VIOiwvH/xAAZAQEBAQEBAQAAAAAAAAAAAAAAAQIDBAX/xAAmEQACAgEFAAICAgMAAAAAAAAAAQIREgMTITFRBEEiUiORFDJh/9oADAMBAAIRAxEAPwD2aEIQAhMXgTAMQmqtWVRdmCjxIH7xViM5cOv9vS/KCf1gxKcY9sdQk5tfQ5P5R6w2vocn8o9ZaMb0PSjhJza+hyfyj1htfQ5P5R6xiN6HpRwk5tfQ5P5R6w2vocn8o9YxG9D0o4Sc2vocn8o9YbX0OT+UesYjeh6UcJObX0OT+UesNr6HJ/KPWMRvQ9KOEnNr6HJ/KPWG19Dk/lHrGI3oelHCTm19Dk/lHrDa+hyfyj1jEb0PSjhJza+hyfyj1htfQ5P5R6xiN6HpRwk5tfQ5P5R6w2vocn8o9YxG9D0o4Sc2vocn8o9YbX0OT+UesYjeh6UcJObX0OT+UesNr6HJ/KPWMRvQ9KOEnNr6HJ/KPWG19Dk/lHrGI3oelHCTm19Dk/lHrDa+hyfyj1jEb0PSjhJza+hyfyj1htfQ5P5R6xiN6HpRwk5tfQ5P5R6w2vocn8o9YxG9D0o4Sc2vocqnlHrMrnbh72s4/u/6xRd6HpQz6ivCZbw9TctRb8j7p6GMlYHeDBuMk+nZ9wmLwkNGYQhACExAwD5Jk1lvOZaZNOlZn7T2L6mac6stlP6hDZj8R5D5RJrJ2TzUPEhRxPPwvzmkkePW13eMez4rYirXf3mZzy5fQDcJ2UMgVm42X6nf+kf4WklMaKC3j2n6mb9dJlRyjpp8ydiIZsv869DDZlu8XoY91sNbJkXbj4ItmW7xehhsy3eL0Me62GtjIbcBFsy3eL0MNmW7xehj3Ww1sZDbj4ItmW7xehhsy3eL0Me62GtjIbcBFsy3eL0MNmW7xehj3Ww1sZDbj4ItmW7xehhsy3eL0Me62GtjIbcBFsy3eL0MNmW7xehj3Ww1sZDbgItmW7xehhsy3eL0Me62GujIbcBFsy3eL0MNmW7xehj3Ww1sZF2oeCLZlu8XoYbMt3i9DHuthrYyJtx8EWzLd4vQw2ZbvF6GPdbDWxkNuAi2ZbvF6GGzLd4vQx7rYa2Mhtx8EWzLd4vQw2ZbvF6GPdbDWxkNuAi2ZbvF6GGzLd4vQx7rYa2MhtwEWzLd4vQw2ZbvF6GPddDXRkNuAi2ZbvF6GfLZtPb41P2Mf66GtjIbcCTxWR6yb2S45rvn3k3LdaibBiyjirb/ALb+EqtfFuUcnJUFxZX5jdf6yqVmXBx5g+ShyRldMQt1NmHFe0esZAzylHehUBB0WX9Z6JkbKS16Ycbm4MORla8PVo6yl+MuxmJmYEzMnoMTgytjRRotUPYNw5k7gOs7jJLPnEEIlMcGJJ/ugW/U/pKjnrSxg2SoDVKhubljcmUdEqihV4D9fE+MQYA2Jbtnbr4Z82L+32NNd4zciOwuqkjmBeJDXjjN7KWi+rY+63DwMzR1g1J02fAxA3+BIN91iIa4c5szkwmrqCsPgfc3g3YfveJ9fDQk3FtMaa7xhrvGK/xBhr5EjOQ1FXsm2srINJlYDnY2mM3cPrHLke6n6tM5y467ikDuXe35jwE1R1SqGTNOu8Ya7xiv8RGORaBrVLH4V3t4+ElGIPJ0deqfcdBt/hOcVxvHI2P1j/EZURKqUTxYb/4exb/WJs5cIUcV1+FvdfwPYZaOs9Ootp9GnXeMNd4xX+Ih+ImWjhnY013jOinSdhdVJE5sgUdbU974VFz9b7h+/SOMq5bWidWq3a3DsHKVI7RinHKTpHH+Dq/If0mfwdX5G/T1nNtNU+Vf1htNU+Vf1lxF6fp0/g6vyN+nrNdSk68Ubpf9pq2mqfKv6zowect2CuoAO647De0UP43wmcYxAPA//vKZ13jOzOfCqoWuosdIK1uBB7TJ/XmSjnP8HTGmu8ZnW+MVfiIyyFhtbU3/AArvPpJTEW5NJfZ1al93utv4bpziuD+2/dvHGP6+VEWstA8SN/8AD8o+8SZx4XVvrlHuPubwbsP3lo6zhStO6Neu8Ya7xis14fiJEjhmNNd4zfTouwuqsftDNugHZqjb9HcPrOjKOcOg5pqoOjuJPPlYTWJ1hFY5SPj8JV+Rofg6vyNOU5y1OS9JjaWryXpGJb0jpOFq/I05qlQobMCD4i0+lzmqdqoesdYasmKom6+BB7D4RiVRhLiL5Eet8ZjW+MV6wqShPwkjobG/SH4iRxOGVOjdlWiHXS/tAdZozbygaVdbn3XsrfyMzr4qqizm3OaXRjLGWSPWgZ9ThyPiNZQpvzRb/W2+d0h9WLtJmJC58N/XoOVP/wCzS6kLnuv9eh7Cg/zNKjz/ACb22IqTWE+tZOcGZvNUfNTN+smVqEbxx7Pr2TnvC8UWz0DAV1xeFKtvNtFvAjgf0kXiEZHZG4qbf6zqzdyjqawufcfc334NHOeGT7qMQo5Bvp2GSj0y/lhl9ol9ZPqkC7BV3kkADnOctKjM/J2kTiGG4GyeJ7TDOMIuUkh0xXCYW/aB5mPCQr1yxLMbkkknmSd5jXOrKenV1YPupf7tziG8JHTX1E3iukdCuSQBxMucFRXC4cs/G128T2CIM0snayoazD3V+Hxb0n1ndlPSbUKdyn3vFuIH2g3pLCGTE+IxTO7Ox95iT6fyllkbFLicOabG7AaLfyaQOlO/I2UTRqq/ZwYc1/04/aDnpatSt9MMdh2pVGpt/Z4eK/2TOc1JXZ04EVaQxCWJUX3dqmRV4RNWOEuOmWWZm8VD4r/OJs4m/wB6qfUf5RG2Yx92r9V/YxLnKf8Ae3+o/YRXJ0m60Uzh1kNZNF4/zcyXSrIzVCQQQBvAFreIlOEE5OkJ9ZAVO3/vwlhs3hfnbzj0hs3hfnbzj0k4OuxJO7X9inKeXhVoiloEH3d5It7sS6yUmW8g0aVBqq6WkNG12uN7AcvGSmlLwZ1sk/yOhWJIUbyTYeJl3hkXCYbSa1wLt4seAiLM/J2k5rsPdXcvi3En7TVnZlTTfVKbqnHxaQ66aWnBzfb6FNbEszs7H3mOlfly/SWeTcQuKwxRuIGiw8ewyB0oxyHlE0aysfhO5xzB7fsbRRz0tT8nfTNeKpNTdqbcVNvqOc06yVedmA00GITeVG+39pT2/aRt4JrRxlRZ5m1wVdO24P2sBFOXcE612bRJVmuCBfj2RZk/HtRcOp39oPBhyMp6Od6Ee/TYH+GzD7XijrGUZQUZOqJck8j0hc8jK3arDfI/lHrDavD/ACP5R6xRNuH7Elc8jOzA5XqUQVQjebm4vcyhGdOH7Ucf3R6zsWhh8XTLKFPZcCzKYLHS5/GXJDPWLEseJJJ+5uf3nzrJjF0DTqNTPFTb679x6TTeWjyu1w3yb9ZNNQ3MxeYYxVEbPQ80WvhE8C4/+bR3EeaI/wB0TxL/AOdo8mWfX0v9EYkhnzhzo06nK6n78P3MsLRflnBCtRan2kXH1HCExqxyi0eYXhM1EKsVIsQSDMTZ8hhCEIAS7zcxoxGHNJ97Kui3ip3BpCTuyPjjQrK44Xsw5gyM66E8Zc9H3iMkOMScMOJO4/wnt/eV+VsSuFwwVNxI0VHieJnfpUSwq3XS0bBri9jvkLnHlHX1iQfcT3V8eZ63kPRJR0otx++hUxubnt4zdhcOXdUXixt9PGaZW5oYRVBrsygm4W5FwO0y/R5tKKlJIoMOKeHpKjMFAFrndcxY2HyexLE0yTvPvdvOTmcuUtdWIB9xDor4ntMUSUd566TxpNIufwmTudPzQ/B5O50/NIaEUZ31+qPTcDXoWFGmykWNlBvu7ftIXL+TdRWIHwN7y/S+8dZxYXENTdai8VNx4+Etsoini8KGVgGtpLc2INt4ijTktaNPho4cxnH9av5T/mHpFGdVMjFNftsR47ppyLlA0K2kRu3q48JZ16eGxSC5B3biDZheV9iNamnhfKPO7wtLkZpYf5qnmHpDZHD/ADVPMPSLRhfHl6iFtPpFuQLcSB1NpcbI0PmqeYek3YbIOGotpk3I4abCw8bbo4Kvjyvlmc4hbAlT8qDoVkPgsK1SotNeLHoON+koM6sspUXUodIAgsw4XBuBOnNLCIiGs7KGb4bkXC8+PEyI1NLU1Ur6HlPVYemqMyqoFt5tfmYrbDZPJJLISePvSbzhyia9YkfAt1T+Ziq8UNT5Ci8Uk0XP4TJ3On5oHCZO50/NIaEUY31+qPTcJXoMuqRlYWI0Qb7u2QWXMnmhWKf2TvQ8wez7TmwWKak61FO9Tf6jtEs8s00xWGDqV0gNJbkfdTLVG3Lehzw0LM1Mm0qyOzqGIYAeG4RDlKmErOgFgrEARhm1lUUHIe4R+J+Ug8f5SoxWTsNifeuLntVrHpBFBT00l2uzz6EuNkaPzP1HpMbIUfnfqPSLMf48/wDhEStzFBvVPZ7nXfeda5qYcfEzn+8B/KdFbKGHwtPQQi44KpuSfGG7OmlpODyk0SWcZ/3p7c/5CLJtxFcu7O3FiSZqhHlm7kwmP+/SZjTN7A66uot7qnSb7dkMQi5SpF5kbD6ugiHiF3/U7z+pnfMKJkTB9iKpJGZgzMwYNEdnXkQknEUx+cD9wJIieuEbrSUy1mxpE1KO49q9h+hmkzw6+hzlFEdCbK9FkOgylWHEGa5o8TTXYQhCCUF4QhBeQhcwhAVp2F4QhBEmEIQgoQvCEDn6CANuEISBWuj71z/M3Uw1z/M3Uz4hFFyl6feuf5m6mfLOTxJP1MxCKGUvthC8ISk5XKCEIQSghCEFCF4QgcroIKxHAkQhA5PvXP8AM3Uw1z/M3Uz4hJQuXp9Go3zHqZ83hCUNv7YQhO7J2SqtY2VTbtYiyiSyxi5dHLQos7hEUlibCei5CyWKFMLxY72Pjy+0xkXIiYcX+JzxY8foOUbyNn0dDRx5fYCZhCZPSEIQgGJifUIBy4jCJUGi6hh4iJ6+alBvh0l8Ad3QyhgZbMS04y7RK7G0/nboIbHJ3j9BKqYMWzGxp+EtscneP0ENjk7x+glMKqngw6ifd4tk2dPwltjk7x+ghsdT7xuglVE+Xs4sNg0D4iqqA3sN5ZrcdFRvMWy7Gn4Ldjk7x+ghsdT7xugik+13Jnz1f8MzfgvalkyowTXMhPA1FZV+7cB9TFsbGn4d+xyd4/QQ2OTvH6CUqVFKhgbqQCD2G/C0lcte0TJ+Gc03rFnX4lpqzW8CR7oP1MWxsafht2NTvG6CGxyd4/QRN/teyZzrf4f+sZZI9o+TsTUFJKxV2NlDqVBPYATuvFsbGn4b9jk7x+ghscneP0EocbiUp02qubIilmO82C7ybDeeEmn9omTVpLWbErotew0X0jY2voBSwEWxsafhs2Op943QQ2OTvH6CLv8Aarku9te311dSx+wW8oMHnPg6tA4lMQhpL8bE20b8AwO8Hwi2NjT8ODY5O8foIbHJ3j9BOCt7Uslq2jr2Nu1Ucj7ECxjPIufOT8U+ro4hS54KwZCfy6YF/tFsbGn4a9jk7x+ghsaneN0EqoRbGxp+ErscneP0ENjk7x+glOXA4kQVweBB+kWybOn4TGxyd4/QQ2OTvH6CVN5qxJ9xj/C323GLZdiHhN7HU+8boIbGp3jdBIv2f550MLgXfGYhixqsFB0nYgbvdA3gfpHg9ruTL/FV/wAM+sWxsafg42Op943QQ2OTvH6CaMk+0fJ2IqCktYq7bgKisgJ5Bvh/WU+NxaUabVqjaKICWPIDt3RbGxp+E/sdT7xughscneP0EMTn9k6nRSu2JXRe+iACWYAlSdADStcEXt2RfT9qmSyQNew32uaTgb+29tw+sWxsafgw2OTvH6CfQzOp9ruY+yfj6demKtJ1dDwZSCD0nVFsbEPBJhc3MOhvoaR/i39BwEbogAsBYcpshFm1CMekYn1CEhsIQhACEIQAhCEAJgzMwYBgmROdeWGNQ0EYqq/ERuJPK/KWrCed504NkxDOR7rm4PZflKjz/JclHgUJUZTpKSDzH/e+X2auU2rUyr/GhsTzB3g/y+08/lrmVhGVHqMCNIgC/aBe5lZ5fjSk5VdlTPIzg1xuctaniF06dBBoqSSvwKRcdu9zPXJ4/Xxq4DOWrWxB0KVdBoufh+BBx8Cu+ZPpHqYyTQAsKFK35F9ImzpzSoYrCvRFKmrlToMFC6LdhuBzjVcv4Ui4xFLzr6xJnXnnhsNhqjLXpmroNq1BDEsQbbhxF4BqwuFrYDIjU6jhqlKlUsyk24sVsTyBHSIfZBm7QbBDGVKavVqO50nAawvbdfnYn7xvkaricbkR2xFjVq06lrLo+6b6At4iI/ZFnLQp4P8ABV6i06tN391zYlSdLdfkbiAeknJdDuKXkX0kB7Ws2qH4B8VTpKlWmyMHUaJtexBt9f2l1/TmG/8AUUvOvrIH2r50YZ8C2Eo1VqVajIoVDpWGlck2+lvvAHIxbVs3mrPcs2Dcnx/qzJn2R5oYWrhBjK1MVHZmA0t4ULusBKdsG1HN5qL7mTBuDfsOrO6avY3/AMJp/nf94BSVM3MIw0ThqVvyL6TyCtmpRbL5yepZcO1qroLgNoqSFtwtft8TPdTPLaf/AJsP/IP+SAXOGzZwaKFXDUgALfCCfuTIX2rZsYalgmxtGmtOrTemVZPdvpOF32/N+k9UkN7Yf+DV/wA1H/rJAKfIdZnwtF2+JqaEnxIF53VXspJ7AT0i3Nr/AMHh/wDlJ/lnfiKekjLzUjqII+jzbK+VXruSWITfZRwA5/ec+Dxz0m00Yi28i5sfAifGJw7I5psLEbuh3GaghO4C5O4DnN8HyZSnlf2ep5OxIq01qAfEL/fgR+k3Yj4G/Kf2nHkPCmlh0RuIBJ+pJNv1nZijam5/hb9jMM+rC8VZ5H7Gs3KFWlVxVamruKhVNIXCgcd3O89V/oqh3FLyL6Tyb2P5y4eglbC16iozVC1MsbK44EA8L3E9W/pvDWv+IpW/OvrBog/a5m5h/wCj3xSUkSpTZGDIoW4LBSDb81/tGNTFtVzdNRzdmw28ntI3X/SK/aznRh2wD4SlVR6tVkAVDpWUOGJNvy2jatg2o5umkwsy4beORPvWPWAT/sjzUw1TAri61Naruzgae8IqsVso+oJ+8u8VmngqiFHw1KxB4IAR4giI/Y3/AMHpfnq/9RpdQDzX2R4Krh/xmHdXVErEU9JWAIuRpKTxB3cJ6XPm0+oAQhCAEIQgBCEIAQhCAEIQgBCEIBic+KwaVF0XUMPGdMxBGk+xJSzZw6nSCXtwBJIjdaYAsABbhbsmyEEjCMekFoqyzkHD4tBTxFJaijhe4I+hG8fYxtCDRBH2TZL7qoP/AHH9ZvwfswyZTcOKBcjgHdmXyk2MtoQDUlMABQAABYAdgHACTGWPZ9k/FVDVq0BpniyMyFvFgpsT4yshAIE+yTJfd1P8R/WMcjez3J+GcVadAFxwZ2ZyPEBjYHxAlbCAcmOwa1aT0X3q6src7MLHf95zZByLSwdEYagCEUkgMxY7zc7zGkIBgxKM2sOMb/SAVtfoFL6R0dEi3w8I7hAMRZl7ItLGUGw1cE02KkhSVN1YMN4+kaQgHPg8MtOmlNfhQBR9ALCdEIQBdj8k0q3xoCeY3Efea8FkKhSOkqDS5nef1jSEtmMI3dGAs+XS4seB4zZCQ2ST+z3JxoDDnDjRDFh7zaSluNmBBt4RefZLkvuqn+I/8zL2EAkskez3J2GcVadAFwbhnZnseYDGwPjaUOUcClek9B7lHUq1jY2PjOyEAV5ByLSwdBcNQBFNSxAJLH3jpHeeO8mNIQgBCEIAQhCAEIQgBCEIB//Z\" alt=\"Minha Figura\" width = 320 height = 130 ></center>"
   ]
  },
  {
   "cell_type": "markdown",
   "metadata": {},
   "source": [
    "<h4>1) Importing the libraries</h4>\n",
    "\n",
    "The libraries <b>BeautifulSoup</b> and <b>Requests</b> are being used to collect the information from de html source code of the website. <b>Pandas</b> and <b>openpyxl</b> can be used to transform our collected data in a excel spreadsheet and finally, we're gonna send the spreedsheet by e-mail to someone."
   ]
  },
  {
   "cell_type": "code",
   "execution_count": 1,
   "metadata": {},
   "outputs": [],
   "source": [
    "from bs4 import BeautifulSoup\n",
    "from matplotlib import fontconfig_pattern\n",
    "import requests\n",
    "import re\n",
    "import pandas as pd\n",
    "import openpyxl\n",
    "import datetime"
   ]
  },
  {
   "cell_type": "markdown",
   "metadata": {},
   "source": [
    "<h4>2) Getting the Source Code</h4>\n",
    "\n",
    "Our source is gonna be the brazilian job website called <b>Vagas.com</b>, and the role is 'Data Analyst'. In the website, two filters are applied. One to show first the most recent jobs and the second is to show only jobs related to 'Data Analyst'."
   ]
  },
  {
   "cell_type": "code",
   "execution_count": 2,
   "metadata": {},
   "outputs": [],
   "source": [
    "html_text = requests.get('https://www.vagas.com.br/vagas-de-analista-de-dados?m%5B%5D=100%25+Home+Office&ordenar_por=mais_recentes').text\n",
    "soup = BeautifulSoup(html_text, 'html5lib')"
   ]
  },
  {
   "cell_type": "markdown",
   "metadata": {},
   "source": [
    "<h4>3) Collecting Information</h4>\n",
    "\n",
    "The informations that we're gonna collect are: <b>Role</b>, <b>Company</b>, <b>Level</b> and <b>Job Link</b>. After we scrap the data, we're gonna storage in a list to further transform our lists in a <b>DataFrame</b> with pandas. "
   ]
  },
  {
   "cell_type": "markdown",
   "metadata": {},
   "source": [
    "Collecting 'Role name' and 'Job link'. The variables are 'lista_cargos' and 'lista_linkvaga' respectively. The list 'site_para_concatenar' will be useful to correct the job link when the data frame is created"
   ]
  },
  {
   "cell_type": "code",
   "execution_count": 3,
   "metadata": {},
   "outputs": [],
   "source": [
    "lista_linkvaga = []\n",
    "lista_cargos = []\n",
    "site_para_concatenar = []\n",
    "\n",
    "cargos = soup.find_all('h2', class_ = 'cargo')\n",
    "for cargo in cargos:\n",
    "    nome_cargo = cargo.find('a', class_ = \"link-detalhes-vaga\").text\n",
    "    link_cargo = cargo.find('a', class_ = \"link-detalhes-vaga\").get('href')\n",
    "    lista_cargos.append(nome_cargo.strip())\n",
    "    lista_linkvaga.append(link_cargo.strip())\n",
    "    site_para_concatenar.append('vagas.com.br')"
   ]
  },
  {
   "cell_type": "markdown",
   "metadata": {},
   "source": [
    "Collecting 'Company' and 'Level'. The variables are 'lista_empresas' and 'lista_niveis' respectively."
   ]
  },
  {
   "cell_type": "code",
   "execution_count": 4,
   "metadata": {},
   "outputs": [],
   "source": [
    "infos = soup.find_all('div', class_ = 'informacoes-header')\n",
    "\n",
    "lista_empresas = []\n",
    "for empresa in infos:\n",
    "    nome_empresa = empresa.find('span', class_ = 'emprVaga').text.replace(' ','')\n",
    "    lista_empresas.append(nome_empresa.strip())\n",
    "\n",
    "lista_niveis = []\n",
    "for nivel in infos:\n",
    "    nome_nivel = nivel.find('span', class_ = 'nivelVaga').text.replace(' ','')\n",
    "    lista_niveis.append(nome_nivel.strip())"
   ]
  },
  {
   "cell_type": "markdown",
   "metadata": {},
   "source": [
    "<h4>4) Creating a DataFrame</h4>\n",
    "\n",
    "Alright, we have our four variables storaged in four lists. Now we will transform those lists in a dictionary called 'data' and finally create the DataFrame. the column 'auxiliar' is used concatenate the site domain 'vagas.com' with the link collected from the source code, generating a correct link in the column 'Link para Vaga'. "
   ]
  },
  {
   "cell_type": "code",
   "execution_count": 5,
   "metadata": {},
   "outputs": [
    {
     "name": "stdout",
     "output_type": "stream",
     "text": [
      "                                                Cargo  \\\n",
      "0                Analista de Remuneração e Beneficios   \n",
      "1                             Product Designer Sênior   \n",
      "2                     Analista de Marketing I (25204)   \n",
      "3                                Analista de Sistemas   \n",
      "4   Analista de Analytics  Bi (Business Intelligence)   \n",
      "5                        Analista de Marketing Sênior   \n",
      "6                                      Analista de TI   \n",
      "7                    Analista de Controladoria Sênior   \n",
      "8                           Analista de Sistemas Java   \n",
      "9     Analista de Segurança da Informação I (Barueri)   \n",
      "10                          Analista de Sistemas Itsm   \n",
      "11                Analista Suporte ao Cliente (Pleno)   \n",
      "12          Analista de Operações de Negócio (Cs Ops)   \n",
      "13  Analista de Segurança da Informação II (Algar ...   \n",
      "14  Analista de Segurança da Informação III - Corp...   \n",
      "15   Analista de Planejamento Financeiro   Fp&a Pleno   \n",
      "16              Analista de Segurança da Informação I   \n",
      "17                              Analista de CRM Pleno   \n",
      "18                      Analista de Sistemas TI Pleno   \n",
      "19                                    Analista de Mis   \n",
      "20               Analista Estratégia de Crédito/Dados   \n",
      "21                         Analista de Suprimentos Jr   \n",
      "22     Analista de Inteligência de Mercado (Pesquisa)   \n",
      "23                              Arquiteto de Sistemas   \n",
      "24                                Desenvolvedor Pleno   \n",
      "25                               Desenvolvedor Sênior   \n",
      "26                   Analista de Proteção de Dados Sr   \n",
      "27                           Analista de Qualidade Jr   \n",
      "28                       Especialista em Data Science   \n",
      "29                        Analista Desenvolvedor .Net   \n",
      "30            Analista de Informações de Marketing Sr   \n",
      "31  Analista Corporativo Tecnologia Informação Sênior   \n",
      "32     Analista Administrativo de Planejamento Júnior   \n",
      "33                 Analista de Recrutamento e Seleção   \n",
      "34                               Analista de BI Pleno   \n",
      "35                                 Analista Sr  Redes   \n",
      "36                               Analista de Sistemas   \n",
      "37                                Analista Sr Storage   \n",
      "38                                 Analista Sr Backup   \n",
      "39                              Analista Jr SAP Basis   \n",
      "\n",
      "                      Empresa           Nivel  \\\n",
      "0                   KornFerry          Sênior   \n",
      "1                       Ânima          Sênior   \n",
      "2   Dafiti|GlobalFashionGroup          Sênior   \n",
      "3                Confidencial           Pleno   \n",
      "4                Confidencial          Sênior   \n",
      "5                        Omie          Sênior   \n",
      "6                Confidencial  Júnior/Trainee   \n",
      "7                  GrupoSERES           Pleno   \n",
      "8         BRQDigitalSolutions          Sênior   \n",
      "9                      Orizon  Júnior/Trainee   \n",
      "10               Confidencial           Pleno   \n",
      "11                  VAGAS.com           Pleno   \n",
      "12                  VAGAS.com          Sênior   \n",
      "13               AlgarTelecom  Júnior/Trainee   \n",
      "14               AlgarTelecom           Pleno   \n",
      "15                     Adecco           Pleno   \n",
      "16                     Orizon  Júnior/Trainee   \n",
      "17                       Omie           Pleno   \n",
      "18                  UniRitter           Pleno   \n",
      "19                       TTEC  Júnior/Trainee   \n",
      "20               Confidencial           Pleno   \n",
      "21              LafargeHolcim  Júnior/Trainee   \n",
      "22                      Ânima           Pleno   \n",
      "23            GrupoSuperNosso          Sênior   \n",
      "24            GrupoSuperNosso           Pleno   \n",
      "25            GrupoSuperNosso          Sênior   \n",
      "26               MinervaFoods          Sênior   \n",
      "27                  GrupoSITI           Pleno   \n",
      "28                        DP6          Sênior   \n",
      "29                  GrupoSITI          Sênior   \n",
      "30                 GrupoSERES          Sênior   \n",
      "31          RedeSantaCatarina          Sênior   \n",
      "32               CONFIDENCIAL  Júnior/Trainee   \n",
      "33                 Concentrix           Pleno   \n",
      "34            GrupoSuperNosso           Pleno   \n",
      "35                  GrupoSITI          Sênior   \n",
      "36                  GrupoSITI          Sênior   \n",
      "37                  GrupoSITI          Sênior   \n",
      "38                  GrupoSITI          Sênior   \n",
      "39                  GrupoSITI          Sênior   \n",
      "\n",
      "                                       Link para vaga  \n",
      "0   vagas.com.br/vagas/v2326995/analista-de-remune...  \n",
      "1   vagas.com.br/vagas/v2340790/product-designer-s...  \n",
      "2   vagas.com.br/vagas/v2341397/analista-de-market...  \n",
      "3    vagas.com.br/vagas/v2340235/analista-de-sistemas  \n",
      "4   vagas.com.br/vagas/v2340227/analista-de-analyt...  \n",
      "5   vagas.com.br/vagas/v2340293/analista-de-market...  \n",
      "6          vagas.com.br/vagas/v2340209/analista-de-ti  \n",
      "7   vagas.com.br/vagas/v2340419/analista-de-contro...  \n",
      "8   vagas.com.br/vagas/v2340749/analista-de-sistem...  \n",
      "9   vagas.com.br/vagas/v2339709/analista-de-segura...  \n",
      "10  vagas.com.br/vagas/v2339774/analista-de-sistem...  \n",
      "11  vagas.com.br/vagas/v2328147/analista-suporte-a...  \n",
      "12  vagas.com.br/vagas/v2339151/analista-de-operac...  \n",
      "13  vagas.com.br/vagas/v2340036/analista-de-segura...  \n",
      "14  vagas.com.br/vagas/v2340031/analista-de-segura...  \n",
      "15  vagas.com.br/vagas/v2338875/analista-de-planej...  \n",
      "16  vagas.com.br/vagas/v2339342/analista-de-segura...  \n",
      "17  vagas.com.br/vagas/v2332969/analista-de-crm-pleno  \n",
      "18  vagas.com.br/vagas/v2339224/analista-de-sistem...  \n",
      "19        vagas.com.br/vagas/v2338593/analista-de-mis  \n",
      "20  vagas.com.br/vagas/v2337260/analista-estrategi...  \n",
      "21  vagas.com.br/vagas/v2305292/analista-de-suprim...  \n",
      "22  vagas.com.br/vagas/v2336992/analista-de-inteli...  \n",
      "23  vagas.com.br/vagas/v2336656/arquiteto-de-sistemas  \n",
      "24    vagas.com.br/vagas/v2336697/desenvolvedor-pleno  \n",
      "25   vagas.com.br/vagas/v2336725/desenvolvedor-senior  \n",
      "26  vagas.com.br/vagas/v2336690/analista-de-protec...  \n",
      "27  vagas.com.br/vagas/v2336540/analista-de-qualid...  \n",
      "28  vagas.com.br/vagas/v2333440/especialista-em-da...  \n",
      "29  vagas.com.br/vagas/v2335959/analista-desenvolv...  \n",
      "30  vagas.com.br/vagas/v2336132/analista-de-inform...  \n",
      "31  vagas.com.br/vagas/v2336244/analista-corporati...  \n",
      "32  vagas.com.br/vagas/v2335353/analista-administr...  \n",
      "33  vagas.com.br/vagas/v2336267/analista-de-recrut...  \n",
      "34   vagas.com.br/vagas/v2336115/analista-de-bi-pleno  \n",
      "35      vagas.com.br/vagas/v2306532/analista-sr-redes  \n",
      "36   vagas.com.br/vagas/v2317021/analista-de-sistemas  \n",
      "37    vagas.com.br/vagas/v2306597/analista-sr-storage  \n",
      "38     vagas.com.br/vagas/v2306610/analista-sr-backup  \n",
      "39  vagas.com.br/vagas/v2316797/analista-jr-sap-basis  \n"
     ]
    }
   ],
   "source": [
    "data = {'Cargo':lista_cargos,'Empresa':lista_empresas,\n",
    "'Nivel':lista_niveis,'auxiliar':site_para_concatenar, 'Link':lista_linkvaga}\n",
    "\n",
    "job_data = pd.DataFrame(data)\n",
    "\n",
    "job_data['Link para vaga'] = job_data.auxiliar.str.cat(job_data.Link)\n",
    "\n",
    "job_data.drop('auxiliar', inplace=True, axis = 1)\n",
    "job_data.drop('Link', inplace=True, axis = 1)\n",
    "\n",
    "print(job_data)"
   ]
  },
  {
   "cell_type": "markdown",
   "metadata": {},
   "source": [
    "Now that the DataFrame is created, we can save it in a excel spreadsheet using the method to_excel()."
   ]
  },
  {
   "cell_type": "code",
   "execution_count": 6,
   "metadata": {},
   "outputs": [],
   "source": [
    "arquivo = 'Vagas.xlsx'\n",
    "job_data.to_excel(arquivo)"
   ]
  },
  {
   "cell_type": "markdown",
   "metadata": {},
   "source": [
    "<h4>5) Sending an e-mail</h4>\n",
    "\n",
    "Finally, the user will decide if he wants to receive a e-mail with the job spreadsheet. The function 'enviar_email()' takes care of all the parts of an e-mail like Subject, from, to and attachments. For this, the libraries smtplib and EmailMessage are being used. The variable msg will storage the parts of an e-mail, which will be used inside send_message ()"
   ]
  },
  {
   "cell_type": "code",
   "execution_count": 7,
   "metadata": {},
   "outputs": [],
   "source": [
    "import os\n",
    "import smtplib\n",
    "from email.message import EmailMessage"
   ]
  },
  {
   "cell_type": "code",
   "execution_count": 8,
   "metadata": {},
   "outputs": [
    {
     "name": "stdout",
     "output_type": "stream",
     "text": [
      "E-mail Enviado com Sucesso!\n"
     ]
    }
   ],
   "source": [
    "resp = input('Deseja enviar por email?  (s/n) ')\n",
    "\n",
    "def enviar_email():\n",
    "\n",
    "    EMAIL_ADRESS = 'lucasazv99@gmail.com'\n",
    "    EMAIL_PASSWORD = os.environ.get('PythonTest')\n",
    "    now = datetime.datetime.now()\n",
    "\n",
    "    msg = EmailMessage()\n",
    "    msg['Subject'] = f'Vagas Mais Recentes: Analista de Dados - {now}'\n",
    "    msg['From'] = EMAIL_ADRESS\n",
    "    msg['To'] = 'lucasazv99@gmail.com'\n",
    "    msg.set_content( f'Planilha com as Vagas do site Vagas.com atualizado em - {now}')\n",
    "\n",
    "    files = [arquivo]\n",
    "\n",
    "    for file in files:\n",
    "        with open(file, 'rb') as j:\n",
    "            file_data = j.read()\n",
    "            file_name = j.name\n",
    "\n",
    "        msg.add_attachment(file_data, maintype='application', subtype='octet-stream', filename=file_name )\n",
    "\n",
    "    with smtplib.SMTP_SSL('smtp.gmail.com', 465) as smtp:\n",
    "        smtp.login(EMAIL_ADRESS,EMAIL_PASSWORD)\n",
    "        smtp.send_message(msg)\n",
    "\n",
    "if resp == 's':\n",
    "    enviar_email()\n",
    "    print('E-mail Enviado com Sucesso!')\n",
    "else:\n",
    "    print('E-mail Não Enviado')"
   ]
  },
  {
   "cell_type": "markdown",
   "metadata": {},
   "source": [
    "In this case, I'm sending a e-mail to myself for testing purpose"
   ]
  },
  {
   "cell_type": "markdown",
   "metadata": {},
   "source": [
    "<img src=\"print_email.jpg\">"
   ]
  },
  {
   "cell_type": "markdown",
   "metadata": {},
   "source": [
    "<center><img src=\"print_email2.jpg\"></center>"
   ]
  }
 ],
 "metadata": {
  "interpreter": {
   "hash": "03047921f47cc7666394e980fe3e091028679457771c75f2dd56307b10ba8c5d"
  },
  "kernelspec": {
   "display_name": "Python 3.10.2 64-bit",
   "language": "python",
   "name": "python3"
  },
  "language_info": {
   "codemirror_mode": {
    "name": "ipython",
    "version": 3
   },
   "file_extension": ".py",
   "mimetype": "text/x-python",
   "name": "python",
   "nbconvert_exporter": "python",
   "pygments_lexer": "ipython3",
   "version": "3.10.2"
  },
  "orig_nbformat": 4
 },
 "nbformat": 4,
 "nbformat_minor": 2
}
