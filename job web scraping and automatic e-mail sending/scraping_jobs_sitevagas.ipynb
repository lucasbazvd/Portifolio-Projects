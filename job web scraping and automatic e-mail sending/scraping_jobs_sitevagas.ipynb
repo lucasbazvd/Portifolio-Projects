{
 "cells": [
  {
   "cell_type": "markdown",
   "metadata": {},
   "source": [
    "<center><h1>Job web scraping and automatic e-mail sending</h1></center>"
   ]
  },
  {
   "cell_type": "markdown",
   "metadata": {},
   "source": [
    "<h4>1) Importing the libraries</h4>\n",
    "\n",
    "The libraries <b>BeautifulSoup</b> and <b>Requests</b> are being used to collect the information from de html source code of the website. <b>Pandas</b> and <b>openpyxl</b> can be used to transform our collected data in a excel spreadsheet and finally, we're gonna send the spreedsheet by e-mail to someone."
   ]
  },
  {
   "cell_type": "code",
   "execution_count": 18,
   "metadata": {},
   "outputs": [],
   "source": [
    "from bs4 import BeautifulSoup\n",
    "from matplotlib import fontconfig_pattern\n",
    "import requests\n",
    "import re\n",
    "import pandas as pd\n",
    "import openpyxl\n",
    "import datetime"
   ]
  },
  {
   "cell_type": "markdown",
   "metadata": {},
   "source": [
    "\n",
    "<h4>2) Getting the Source Code</h4>\n",
    "\n",
    "Our source is gonna be the brazilian job website called <b>Vagas.com</b>, and the role is 'Data Analyst'. In the website, two filters are applied. One to show first the most recent jobs and the second is to show only jobs related to 'Data Analyst'."
   ]
  },
  {
   "cell_type": "code",
   "execution_count": 19,
   "metadata": {},
   "outputs": [],
   "source": [
    "html_text = requests.get('https://www.vagas.com.br/vagas-de-analista-de-dados?m%5B%5D=100%25+Home+Office&ordenar_por=mais_recentes').text\n",
    "soup = BeautifulSoup(html_text, 'html5lib')"
   ]
  },
  {
   "cell_type": "markdown",
   "metadata": {},
   "source": [
    "\n",
    "<h4>3) Collecting Information</h4>\n",
    "\n",
    "The informations that we're gonna collect are: <b>Role</b>, <b>Company</b>, <b>Level</b> and <b>Job Link</b>. After we scrap the data, we're gonna storage in a list to further transform our lists in a <b>DataFrame</b> with pandas. "
   ]
  },
  {
   "cell_type": "markdown",
   "metadata": {},
   "source": [
    "Collecting 'Role name' and 'Job link'. The variables are 'lista_cargos' and 'lista_linkvaga' respectively. The list 'site_para_concatenar' will be useful to correct the job link when the data frame is created."
   ]
  },
  {
   "cell_type": "code",
   "execution_count": 20,
   "metadata": {},
   "outputs": [],
   "source": [
    "lista_linkvaga = []\n",
    "lista_cargos = []\n",
    "site_para_concatenar = []\n",
    "\n",
    "cargos = soup.find_all('h2', class_ = 'cargo')\n",
    "for cargo in cargos:\n",
    "    nome_cargo = cargo.find('a', class_ = \"link-detalhes-vaga\").text\n",
    "    link_cargo = cargo.find('a', class_ = \"link-detalhes-vaga\").get('href')\n",
    "    lista_cargos.append(nome_cargo.strip())\n",
    "    lista_linkvaga.append(link_cargo.strip())\n",
    "    site_para_concatenar.append('vagas.com.br')"
   ]
  },
  {
   "cell_type": "markdown",
   "metadata": {},
   "source": [
    "Collecting 'Company' and 'Level'. The variables are 'lista_empresas' and 'lista_niveis' respectively."
   ]
  },
  {
   "cell_type": "code",
   "execution_count": 21,
   "metadata": {},
   "outputs": [],
   "source": [
    "infos = soup.find_all('div', class_ = 'informacoes-header')\n",
    "\n",
    "lista_empresas = []\n",
    "for empresa in infos:\n",
    "    nome_empresa = empresa.find('span', class_ = 'emprVaga').text.replace(' ','')\n",
    "    lista_empresas.append(nome_empresa.strip())\n",
    "\n",
    "lista_niveis = []\n",
    "for nivel in infos:\n",
    "    nome_nivel = nivel.find('span', class_ = 'nivelVaga').text.replace(' ','')\n",
    "    lista_niveis.append(nome_nivel.strip())"
   ]
  },
  {
   "cell_type": "markdown",
   "metadata": {},
   "source": [
    "\n",
    "<h4>4) Creating a DataFrame</h4>\n",
    "\n",
    "Alright, we have our four variables storaged in four lists. Now we will transform those lists in a dictionary called 'data' and finally create the DataFrame. the column 'auxiliar' is used concatenate the site domain 'vagas.com' with the link collected from the source code, generating a correct link in the column 'Link para Vaga'. "
   ]
  },
  {
   "cell_type": "code",
   "execution_count": 22,
   "metadata": {},
   "outputs": [
    {
     "data": {
      "text/html": [
       "<div>\n",
       "<style scoped>\n",
       "    .dataframe tbody tr th:only-of-type {\n",
       "        vertical-align: middle;\n",
       "    }\n",
       "\n",
       "    .dataframe tbody tr th {\n",
       "        vertical-align: top;\n",
       "    }\n",
       "\n",
       "    .dataframe thead th {\n",
       "        text-align: right;\n",
       "    }\n",
       "</style>\n",
       "<table border=\"1\" class=\"dataframe\">\n",
       "  <thead>\n",
       "    <tr style=\"text-align: right;\">\n",
       "      <th></th>\n",
       "      <th>Cargo</th>\n",
       "      <th>Empresa</th>\n",
       "      <th>Nivel</th>\n",
       "      <th>Link para vaga</th>\n",
       "    </tr>\n",
       "  </thead>\n",
       "  <tbody>\n",
       "    <tr>\n",
       "      <th>0</th>\n",
       "      <td>Analista de Sistemas Pcd</td>\n",
       "      <td>HMCONSULTORIADERECURSOSHUMANOS</td>\n",
       "      <td>Pleno</td>\n",
       "      <td>vagas.com.br/vagas/v2370855/analista-de-sistem...</td>\n",
       "    </tr>\n",
       "    <tr>\n",
       "      <th>1</th>\n",
       "      <td>Analista de Dados III - Business Inteligence</td>\n",
       "      <td>AlgarTelecom</td>\n",
       "      <td>Sênior</td>\n",
       "      <td>vagas.com.br/vagas/v2392052/analista-de-dados-...</td>\n",
       "    </tr>\n",
       "    <tr>\n",
       "      <th>2</th>\n",
       "      <td>Analista de Sistemas II (100% Home Office)</td>\n",
       "      <td>Orizon</td>\n",
       "      <td>Pleno</td>\n",
       "      <td>vagas.com.br/vagas/v2392229/analista-de-sistem...</td>\n",
       "    </tr>\n",
       "    <tr>\n",
       "      <th>3</th>\n",
       "      <td>Analista de Vendas Junior</td>\n",
       "      <td>Philips</td>\n",
       "      <td>Júnior/Trainee</td>\n",
       "      <td>vagas.com.br/vagas/v2390839/analista-de-vendas...</td>\n",
       "    </tr>\n",
       "    <tr>\n",
       "      <th>4</th>\n",
       "      <td>Analista Fiscal Pl. São Paulo/sp</td>\n",
       "      <td>InterCementBrasilS.A</td>\n",
       "      <td>Sênior</td>\n",
       "      <td>vagas.com.br/vagas/v2390879/analista-fiscal-pl...</td>\n",
       "    </tr>\n",
       "  </tbody>\n",
       "</table>\n",
       "</div>"
      ],
      "text/plain": [
       "                                          Cargo  \\\n",
       "0                      Analista de Sistemas Pcd   \n",
       "1  Analista de Dados III - Business Inteligence   \n",
       "2    Analista de Sistemas II (100% Home Office)   \n",
       "3                     Analista de Vendas Junior   \n",
       "4              Analista Fiscal Pl. São Paulo/sp   \n",
       "\n",
       "                          Empresa           Nivel  \\\n",
       "0  HMCONSULTORIADERECURSOSHUMANOS           Pleno   \n",
       "1                    AlgarTelecom          Sênior   \n",
       "2                          Orizon           Pleno   \n",
       "3                         Philips  Júnior/Trainee   \n",
       "4            InterCementBrasilS.A          Sênior   \n",
       "\n",
       "                                      Link para vaga  \n",
       "0  vagas.com.br/vagas/v2370855/analista-de-sistem...  \n",
       "1  vagas.com.br/vagas/v2392052/analista-de-dados-...  \n",
       "2  vagas.com.br/vagas/v2392229/analista-de-sistem...  \n",
       "3  vagas.com.br/vagas/v2390839/analista-de-vendas...  \n",
       "4  vagas.com.br/vagas/v2390879/analista-fiscal-pl...  "
      ]
     },
     "execution_count": 22,
     "metadata": {},
     "output_type": "execute_result"
    }
   ],
   "source": [
    "data = {'Cargo':lista_cargos,'Empresa':lista_empresas,\n",
    "'Nivel':lista_niveis,'auxiliar':site_para_concatenar, 'Link':lista_linkvaga}\n",
    "\n",
    "job_data = pd.DataFrame(data)\n",
    "\n",
    "job_data['Link para vaga'] = job_data.auxiliar.str.cat(job_data.Link)\n",
    "\n",
    "job_data.drop('auxiliar', inplace=True, axis = 1)\n",
    "job_data.drop('Link', inplace=True, axis = 1)\n",
    "\n",
    "job_data.head()"
   ]
  },
  {
   "cell_type": "markdown",
   "metadata": {},
   "source": [
    "\n",
    "Now that the DataFrame is created, we can save it in a excel spreadsheet using the method to_excel()."
   ]
  },
  {
   "cell_type": "code",
   "execution_count": 23,
   "metadata": {},
   "outputs": [],
   "source": [
    "arquivo = 'Vagas.xlsx'\n",
    "job_data.to_excel(arquivo)"
   ]
  },
  {
   "cell_type": "markdown",
   "metadata": {},
   "source": [
    "<h4>5) Plotting the variable \"nível\"</h4>"
   ]
  },
  {
   "cell_type": "code",
   "execution_count": 24,
   "metadata": {},
   "outputs": [
    {
     "data": {
      "image/svg+xml": "<svg class=\"main-svg\" xmlns=\"http://www.w3.org/2000/svg\" xmlns:xlink=\"http://www.w3.org/1999/xlink\" width=\"700\" height=\"500\" style=\"\" viewBox=\"0 0 700 500\"><rect x=\"0\" y=\"0\" width=\"700\" height=\"500\" style=\"fill: rgb(255, 255, 255); fill-opacity: 1;\"/><defs id=\"defs-93d7ab\"><g class=\"clips\"><clipPath id=\"clip93d7abxyplot\" class=\"plotclip\"><rect width=\"540\" height=\"320\"/></clipPath><clipPath class=\"axesclip\" id=\"clip93d7abx\"><rect x=\"80\" y=\"0\" width=\"540\" height=\"500\"/></clipPath><clipPath class=\"axesclip\" id=\"clip93d7aby\"><rect x=\"0\" y=\"100\" width=\"700\" height=\"320\"/></clipPath><clipPath class=\"axesclip\" id=\"clip93d7abxy\"><rect x=\"80\" y=\"100\" width=\"540\" height=\"320\"/></clipPath></g><g class=\"gradients\"/><g class=\"patterns\"/></defs><g class=\"bglayer\"><rect class=\"bg\" x=\"80\" y=\"100\" width=\"540\" height=\"320\" style=\"fill: rgb(229, 236, 246); fill-opacity: 1; stroke-width: 0;\"/></g><g class=\"layer-below\"><g class=\"imagelayer\"/><g class=\"shapelayer\"/></g><g class=\"cartesianlayer\"><g class=\"subplot xy\"><g class=\"layer-subplot\"><g class=\"shapelayer\"/><g class=\"imagelayer\"/></g><g class=\"minor-gridlayer\"><g class=\"x\"/><g class=\"y\"/></g><g class=\"gridlayer\"><g class=\"x\"/><g class=\"y\"><path class=\"ygrid crisp\" transform=\"translate(0,382)\" d=\"M80,0h540\" style=\"stroke: rgb(255, 255, 255); stroke-opacity: 1; stroke-width: 1px;\"/><path class=\"ygrid crisp\" transform=\"translate(0,344)\" d=\"M80,0h540\" style=\"stroke: rgb(255, 255, 255); stroke-opacity: 1; stroke-width: 1px;\"/><path class=\"ygrid crisp\" transform=\"translate(0,306)\" d=\"M80,0h540\" style=\"stroke: rgb(255, 255, 255); stroke-opacity: 1; stroke-width: 1px;\"/><path class=\"ygrid crisp\" transform=\"translate(0,268)\" d=\"M80,0h540\" style=\"stroke: rgb(255, 255, 255); stroke-opacity: 1; stroke-width: 1px;\"/><path class=\"ygrid crisp\" transform=\"translate(0,230)\" d=\"M80,0h540\" style=\"stroke: rgb(255, 255, 255); stroke-opacity: 1; stroke-width: 1px;\"/><path class=\"ygrid crisp\" transform=\"translate(0,192)\" d=\"M80,0h540\" style=\"stroke: rgb(255, 255, 255); stroke-opacity: 1; stroke-width: 1px;\"/><path class=\"ygrid crisp\" transform=\"translate(0,154)\" d=\"M80,0h540\" style=\"stroke: rgb(255, 255, 255); stroke-opacity: 1; stroke-width: 1px;\"/><path class=\"ygrid crisp\" transform=\"translate(0,116)\" d=\"M80,0h540\" style=\"stroke: rgb(255, 255, 255); stroke-opacity: 1; stroke-width: 1px;\"/></g></g><g class=\"zerolinelayer\"><path class=\"yzl zl crisp\" transform=\"translate(0,420)\" d=\"M80,0h540\" style=\"stroke: rgb(255, 255, 255); stroke-opacity: 1; stroke-width: 2px;\"/></g><path class=\"xlines-below\"/><path class=\"ylines-below\"/><g class=\"overlines-below\"/><g class=\"xaxislayer-below\"/><g class=\"yaxislayer-below\"/><g class=\"overaxes-below\"/><g class=\"plot\" transform=\"translate(80,100)\" clip-path=\"url(#clip93d7abxyplot)\"><g class=\"barlayer mlayer\"><g class=\"trace bars\" style=\"opacity: 1;\"><g class=\"points\"><g class=\"point\"><path d=\"M18,320V225H162V320Z\" style=\"vector-effect: non-scaling-stroke; opacity: 1; stroke-width: 0.5px; fill: rgb(99, 110, 250); fill-opacity: 1; stroke: rgb(229, 236, 246); stroke-opacity: 1;\"/></g><g class=\"point\"><path d=\"M198,320V16H342V320Z\" style=\"vector-effect: non-scaling-stroke; opacity: 1; stroke-width: 0.5px; fill: rgb(99, 110, 250); fill-opacity: 1; stroke: rgb(229, 236, 246); stroke-opacity: 1;\"/></g><g class=\"point\"><path d=\"M378,320V54H522V320Z\" style=\"vector-effect: non-scaling-stroke; opacity: 1; stroke-width: 0.5px; fill: rgb(99, 110, 250); fill-opacity: 1; stroke: rgb(229, 236, 246); stroke-opacity: 1;\"/></g></g></g></g></g><g class=\"overplot\"/><path class=\"xlines-above crisp\" d=\"M0,0\" style=\"fill: none;\"/><path class=\"ylines-above crisp\" d=\"M0,0\" style=\"fill: none;\"/><g class=\"overlines-above\"/><g class=\"xaxislayer-above\"><g class=\"xtick\"><text text-anchor=\"middle\" x=\"0\" y=\"433\" transform=\"translate(170,0)\" style=\"font-family: 'Open Sans', verdana, arial, sans-serif; font-size: 12px; fill: rgb(42, 63, 95); fill-opacity: 1; white-space: pre; opacity: 1;\">Júnior/Trainee</text></g><g class=\"xtick\"><text text-anchor=\"middle\" x=\"0\" y=\"433\" transform=\"translate(350,0)\" style=\"font-family: 'Open Sans', verdana, arial, sans-serif; font-size: 12px; fill: rgb(42, 63, 95); fill-opacity: 1; white-space: pre; opacity: 1;\">Pleno</text></g><g class=\"xtick\"><text text-anchor=\"middle\" x=\"0\" y=\"433\" transform=\"translate(530,0)\" style=\"font-family: 'Open Sans', verdana, arial, sans-serif; font-size: 12px; fill: rgb(42, 63, 95); fill-opacity: 1; white-space: pre; opacity: 1;\">Sênior</text></g></g><g class=\"yaxislayer-above\"><g class=\"ytick\"><text text-anchor=\"end\" x=\"79\" y=\"4.199999999999999\" transform=\"translate(0,420)\" style=\"font-family: 'Open Sans', verdana, arial, sans-serif; font-size: 12px; fill: rgb(42, 63, 95); fill-opacity: 1; white-space: pre; opacity: 1;\">0</text></g><g class=\"ytick\"><text text-anchor=\"end\" x=\"79\" y=\"4.199999999999999\" style=\"font-family: 'Open Sans', verdana, arial, sans-serif; font-size: 12px; fill: rgb(42, 63, 95); fill-opacity: 1; white-space: pre; opacity: 1;\" transform=\"translate(0,382)\">2</text></g><g class=\"ytick\"><text text-anchor=\"end\" x=\"79\" y=\"4.199999999999999\" style=\"font-family: 'Open Sans', verdana, arial, sans-serif; font-size: 12px; fill: rgb(42, 63, 95); fill-opacity: 1; white-space: pre; opacity: 1;\" transform=\"translate(0,344)\">4</text></g><g class=\"ytick\"><text text-anchor=\"end\" x=\"79\" y=\"4.199999999999999\" style=\"font-family: 'Open Sans', verdana, arial, sans-serif; font-size: 12px; fill: rgb(42, 63, 95); fill-opacity: 1; white-space: pre; opacity: 1;\" transform=\"translate(0,306)\">6</text></g><g class=\"ytick\"><text text-anchor=\"end\" x=\"79\" y=\"4.199999999999999\" style=\"font-family: 'Open Sans', verdana, arial, sans-serif; font-size: 12px; fill: rgb(42, 63, 95); fill-opacity: 1; white-space: pre; opacity: 1;\" transform=\"translate(0,268)\">8</text></g><g class=\"ytick\"><text text-anchor=\"end\" x=\"79\" y=\"4.199999999999999\" style=\"font-family: 'Open Sans', verdana, arial, sans-serif; font-size: 12px; fill: rgb(42, 63, 95); fill-opacity: 1; white-space: pre; opacity: 1;\" transform=\"translate(0,230)\">10</text></g><g class=\"ytick\"><text text-anchor=\"end\" x=\"79\" y=\"4.199999999999999\" style=\"font-family: 'Open Sans', verdana, arial, sans-serif; font-size: 12px; fill: rgb(42, 63, 95); fill-opacity: 1; white-space: pre; opacity: 1;\" transform=\"translate(0,192)\">12</text></g><g class=\"ytick\"><text text-anchor=\"end\" x=\"79\" y=\"4.199999999999999\" style=\"font-family: 'Open Sans', verdana, arial, sans-serif; font-size: 12px; fill: rgb(42, 63, 95); fill-opacity: 1; white-space: pre; opacity: 1;\" transform=\"translate(0,154)\">14</text></g><g class=\"ytick\"><text text-anchor=\"end\" x=\"79\" y=\"4.199999999999999\" style=\"font-family: 'Open Sans', verdana, arial, sans-serif; font-size: 12px; fill: rgb(42, 63, 95); fill-opacity: 1; white-space: pre; opacity: 1;\" transform=\"translate(0,116)\">16</text></g></g><g class=\"overaxes-above\"/></g></g><g class=\"polarlayer\"/><g class=\"smithlayer\"/><g class=\"ternarylayer\"/><g class=\"geolayer\"/><g class=\"funnelarealayer\"/><g class=\"pielayer\"/><g class=\"iciclelayer\"/><g class=\"treemaplayer\"/><g class=\"sunburstlayer\"/><g class=\"glimages\"/><defs id=\"topdefs-93d7ab\"><g class=\"clips\"/><clipPath id=\"legend93d7ab\"><rect width=\"57\" height=\"48\" x=\"0\" y=\"0\"/></clipPath></defs><g class=\"layer-above\"><g class=\"imagelayer\"/><g class=\"shapelayer\"/></g><g class=\"infolayer\"><g class=\"legend\" pointer-events=\"all\" transform=\"translate(630.8,100)\"><rect class=\"bg\" shape-rendering=\"crispEdges\" style=\"stroke: rgb(68, 68, 68); stroke-opacity: 1; fill: rgb(255, 255, 255); fill-opacity: 1; stroke-width: 0px;\" width=\"57\" height=\"48\" x=\"0\" y=\"0\"/><g class=\"scrollbox\" transform=\"\" clip-path=\"url(#legend93d7ab)\"><text class=\"legendtitletext\" text-anchor=\"start\" x=\"2\" y=\"18.2\" style=\"font-family: 'Open Sans', verdana, arial, sans-serif; font-size: 14px; fill: rgb(42, 63, 95); fill-opacity: 1; white-space: pre;\">variable</text><g class=\"groups\" transform=\"\"><g class=\"traces\" transform=\"translate(0,32.7)\" style=\"opacity: 1;\"><text class=\"legendtext\" text-anchor=\"start\" x=\"40\" y=\"4.680000000000001\" style=\"font-family: 'Open Sans', verdana, arial, sans-serif; font-size: 12px; fill: rgb(42, 63, 95); fill-opacity: 1; white-space: pre;\">0</text><g class=\"layers\" style=\"opacity: 1;\"><g class=\"legendfill\"/><g class=\"legendlines\"/><g class=\"legendsymbols\"><g class=\"legendpoints\"><path class=\"legendundefined\" d=\"M6,6H-6V-6H6Z\" transform=\"translate(20,0)\" style=\"stroke-width: 0.5px; fill: rgb(99, 110, 250); fill-opacity: 1; stroke: rgb(229, 236, 246); stroke-opacity: 1;\"/></g></g></g><rect class=\"legendtoggle\" x=\"0\" y=\"-9.5\" width=\"48\" height=\"19\" style=\"fill: rgb(0, 0, 0); fill-opacity: 0;\"/></g></g></g><rect class=\"scrollbar\" rx=\"20\" ry=\"3\" width=\"0\" height=\"0\" style=\"fill: rgb(128, 139, 164); fill-opacity: 1;\" x=\"0\" y=\"0\"/></g><g class=\"g-gtitle\"><text class=\"gtitle\" x=\"35\" y=\"50\" text-anchor=\"start\" dy=\"0em\" style=\"font-family: 'Open Sans', verdana, arial, sans-serif; font-size: 17px; fill: rgb(42, 63, 95); opacity: 1; font-weight: normal; white-space: pre;\">jobs by level</text></g><g class=\"g-xtitle\"><text class=\"xtitle\" x=\"350\" y=\"459.8\" text-anchor=\"middle\" style=\"font-family: 'Open Sans', verdana, arial, sans-serif; font-size: 14px; fill: rgb(42, 63, 95); opacity: 1; font-weight: normal; white-space: pre;\">Nivel</text></g><g class=\"g-ytitle\"><text class=\"ytitle\" transform=\"rotate(-90,38.2,260)\" x=\"38.2\" y=\"260\" text-anchor=\"middle\" style=\"font-family: 'Open Sans', verdana, arial, sans-serif; font-size: 14px; fill: rgb(42, 63, 95); opacity: 1; font-weight: normal; white-space: pre;\">value</text></g></g></svg>"
     },
     "metadata": {},
     "output_type": "display_data"
    }
   ],
   "source": [
    "import plotly.express as px\n",
    "group = job_data.groupby(['Nivel'],as_index=True).size()\n",
    "fig = px.bar(group, title='jobs by level')\n",
    "fig.show(renderer=\"svg\")\n"
   ]
  },
  {
   "cell_type": "markdown",
   "metadata": {},
   "source": [
    "\n",
    "<h4>6) Sending an e-mail</h4>\n",
    "\n",
    "Finally, the user will decide if he wants to receive a e-mail with the job spreadsheet. The function 'enviar_email()' takes care of all the parts of an e-mail like Subject, from, to and attachments. For this, the libraries smtplib and EmailMessage are being used. The variable msg will storage the parts of an e-mail, which will be used inside send_message ()"
   ]
  },
  {
   "cell_type": "code",
   "execution_count": 25,
   "metadata": {},
   "outputs": [],
   "source": [
    "import os\n",
    "import smtplib\n",
    "from email.message import EmailMessage"
   ]
  },
  {
   "cell_type": "code",
   "execution_count": 26,
   "metadata": {},
   "outputs": [
    {
     "name": "stdout",
     "output_type": "stream",
     "text": [
      "E-mail Não Enviado\n"
     ]
    }
   ],
   "source": [
    "resp = input('Deseja enviar por email?  (s/n) ')\n",
    "\n",
    "def enviar_email():\n",
    "\n",
    "    EMAIL_ADRESS = 'lucasazv99@gmail.com'\n",
    "    EMAIL_PASSWORD = os.environ.get('PythonTest')\n",
    "    now = datetime.datetime.now()\n",
    "\n",
    "    msg = EmailMessage()\n",
    "    msg['Subject'] = f'Vagas Mais Recentes: Analista de Dados - {now}'\n",
    "    msg['From'] = EMAIL_ADRESS\n",
    "    msg['To'] = 'lucasazv99@gmail.com'\n",
    "    msg.set_content( f'Planilha com as Vagas do site Vagas.com atualizado em - {now}')\n",
    "\n",
    "    files = [arquivo]\n",
    "\n",
    "    for file in files:\n",
    "        with open(file, 'rb') as j:\n",
    "            file_data = j.read()\n",
    "            file_name = j.name\n",
    "\n",
    "        msg.add_attachment(file_data, maintype='application', subtype='octet-stream', filename=file_name )\n",
    "\n",
    "    with smtplib.SMTP_SSL('smtp.gmail.com', 465) as smtp:\n",
    "        smtp.login(EMAIL_ADRESS,EMAIL_PASSWORD)\n",
    "        smtp.send_message(msg)\n",
    "\n",
    "if resp == 's':\n",
    "    enviar_email()\n",
    "    print('E-mail Enviado com Sucesso!')\n",
    "else:\n",
    "    print('E-mail Não Enviado')"
   ]
  },
  {
   "cell_type": "markdown",
   "metadata": {},
   "source": [
    "\n",
    "In this case, I'm sending a e-mail to myself for testing purpose"
   ]
  }
 ],
 "metadata": {
  "interpreter": {
   "hash": "166d5f126c88ccbf3d555564b4abc5f23444d85b72380c90241acc5246aa4945"
  },
  "kernelspec": {
   "display_name": "Python 3.10.2 64-bit",
   "language": "python",
   "name": "python3"
  },
  "language_info": {
   "codemirror_mode": {
    "name": "ipython",
    "version": 3
   },
   "file_extension": ".py",
   "mimetype": "text/x-python",
   "name": "python",
   "nbconvert_exporter": "python",
   "pygments_lexer": "ipython3",
   "version": "3.10.2"
  },
  "orig_nbformat": 4
 },
 "nbformat": 4,
 "nbformat_minor": 2
}
